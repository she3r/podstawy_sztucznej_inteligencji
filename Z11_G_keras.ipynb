{
 "cells": [
  {
   "cell_type": "code",
   "execution_count": 1,
   "metadata": {
    "pycharm": {
     "name": "#%%\n"
    }
   },
   "outputs": [
    {
     "name": "stdout",
     "output_type": "stream",
     "text": [
      "2.8.0\n",
      "2.8.0\n"
     ]
    }
   ],
   "source": [
    "import tensorflow as tf\n",
    "from tensorflow import keras\n",
    "print(tf.__version__)\n",
    "\n",
    "print(keras.__version__)"
   ]
  },
  {
   "cell_type": "code",
   "execution_count": 2,
   "metadata": {
    "pycharm": {
     "name": "#%%\n"
    }
   },
   "outputs": [],
   "source": [
    "import numpy as np\n",
    "import pandas as pd\n",
    "import matplotlib.pyplot as plt\n",
    "import os"
   ]
  },
  {
   "cell_type": "code",
   "execution_count": 3,
   "metadata": {
    "pycharm": {
     "name": "#%%\n"
    }
   },
   "outputs": [
    {
     "name": "stderr",
     "output_type": "stream",
     "text": [
      "C:\\Users\\sch03\\AppData\\Local\\Temp/ipykernel_14688/1283179213.py:6: ParserWarning: Falling back to the 'python' engine because the 'c' engine does not support regex separators (separators > 1 char and different from '\\s+' are interpreted as regex); you can avoid this warning by specifying engine='python'.\n",
      "  train_set = pd.read_csv('Dane/adult/adult.data', sep=\", \",header = None)\n",
      "C:\\Users\\sch03\\AppData\\Local\\Temp/ipykernel_14688/1283179213.py:7: ParserWarning: Falling back to the 'python' engine because the 'c' engine does not support regex separators (separators > 1 char and different from '\\s+' are interpreted as regex); you can avoid this warning by specifying engine='python'.\n",
      "  test_set = pd.read_csv('Dane/adult/adult.test', sep=\", \",skiprows = 1, header = None) # Make sure to skip a row for the test set\n"
     ]
    },
    {
     "data": {
      "text/plain": "   age         workclass  fnlwgt  education  education_num  \\\n0   39         State-gov   77516  Bachelors             13   \n1   50  Self-emp-not-inc   83311  Bachelors             13   \n2   38           Private  215646    HS-grad              9   \n3   53           Private  234721       11th              7   \n4   28           Private  338409  Bachelors             13   \n\n       marital_status         occupation   relationship   race     sex  \\\n0       Never-married       Adm-clerical  Not-in-family  White    Male   \n1  Married-civ-spouse    Exec-managerial        Husband  White    Male   \n2            Divorced  Handlers-cleaners  Not-in-family  White    Male   \n3  Married-civ-spouse  Handlers-cleaners        Husband  Black    Male   \n4  Married-civ-spouse     Prof-specialty           Wife  Black  Female   \n\n   capital_gain  capital_loss  hours_per_week native_country wage_class  \n0          2174             0              40  United-States      <=50K  \n1             0             0              13  United-States      <=50K  \n2             0             0              40  United-States      <=50K  \n3             0             0              40  United-States      <=50K  \n4             0             0              40           Cuba      <=50K  ",
      "text/html": "<div>\n<style scoped>\n    .dataframe tbody tr th:only-of-type {\n        vertical-align: middle;\n    }\n\n    .dataframe tbody tr th {\n        vertical-align: top;\n    }\n\n    .dataframe thead th {\n        text-align: right;\n    }\n</style>\n<table border=\"1\" class=\"dataframe\">\n  <thead>\n    <tr style=\"text-align: right;\">\n      <th></th>\n      <th>age</th>\n      <th>workclass</th>\n      <th>fnlwgt</th>\n      <th>education</th>\n      <th>education_num</th>\n      <th>marital_status</th>\n      <th>occupation</th>\n      <th>relationship</th>\n      <th>race</th>\n      <th>sex</th>\n      <th>capital_gain</th>\n      <th>capital_loss</th>\n      <th>hours_per_week</th>\n      <th>native_country</th>\n      <th>wage_class</th>\n    </tr>\n  </thead>\n  <tbody>\n    <tr>\n      <th>0</th>\n      <td>39</td>\n      <td>State-gov</td>\n      <td>77516</td>\n      <td>Bachelors</td>\n      <td>13</td>\n      <td>Never-married</td>\n      <td>Adm-clerical</td>\n      <td>Not-in-family</td>\n      <td>White</td>\n      <td>Male</td>\n      <td>2174</td>\n      <td>0</td>\n      <td>40</td>\n      <td>United-States</td>\n      <td>&lt;=50K</td>\n    </tr>\n    <tr>\n      <th>1</th>\n      <td>50</td>\n      <td>Self-emp-not-inc</td>\n      <td>83311</td>\n      <td>Bachelors</td>\n      <td>13</td>\n      <td>Married-civ-spouse</td>\n      <td>Exec-managerial</td>\n      <td>Husband</td>\n      <td>White</td>\n      <td>Male</td>\n      <td>0</td>\n      <td>0</td>\n      <td>13</td>\n      <td>United-States</td>\n      <td>&lt;=50K</td>\n    </tr>\n    <tr>\n      <th>2</th>\n      <td>38</td>\n      <td>Private</td>\n      <td>215646</td>\n      <td>HS-grad</td>\n      <td>9</td>\n      <td>Divorced</td>\n      <td>Handlers-cleaners</td>\n      <td>Not-in-family</td>\n      <td>White</td>\n      <td>Male</td>\n      <td>0</td>\n      <td>0</td>\n      <td>40</td>\n      <td>United-States</td>\n      <td>&lt;=50K</td>\n    </tr>\n    <tr>\n      <th>3</th>\n      <td>53</td>\n      <td>Private</td>\n      <td>234721</td>\n      <td>11th</td>\n      <td>7</td>\n      <td>Married-civ-spouse</td>\n      <td>Handlers-cleaners</td>\n      <td>Husband</td>\n      <td>Black</td>\n      <td>Male</td>\n      <td>0</td>\n      <td>0</td>\n      <td>40</td>\n      <td>United-States</td>\n      <td>&lt;=50K</td>\n    </tr>\n    <tr>\n      <th>4</th>\n      <td>28</td>\n      <td>Private</td>\n      <td>338409</td>\n      <td>Bachelors</td>\n      <td>13</td>\n      <td>Married-civ-spouse</td>\n      <td>Prof-specialty</td>\n      <td>Wife</td>\n      <td>Black</td>\n      <td>Female</td>\n      <td>0</td>\n      <td>0</td>\n      <td>40</td>\n      <td>Cuba</td>\n      <td>&lt;=50K</td>\n    </tr>\n  </tbody>\n</table>\n</div>"
     },
     "execution_count": 3,
     "metadata": {},
     "output_type": "execute_result"
    }
   ],
   "source": [
    "# Wczytaj dane treningowe i testowe\n",
    "import numpy as np\n",
    "import matplotlib.pyplot as plt\n",
    "import pandas as pd\n",
    "\n",
    "train_set = pd.read_csv('Dane/adult/adult.data', sep=\", \",header = None)\n",
    "test_set = pd.read_csv('Dane/adult/adult.test', sep=\", \",skiprows = 1, header = None) # Make sure to skip a row for the test set\n",
    "\n",
    "col_labels = ['age', 'workclass', 'fnlwgt', 'education', 'education_num', 'marital_status', 'occupation', \n",
    "              'relationship', 'race', 'sex', 'capital_gain', 'capital_loss', 'hours_per_week', 'native_country',\n",
    "             'wage_class']\n",
    "train_set.columns = col_labels\n",
    "test_set.columns = col_labels\n",
    "\n",
    "train = train_set.replace('?', np.nan).dropna()\n",
    "test = test_set.replace('?', np.nan).dropna()\n",
    "\n",
    "train_set.head()\n"
   ]
  },
  {
   "cell_type": "markdown",
   "metadata": {
    "pycharm": {
     "name": "#%% md\n"
    }
   },
   "source": [
    "# Zad.\n",
    "Zróbmy szybki preprocesing"
   ]
  },
  {
   "cell_type": "code",
   "execution_count": 4,
   "metadata": {
    "pycharm": {
     "name": "#%%\n"
    }
   },
   "outputs": [],
   "source": [
    "dataset = pd.concat([train,test])\n",
    "\n",
    "dataset['wage_class'] = dataset.wage_class.replace({'<=50K.': 0,'<=50K':0, '>50K.':1, '>50K':1})\n",
    "\n",
    "dataset.drop([\"fnlwgt\"],axis=1,inplace=True)\n",
    "\n",
    "dataset.drop([\"education\"],axis=1,inplace=True)\n",
    "\n",
    "x = dataset.groupby('native_country')[\"wage_class\"].mean()\n",
    "\n",
    "d = dict(pd.cut(x[x.index!=\" United-States\"],5,labels=range(5)))\n",
    "\n",
    "dataset['native_country'] = dataset['native_country'].replace(d)\n",
    "\n",
    "dataset = pd.get_dummies(dataset,drop_first=True)\n",
    "\n",
    "train = dataset.iloc[:train.shape[0]]\n",
    "test = dataset.iloc[train.shape[0]:]\n",
    "\n",
    "X_train = train.drop(\"wage_class\",axis=1)\n",
    "y_train = train.wage_class\n",
    "\n",
    "X_test = test.drop(\"wage_class\",axis=1)\n",
    "y_test = test.wage_class\n"
   ]
  },
  {
   "cell_type": "code",
   "execution_count": 4,
   "metadata": {
    "pycharm": {
     "name": "#%%\n"
    }
   },
   "outputs": [],
   "source": []
  },
  {
   "cell_type": "code",
   "execution_count": 5,
   "outputs": [
    {
     "name": "stdout",
     "output_type": "stream",
     "text": [
      "Model: \"sequential\"\n",
      "_________________________________________________________________\n",
      " Layer (type)                Output Shape              Param #   \n",
      "=================================================================\n",
      " dense (Dense)               (None, 100)               4200      \n",
      "                                                                 \n",
      " dense_1 (Dense)             (None, 50)                5050      \n",
      "                                                                 \n",
      " dense_2 (Dense)             (None, 10)                510       \n",
      "                                                                 \n",
      " dense_3 (Dense)             (None, 1)                 11        \n",
      "                                                                 \n",
      "=================================================================\n",
      "Total params: 9,771\n",
      "Trainable params: 9,771\n",
      "Non-trainable params: 0\n",
      "_________________________________________________________________\n"
     ]
    }
   ],
   "source": [
    "from keras.models import Sequential\n",
    "from keras.layers import Dense\n",
    "\n",
    "from keras.callbacks import History\n",
    "\n",
    "history1 = History()\n",
    "model = Sequential()\n",
    "model.add(Dense(100,activation=\"sigmoid\", input_shape=(X_train.shape[1],)))\n",
    "model.add(Dense(50,activation=\"sigmoid\"))\n",
    "model.add(Dense(10,activation=\"sigmoid\"))\n",
    "model.add(Dense(1,activation=\"sigmoid\"))\n",
    "model.summary()"
   ],
   "metadata": {
    "collapsed": false,
    "pycharm": {
     "name": "#%%\n"
    }
   }
  },
  {
   "cell_type": "code",
   "execution_count": 6,
   "outputs": [],
   "source": [
    "model.compile(loss=\"binary_crossentropy\", optimizer=\"Adam\", metrics=[\"accuracy\"])"
   ],
   "metadata": {
    "collapsed": false,
    "pycharm": {
     "name": "#%%\n"
    }
   }
  },
  {
   "cell_type": "code",
   "execution_count": 7,
   "outputs": [
    {
     "name": "stdout",
     "output_type": "stream",
     "text": [
      "Epoch 1/30\n",
      "943/943 [==============================] - 3s 3ms/step - loss: 0.4632 - accuracy: 0.7810 - val_loss: 0.3841 - val_accuracy: 0.8134\n",
      "Epoch 2/30\n",
      "943/943 [==============================] - 2s 3ms/step - loss: 0.3839 - accuracy: 0.8104 - val_loss: 0.3783 - val_accuracy: 0.8153\n",
      "Epoch 3/30\n",
      "943/943 [==============================] - 3s 3ms/step - loss: 0.3768 - accuracy: 0.8141 - val_loss: 0.3713 - val_accuracy: 0.8137\n",
      "Epoch 4/30\n",
      "943/943 [==============================] - 2s 3ms/step - loss: 0.3721 - accuracy: 0.8152 - val_loss: 0.3770 - val_accuracy: 0.8160\n",
      "Epoch 5/30\n",
      "943/943 [==============================] - 2s 2ms/step - loss: 0.3723 - accuracy: 0.8123 - val_loss: 0.3702 - val_accuracy: 0.8149\n",
      "Epoch 6/30\n",
      "943/943 [==============================] - 3s 3ms/step - loss: 0.3696 - accuracy: 0.8150 - val_loss: 0.3642 - val_accuracy: 0.8169\n",
      "Epoch 7/30\n",
      "943/943 [==============================] - 2s 3ms/step - loss: 0.3656 - accuracy: 0.8184 - val_loss: 0.3600 - val_accuracy: 0.8288\n",
      "Epoch 8/30\n",
      "943/943 [==============================] - 3s 3ms/step - loss: 0.3563 - accuracy: 0.8291 - val_loss: 0.3531 - val_accuracy: 0.8347\n",
      "Epoch 9/30\n",
      "943/943 [==============================] - 2s 2ms/step - loss: 0.3534 - accuracy: 0.8311 - val_loss: 0.3575 - val_accuracy: 0.8232\n",
      "Epoch 10/30\n",
      "943/943 [==============================] - 2s 2ms/step - loss: 0.3500 - accuracy: 0.8315 - val_loss: 0.3496 - val_accuracy: 0.8339\n",
      "Epoch 11/30\n",
      "943/943 [==============================] - 2s 2ms/step - loss: 0.3477 - accuracy: 0.8314 - val_loss: 0.3462 - val_accuracy: 0.8355\n",
      "Epoch 12/30\n",
      "943/943 [==============================] - 2s 2ms/step - loss: 0.3534 - accuracy: 0.8246 - val_loss: 0.3632 - val_accuracy: 0.8193\n",
      "Epoch 13/30\n",
      "943/943 [==============================] - 2s 2ms/step - loss: 0.3551 - accuracy: 0.8240 - val_loss: 0.3443 - val_accuracy: 0.8355\n",
      "Epoch 14/30\n",
      "943/943 [==============================] - 2s 2ms/step - loss: 0.3460 - accuracy: 0.8310 - val_loss: 0.3541 - val_accuracy: 0.8195\n",
      "Epoch 15/30\n",
      "943/943 [==============================] - 2s 2ms/step - loss: 0.3469 - accuracy: 0.8329 - val_loss: 0.3487 - val_accuracy: 0.8328\n",
      "Epoch 16/30\n",
      "943/943 [==============================] - 2s 2ms/step - loss: 0.3470 - accuracy: 0.8319 - val_loss: 0.3413 - val_accuracy: 0.8354\n",
      "Epoch 17/30\n",
      "943/943 [==============================] - 2s 2ms/step - loss: 0.3475 - accuracy: 0.8329 - val_loss: 0.3591 - val_accuracy: 0.8220\n",
      "Epoch 18/30\n",
      "943/943 [==============================] - 2s 2ms/step - loss: 0.3470 - accuracy: 0.8317 - val_loss: 0.3551 - val_accuracy: 0.8274\n",
      "Epoch 19/30\n",
      "943/943 [==============================] - 2s 2ms/step - loss: 0.3457 - accuracy: 0.8311 - val_loss: 0.3444 - val_accuracy: 0.8325\n",
      "Epoch 20/30\n",
      "943/943 [==============================] - 2s 2ms/step - loss: 0.3464 - accuracy: 0.8309 - val_loss: 0.3453 - val_accuracy: 0.8347\n",
      "Epoch 21/30\n",
      "943/943 [==============================] - 2s 2ms/step - loss: 0.3443 - accuracy: 0.8343 - val_loss: 0.3495 - val_accuracy: 0.8315\n",
      "Epoch 22/30\n",
      "943/943 [==============================] - 2s 2ms/step - loss: 0.3448 - accuracy: 0.8326 - val_loss: 0.3504 - val_accuracy: 0.8319\n",
      "Epoch 23/30\n",
      "943/943 [==============================] - 2s 2ms/step - loss: 0.3496 - accuracy: 0.8324 - val_loss: 0.3560 - val_accuracy: 0.8277\n",
      "Epoch 24/30\n",
      "943/943 [==============================] - 3s 3ms/step - loss: 0.3453 - accuracy: 0.8311 - val_loss: 0.3449 - val_accuracy: 0.8361\n",
      "Epoch 25/30\n",
      "943/943 [==============================] - 2s 3ms/step - loss: 0.3444 - accuracy: 0.8319 - val_loss: 0.3551 - val_accuracy: 0.8271\n",
      "Epoch 26/30\n",
      "943/943 [==============================] - 3s 3ms/step - loss: 0.3435 - accuracy: 0.8318 - val_loss: 0.3410 - val_accuracy: 0.8350\n",
      "Epoch 27/30\n",
      "943/943 [==============================] - 2s 2ms/step - loss: 0.3439 - accuracy: 0.8356 - val_loss: 0.3535 - val_accuracy: 0.8285\n",
      "Epoch 28/30\n",
      "943/943 [==============================] - 2s 2ms/step - loss: 0.3428 - accuracy: 0.8350 - val_loss: 0.3520 - val_accuracy: 0.8341\n",
      "Epoch 29/30\n",
      "943/943 [==============================] - 2s 2ms/step - loss: 0.3440 - accuracy: 0.8318 - val_loss: 0.3532 - val_accuracy: 0.8299\n",
      "Epoch 30/30\n",
      "943/943 [==============================] - 2s 2ms/step - loss: 0.3399 - accuracy: 0.8343 - val_loss: 0.3782 - val_accuracy: 0.8262\n"
     ]
    }
   ],
   "source": [
    "history1 = model.fit(X_train, y_train, epochs=30, batch_size=32, validation_data=(X_test, y_test))\n",
    "#history = model.fit(X_train, y_train, validation_data= (X_test, y_test), batch_size=32, epochs=100)"
   ],
   "metadata": {
    "collapsed": false,
    "pycharm": {
     "name": "#%%\n"
    }
   }
  },
  {
   "cell_type": "code",
   "execution_count": 7,
   "outputs": [],
   "source": [],
   "metadata": {
    "collapsed": false,
    "pycharm": {
     "name": "#%%\n"
    }
   }
  },
  {
   "cell_type": "code",
   "execution_count": 8,
   "outputs": [
    {
     "data": {
      "text/plain": "<Figure size 576x360 with 1 Axes>",
      "image/png": "[encoded data removed]"
     },
     "metadata": {},
     "output_type": "display_data"
    }
   ],
   "source": [
    "import pandas as pd\n",
    "\n",
    "pd.DataFrame(history1.history).plot(figsize=(8, 5))\n",
    "plt.grid(True)\n",
    "plt.gca().set_ylim(0, 1)\n",
    "plt.show()"
   ],
   "metadata": {
    "collapsed": false,
    "pycharm": {
     "name": "#%%\n"
    }
   }
  },
  {
   "cell_type": "code",
   "execution_count": 9,
   "outputs": [
    {
     "name": "stdout",
     "output_type": "stream",
     "text": [
      "471/471 [==============================] - 1s 2ms/step - loss: 0.3782 - accuracy: 0.8262\n"
     ]
    },
    {
     "data": {
      "text/plain": "[0.3782369792461395, 0.8261620402336121]"
     },
     "execution_count": 9,
     "metadata": {},
     "output_type": "execute_result"
    }
   ],
   "source": [
    "model.evaluate(X_test,y_test)"
   ],
   "metadata": {
    "collapsed": false,
    "pycharm": {
     "name": "#%%\n"
    }
   }
  },
  {
   "cell_type": "code",
   "execution_count": 10,
   "outputs": [
    {
     "data": {
      "text/plain": "0.8261620185922974"
     },
     "execution_count": 10,
     "metadata": {},
     "output_type": "execute_result"
    }
   ],
   "source": [
    "from sklearn import metrics\n",
    "metrics.accuracy_score(y_true= y_test, y_pred= (model.predict(X_test)>0.5))"
   ],
   "metadata": {
    "collapsed": false,
    "pycharm": {
     "name": "#%%\n"
    }
   }
  },
  {
   "cell_type": "markdown",
   "source": [
    "# Zad\n",
    "\n",
    "Porównaj powyższy wynik z nauką na danych znormalizowanych."
   ],
   "metadata": {
    "collapsed": false,
    "pycharm": {
     "name": "#%% md\n"
    }
   }
  },
  {
   "cell_type": "code",
   "execution_count": 11,
   "outputs": [],
   "source": [
    "from sklearn.preprocessing import StandardScaler\n",
    "\n",
    "X_train = train.drop(\"wage_class\",axis=1)\n",
    "y_train = train.wage_class\n",
    "\n",
    "X_test = test.drop(\"wage_class\",axis=1)\n",
    "y_test = test.wage_class\n",
    "\n",
    "standard_scaler = StandardScaler()\n",
    "X_train = standard_scaler.fit_transform(X_train)\n",
    "\n",
    "X_test = standard_scaler.transform(X_test)\n",
    "\n"
   ],
   "metadata": {
    "collapsed": false,
    "pycharm": {
     "name": "#%%\n"
    }
   }
  },
  {
   "cell_type": "code",
   "execution_count": 12,
   "outputs": [
    {
     "name": "stdout",
     "output_type": "stream",
     "text": [
      "Epoch 1/30\n",
      "943/943 [==============================] - 3s 3ms/step - loss: 0.3672 - accuracy: 0.8312 - val_loss: 0.3309 - val_accuracy: 0.8483\n",
      "Epoch 2/30\n",
      "943/943 [==============================] - 2s 3ms/step - loss: 0.3247 - accuracy: 0.8481 - val_loss: 0.3299 - val_accuracy: 0.8440\n",
      "Epoch 3/30\n",
      "943/943 [==============================] - 2s 3ms/step - loss: 0.3207 - accuracy: 0.8493 - val_loss: 0.3257 - val_accuracy: 0.8472\n",
      "Epoch 4/30\n",
      "943/943 [==============================] - 3s 3ms/step - loss: 0.3183 - accuracy: 0.8509 - val_loss: 0.3259 - val_accuracy: 0.8466\n",
      "Epoch 5/30\n",
      "943/943 [==============================] - 2s 3ms/step - loss: 0.3165 - accuracy: 0.8517 - val_loss: 0.3247 - val_accuracy: 0.8486\n",
      "Epoch 6/30\n",
      "943/943 [==============================] - 2s 3ms/step - loss: 0.3147 - accuracy: 0.8519 - val_loss: 0.3238 - val_accuracy: 0.8469\n",
      "Epoch 7/30\n",
      "943/943 [==============================] - 3s 3ms/step - loss: 0.3135 - accuracy: 0.8524 - val_loss: 0.3254 - val_accuracy: 0.8458\n",
      "Epoch 8/30\n",
      "943/943 [==============================] - 3s 3ms/step - loss: 0.3116 - accuracy: 0.8549 - val_loss: 0.3217 - val_accuracy: 0.8481\n",
      "Epoch 9/30\n",
      "943/943 [==============================] - 3s 3ms/step - loss: 0.3100 - accuracy: 0.8541 - val_loss: 0.3241 - val_accuracy: 0.8467\n",
      "Epoch 10/30\n",
      "943/943 [==============================] - 3s 3ms/step - loss: 0.3087 - accuracy: 0.8554 - val_loss: 0.3215 - val_accuracy: 0.8493\n",
      "Epoch 11/30\n",
      "943/943 [==============================] - 3s 3ms/step - loss: 0.3074 - accuracy: 0.8562 - val_loss: 0.3210 - val_accuracy: 0.8485\n",
      "Epoch 12/30\n",
      "943/943 [==============================] - 3s 3ms/step - loss: 0.3056 - accuracy: 0.8569 - val_loss: 0.3209 - val_accuracy: 0.8500\n",
      "Epoch 13/30\n",
      "943/943 [==============================] - 3s 3ms/step - loss: 0.3039 - accuracy: 0.8578 - val_loss: 0.3190 - val_accuracy: 0.8509\n",
      "Epoch 14/30\n",
      "943/943 [==============================] - 3s 3ms/step - loss: 0.3020 - accuracy: 0.8594 - val_loss: 0.3219 - val_accuracy: 0.8497\n",
      "Epoch 15/30\n",
      "943/943 [==============================] - 3s 3ms/step - loss: 0.3011 - accuracy: 0.8592 - val_loss: 0.3204 - val_accuracy: 0.8521\n",
      "Epoch 16/30\n",
      "943/943 [==============================] - 3s 3ms/step - loss: 0.2996 - accuracy: 0.8603 - val_loss: 0.3199 - val_accuracy: 0.8491\n",
      "Epoch 17/30\n",
      "943/943 [==============================] - 3s 3ms/step - loss: 0.2981 - accuracy: 0.8603 - val_loss: 0.3198 - val_accuracy: 0.8513\n",
      "Epoch 18/30\n",
      "943/943 [==============================] - 3s 3ms/step - loss: 0.2960 - accuracy: 0.8612 - val_loss: 0.3229 - val_accuracy: 0.8501\n",
      "Epoch 19/30\n",
      "943/943 [==============================] - 3s 3ms/step - loss: 0.2948 - accuracy: 0.8627 - val_loss: 0.3201 - val_accuracy: 0.8516\n",
      "Epoch 20/30\n",
      "943/943 [==============================] - 3s 3ms/step - loss: 0.2938 - accuracy: 0.8626 - val_loss: 0.3229 - val_accuracy: 0.8498\n",
      "Epoch 21/30\n",
      "943/943 [==============================] - 3s 3ms/step - loss: 0.2930 - accuracy: 0.8623 - val_loss: 0.3228 - val_accuracy: 0.8519\n",
      "Epoch 22/30\n",
      "943/943 [==============================] - 3s 3ms/step - loss: 0.2920 - accuracy: 0.8631 - val_loss: 0.3235 - val_accuracy: 0.8495\n",
      "Epoch 23/30\n",
      "943/943 [==============================] - 3s 3ms/step - loss: 0.2911 - accuracy: 0.8640 - val_loss: 0.3221 - val_accuracy: 0.8502\n",
      "Epoch 24/30\n",
      "943/943 [==============================] - 3s 4ms/step - loss: 0.2894 - accuracy: 0.8644 - val_loss: 0.3276 - val_accuracy: 0.8468\n",
      "Epoch 25/30\n",
      "943/943 [==============================] - 3s 3ms/step - loss: 0.2894 - accuracy: 0.8653 - val_loss: 0.3247 - val_accuracy: 0.8487\n",
      "Epoch 26/30\n",
      "943/943 [==============================] - 3s 3ms/step - loss: 0.2875 - accuracy: 0.8657 - val_loss: 0.3253 - val_accuracy: 0.8508\n",
      "Epoch 27/30\n",
      "943/943 [==============================] - 3s 3ms/step - loss: 0.2862 - accuracy: 0.8648 - val_loss: 0.3310 - val_accuracy: 0.8482\n",
      "Epoch 28/30\n",
      "943/943 [==============================] - 3s 3ms/step - loss: 0.2860 - accuracy: 0.8658 - val_loss: 0.3258 - val_accuracy: 0.8506\n",
      "Epoch 29/30\n",
      "943/943 [==============================] - 3s 3ms/step - loss: 0.2850 - accuracy: 0.8660 - val_loss: 0.3293 - val_accuracy: 0.8493\n",
      "Epoch 30/30\n",
      "943/943 [==============================] - 3s 3ms/step - loss: 0.2840 - accuracy: 0.8658 - val_loss: 0.3302 - val_accuracy: 0.8477\n"
     ]
    }
   ],
   "source": [
    "history2 = model.fit(X_train, y_train, epochs=30, batch_size=32, validation_data=(X_test, y_test))"
   ],
   "metadata": {
    "collapsed": false,
    "pycharm": {
     "name": "#%%\n"
    }
   }
  },
  {
   "cell_type": "markdown",
   "source": [
    "# Zad. \n",
    "Stwórz wykres porównujący metody. "
   ],
   "metadata": {
    "collapsed": false,
    "pycharm": {
     "name": "#%% md\n"
    }
   }
  },
  {
   "cell_type": "code",
   "execution_count": 13,
   "outputs": [
    {
     "data": {
      "text/plain": "<Figure size 576x360 with 1 Axes>",
      "image/png": "[encoded data removed]"
     },
     "metadata": {},
     "output_type": "display_data"
    }
   ],
   "source": [
    "history1.history['scaled_loss'] = history2.history['loss']\n",
    "history1.history['scaled_accuracy'] = history2.history['accuracy']\n",
    "\n",
    "#history1.history.drop(['val_loss','val_accuracy'], axis=1, inplace=True)\n",
    "del history1.history['val_loss']\n",
    "del history1.history['val_accuracy']\n",
    "\n",
    "pd.DataFrame(history1.history).plot(figsize=(8, 5))\n",
    "plt.grid(True)\n",
    "plt.gca().set_ylim(0, 1)\n",
    "plt.show()"
   ],
   "metadata": {
    "collapsed": false,
    "pycharm": {
     "name": "#%%\n"
    }
   }
  }
 ],
 "metadata": {
  "kernelspec": {
   "display_name": "Python 3",
   "language": "python",
   "name": "python3"
  },
  "language_info": {
   "codemirror_mode": {
    "name": "ipython",
    "version": 3
   },
   "file_extension": ".py",
   "mimetype": "text/x-python",
   "name": "python",
   "nbconvert_exporter": "python",
   "pygments_lexer": "ipython3",
   "version": "3.8.9"
  }
 },
 "nbformat": 4,
 "nbformat_minor": 4
}