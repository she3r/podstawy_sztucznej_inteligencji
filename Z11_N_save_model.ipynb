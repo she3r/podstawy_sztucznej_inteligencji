{
 "cells": [
  {
   "cell_type": "code",
   "execution_count": 1,
   "metadata": {
    "pycharm": {
     "name": "#%%\n"
    }
   },
   "outputs": [
    {
     "name": "stdout",
     "output_type": "stream",
     "text": [
      "2.8.0\n",
      "2.8.0\n"
     ]
    }
   ],
   "source": [
    "import tensorflow as tf\n",
    "from tensorflow import keras\n",
    "print(tf.__version__)\n",
    "\n",
    "print(keras.__version__)"
   ]
  },
  {
   "cell_type": "code",
   "execution_count": 2,
   "metadata": {
    "pycharm": {
     "name": "#%%\n"
    }
   },
   "outputs": [],
   "source": [
    "import numpy as np\n",
    "import pandas as pd\n",
    "import matplotlib.pyplot as plt\n",
    "import os"
   ]
  },
  {
   "cell_type": "code",
   "execution_count": 3,
   "metadata": {
    "pycharm": {
     "name": "#%%\n"
    }
   },
   "outputs": [
    {
     "name": "stderr",
     "output_type": "stream",
     "text": [
      "C:\\Users\\sch03\\AppData\\Local\\Temp/ipykernel_10848/1283179213.py:6: ParserWarning: Falling back to the 'python' engine because the 'c' engine does not support regex separators (separators > 1 char and different from '\\s+' are interpreted as regex); you can avoid this warning by specifying engine='python'.\n",
      "  train_set = pd.read_csv('Dane/adult/adult.data', sep=\", \",header = None)\n",
      "C:\\Users\\sch03\\AppData\\Local\\Temp/ipykernel_10848/1283179213.py:7: ParserWarning: Falling back to the 'python' engine because the 'c' engine does not support regex separators (separators > 1 char and different from '\\s+' are interpreted as regex); you can avoid this warning by specifying engine='python'.\n",
      "  test_set = pd.read_csv('Dane/adult/adult.test', sep=\", \",skiprows = 1, header = None) # Make sure to skip a row for the test set\n"
     ]
    },
    {
     "data": {
      "text/plain": "   age         workclass  fnlwgt  education  education_num  \\\n0   39         State-gov   77516  Bachelors             13   \n1   50  Self-emp-not-inc   83311  Bachelors             13   \n2   38           Private  215646    HS-grad              9   \n3   53           Private  234721       11th              7   \n4   28           Private  338409  Bachelors             13   \n\n       marital_status         occupation   relationship   race     sex  \\\n0       Never-married       Adm-clerical  Not-in-family  White    Male   \n1  Married-civ-spouse    Exec-managerial        Husband  White    Male   \n2            Divorced  Handlers-cleaners  Not-in-family  White    Male   \n3  Married-civ-spouse  Handlers-cleaners        Husband  Black    Male   \n4  Married-civ-spouse     Prof-specialty           Wife  Black  Female   \n\n   capital_gain  capital_loss  hours_per_week native_country wage_class  \n0          2174             0              40  United-States      <=50K  \n1             0             0              13  United-States      <=50K  \n2             0             0              40  United-States      <=50K  \n3             0             0              40  United-States      <=50K  \n4             0             0              40           Cuba      <=50K  ",
      "text/html": "<div>\n<style scoped>\n    .dataframe tbody tr th:only-of-type {\n        vertical-align: middle;\n    }\n\n    .dataframe tbody tr th {\n        vertical-align: top;\n    }\n\n    .dataframe thead th {\n        text-align: right;\n    }\n</style>\n<table border=\"1\" class=\"dataframe\">\n  <thead>\n    <tr style=\"text-align: right;\">\n      <th></th>\n      <th>age</th>\n      <th>workclass</th>\n      <th>fnlwgt</th>\n      <th>education</th>\n      <th>education_num</th>\n      <th>marital_status</th>\n      <th>occupation</th>\n      <th>relationship</th>\n      <th>race</th>\n      <th>sex</th>\n      <th>capital_gain</th>\n      <th>capital_loss</th>\n      <th>hours_per_week</th>\n      <th>native_country</th>\n      <th>wage_class</th>\n    </tr>\n  </thead>\n  <tbody>\n    <tr>\n      <th>0</th>\n      <td>39</td>\n      <td>State-gov</td>\n      <td>77516</td>\n      <td>Bachelors</td>\n      <td>13</td>\n      <td>Never-married</td>\n      <td>Adm-clerical</td>\n      <td>Not-in-family</td>\n      <td>White</td>\n      <td>Male</td>\n      <td>2174</td>\n      <td>0</td>\n      <td>40</td>\n      <td>United-States</td>\n      <td>&lt;=50K</td>\n    </tr>\n    <tr>\n      <th>1</th>\n      <td>50</td>\n      <td>Self-emp-not-inc</td>\n      <td>83311</td>\n      <td>Bachelors</td>\n      <td>13</td>\n      <td>Married-civ-spouse</td>\n      <td>Exec-managerial</td>\n      <td>Husband</td>\n      <td>White</td>\n      <td>Male</td>\n      <td>0</td>\n      <td>0</td>\n      <td>13</td>\n      <td>United-States</td>\n      <td>&lt;=50K</td>\n    </tr>\n    <tr>\n      <th>2</th>\n      <td>38</td>\n      <td>Private</td>\n      <td>215646</td>\n      <td>HS-grad</td>\n      <td>9</td>\n      <td>Divorced</td>\n      <td>Handlers-cleaners</td>\n      <td>Not-in-family</td>\n      <td>White</td>\n      <td>Male</td>\n      <td>0</td>\n      <td>0</td>\n      <td>40</td>\n      <td>United-States</td>\n      <td>&lt;=50K</td>\n    </tr>\n    <tr>\n      <th>3</th>\n      <td>53</td>\n      <td>Private</td>\n      <td>234721</td>\n      <td>11th</td>\n      <td>7</td>\n      <td>Married-civ-spouse</td>\n      <td>Handlers-cleaners</td>\n      <td>Husband</td>\n      <td>Black</td>\n      <td>Male</td>\n      <td>0</td>\n      <td>0</td>\n      <td>40</td>\n      <td>United-States</td>\n      <td>&lt;=50K</td>\n    </tr>\n    <tr>\n      <th>4</th>\n      <td>28</td>\n      <td>Private</td>\n      <td>338409</td>\n      <td>Bachelors</td>\n      <td>13</td>\n      <td>Married-civ-spouse</td>\n      <td>Prof-specialty</td>\n      <td>Wife</td>\n      <td>Black</td>\n      <td>Female</td>\n      <td>0</td>\n      <td>0</td>\n      <td>40</td>\n      <td>Cuba</td>\n      <td>&lt;=50K</td>\n    </tr>\n  </tbody>\n</table>\n</div>"
     },
     "execution_count": 3,
     "metadata": {},
     "output_type": "execute_result"
    }
   ],
   "source": [
    "# Wczytaj dane treningowe i testowe\n",
    "import numpy as np\n",
    "import matplotlib.pyplot as plt\n",
    "import pandas as pd\n",
    "\n",
    "train_set = pd.read_csv('Dane/adult/adult.data', sep=\", \",header = None)\n",
    "test_set = pd.read_csv('Dane/adult/adult.test', sep=\", \",skiprows = 1, header = None) # Make sure to skip a row for the test set\n",
    "\n",
    "col_labels = ['age', 'workclass', 'fnlwgt', 'education', 'education_num', 'marital_status', 'occupation', \n",
    "              'relationship', 'race', 'sex', 'capital_gain', 'capital_loss', 'hours_per_week', 'native_country',\n",
    "             'wage_class']\n",
    "train_set.columns = col_labels\n",
    "test_set.columns = col_labels\n",
    "\n",
    "train = train_set.replace('?', np.nan).dropna()\n",
    "test = test_set.replace('?', np.nan).dropna()\n",
    "\n",
    "train_set.head()\n"
   ]
  },
  {
   "cell_type": "markdown",
   "metadata": {
    "pycharm": {
     "name": "#%% md\n"
    }
   },
   "source": [
    "# Zad.\n",
    "Zróbmy szybki preprocesing"
   ]
  },
  {
   "cell_type": "code",
   "execution_count": 4,
   "metadata": {
    "pycharm": {
     "name": "#%%\n"
    }
   },
   "outputs": [],
   "source": [
    "dataset = pd.concat([train,test])\n",
    "\n",
    "dataset['wage_class'] = dataset.wage_class.replace({'<=50K.': 0,'<=50K':0, '>50K.':1, '>50K':1})\n",
    "\n",
    "dataset.drop([\"fnlwgt\"],axis=1,inplace=True)\n",
    "\n",
    "dataset.drop([\"education\"],axis=1,inplace=True)\n",
    "\n",
    "x = dataset.groupby('native_country')[\"wage_class\"].mean()\n",
    "\n",
    "d = dict(pd.cut(x[x.index!=\" United-States\"],5,labels=range(5)))\n",
    "\n",
    "dataset['native_country'] = dataset['native_country'].replace(d)\n",
    "\n",
    "dataset = pd.get_dummies(dataset,drop_first=True)\n",
    "\n",
    "train = dataset.iloc[:train.shape[0]]\n",
    "test = dataset.iloc[train.shape[0]:]\n",
    "\n",
    "X_train = train.drop(\"wage_class\",axis=1)\n",
    "y_train = train.wage_class\n",
    "\n",
    "X_test = test.drop(\"wage_class\",axis=1)\n",
    "y_test = test.wage_class\n"
   ]
  },
  {
   "cell_type": "code",
   "execution_count": 5,
   "metadata": {
    "pycharm": {
     "name": "#%%\n"
    }
   },
   "outputs": [],
   "source": [
    "from keras.callbacks import ModelCheckpoint"
   ]
  },
  {
   "cell_type": "code",
   "execution_count": 5,
   "metadata": {
    "pycharm": {
     "name": "#%%\n"
    }
   },
   "outputs": [],
   "source": []
  },
  {
   "cell_type": "code",
   "execution_count": 6,
   "metadata": {
    "pycharm": {
     "name": "#%%\n"
    }
   },
   "outputs": [
    {
     "name": "stdout",
     "output_type": "stream",
     "text": [
      "Model: \"sequential\"\n",
      "_________________________________________________________________\n",
      " Layer (type)                Output Shape              Param #   \n",
      "=================================================================\n",
      " dense (Dense)               (None, 100)               4200      \n",
      "                                                                 \n",
      " dense_1 (Dense)             (None, 50)                5050      \n",
      "                                                                 \n",
      " dense_2 (Dense)             (None, 10)                510       \n",
      "                                                                 \n",
      " dense_3 (Dense)             (None, 1)                 11        \n",
      "                                                                 \n",
      "=================================================================\n",
      "Total params: 9,771\n",
      "Trainable params: 9,771\n",
      "Non-trainable params: 0\n",
      "_________________________________________________________________\n"
     ]
    }
   ],
   "source": [
    "from keras.models import Sequential\n",
    "from keras.layers import Dense\n",
    "\n",
    "from keras.callbacks import History\n",
    "\n",
    "history = History()\n",
    "model = Sequential()\n",
    "model.add(Dense(100,activation=\"sigmoid\",input_shape=(X_train.shape[1],)))\n",
    "model.add(Dense(50,activation=\"sigmoid\"))\n",
    "model.add(Dense(10,activation=\"sigmoid\"))\n",
    "model.add(Dense(1,activation=\"sigmoid\"))\n",
    "model.summary()"
   ]
  },
  {
   "cell_type": "code",
   "execution_count": 7,
   "metadata": {
    "pycharm": {
     "name": "#%%\n"
    }
   },
   "outputs": [],
   "source": [
    "save_best_model = ModelCheckpoint(\"wagi_best.h5py\",save_best_only=True)\n",
    "model.compile(loss=\"binary_crossentropy\",optimizer=\"Adam\", metrics=[\"accuracy\"])"
   ]
  },
  {
   "cell_type": "code",
   "execution_count": 8,
   "outputs": [
    {
     "name": "stdout",
     "output_type": "stream",
     "text": [
      "Epoch 1/30\n",
      "918/943 [============================>.] - ETA: 0s - loss: 0.4343 - accuracy: 0.7867INFO:tensorflow:Assets written to: wagi_best.h5py\\assets\n",
      "943/943 [==============================] - 4s 4ms/step - loss: 0.4328 - accuracy: 0.7875 - val_loss: 0.3833 - val_accuracy: 0.8057\n",
      "Epoch 2/30\n",
      "922/943 [============================>.] - ETA: 0s - loss: 0.3784 - accuracy: 0.8119INFO:tensorflow:Assets written to: wagi_best.h5py\\assets\n",
      "943/943 [==============================] - 3s 3ms/step - loss: 0.3784 - accuracy: 0.8119 - val_loss: 0.3744 - val_accuracy: 0.8076\n",
      "Epoch 3/30\n",
      "943/943 [==============================] - 2s 2ms/step - loss: 0.3758 - accuracy: 0.8118 - val_loss: 0.3853 - val_accuracy: 0.8121\n",
      "Epoch 4/30\n",
      "943/943 [==============================] - 2s 2ms/step - loss: 0.3722 - accuracy: 0.8138 - val_loss: 0.3908 - val_accuracy: 0.8106\n",
      "Epoch 5/30\n",
      "928/943 [============================>.] - ETA: 0s - loss: 0.3719 - accuracy: 0.8115INFO:tensorflow:Assets written to: wagi_best.h5py\\assets\n",
      "943/943 [==============================] - 3s 3ms/step - loss: 0.3722 - accuracy: 0.8114 - val_loss: 0.3686 - val_accuracy: 0.8116\n",
      "Epoch 6/30\n",
      "943/943 [==============================] - 3s 3ms/step - loss: 0.3714 - accuracy: 0.8147 - val_loss: 0.3755 - val_accuracy: 0.8060\n",
      "Epoch 7/30\n",
      "943/943 [==============================] - 2s 3ms/step - loss: 0.3718 - accuracy: 0.8139 - val_loss: 0.3801 - val_accuracy: 0.8120\n",
      "Epoch 8/30\n",
      "932/943 [============================>.] - ETA: 0s - loss: 0.3718 - accuracy: 0.8143INFO:tensorflow:Assets written to: wagi_best.h5py\\assets\n",
      "943/943 [==============================] - 3s 3ms/step - loss: 0.3717 - accuracy: 0.8145 - val_loss: 0.3669 - val_accuracy: 0.8146\n",
      "Epoch 9/30\n",
      "943/943 [==============================] - 2s 2ms/step - loss: 0.3686 - accuracy: 0.8153 - val_loss: 0.3752 - val_accuracy: 0.8038\n",
      "Epoch 10/30\n",
      "943/943 [==============================] - 2s 2ms/step - loss: 0.3669 - accuracy: 0.8137 - val_loss: 0.3670 - val_accuracy: 0.7962\n",
      "Epoch 11/30\n",
      "943/943 [==============================] - 2s 2ms/step - loss: 0.3670 - accuracy: 0.8141 - val_loss: 0.3696 - val_accuracy: 0.8108\n",
      "Epoch 12/30\n",
      "940/943 [============================>.] - ETA: 0s - loss: 0.3681 - accuracy: 0.8138INFO:tensorflow:Assets written to: wagi_best.h5py\\assets\n",
      "943/943 [==============================] - 3s 3ms/step - loss: 0.3680 - accuracy: 0.8139 - val_loss: 0.3638 - val_accuracy: 0.8192\n",
      "Epoch 13/30\n",
      "943/943 [==============================] - 2s 3ms/step - loss: 0.3663 - accuracy: 0.8146 - val_loss: 0.3648 - val_accuracy: 0.8147\n",
      "Epoch 14/30\n",
      "943/943 [==============================] - 2s 3ms/step - loss: 0.3669 - accuracy: 0.8141 - val_loss: 0.3679 - val_accuracy: 0.8098\n",
      "Epoch 15/30\n",
      "943/943 [==============================] - 2s 3ms/step - loss: 0.3653 - accuracy: 0.8150 - val_loss: 0.3731 - val_accuracy: 0.8122\n",
      "Epoch 16/30\n",
      "918/943 [============================>.] - ETA: 0s - loss: 0.3641 - accuracy: 0.8151INFO:tensorflow:Assets written to: wagi_best.h5py\\assets\n",
      "943/943 [==============================] - 3s 3ms/step - loss: 0.3651 - accuracy: 0.8149 - val_loss: 0.3636 - val_accuracy: 0.8171\n",
      "Epoch 17/30\n",
      "943/943 [==============================] - 3s 3ms/step - loss: 0.3649 - accuracy: 0.8155 - val_loss: 0.3637 - val_accuracy: 0.8179\n",
      "Epoch 18/30\n",
      "943/943 [==============================] - 3s 3ms/step - loss: 0.3649 - accuracy: 0.8179 - val_loss: 0.3643 - val_accuracy: 0.8170\n",
      "Epoch 19/30\n",
      "943/943 [==============================] - 2s 2ms/step - loss: 0.3633 - accuracy: 0.8165 - val_loss: 0.3777 - val_accuracy: 0.8044\n",
      "Epoch 20/30\n",
      "943/943 [==============================] - 3s 3ms/step - loss: 0.3646 - accuracy: 0.8145 - val_loss: 0.3673 - val_accuracy: 0.8169\n",
      "Epoch 21/30\n",
      "943/943 [==============================] - 2s 2ms/step - loss: 0.3637 - accuracy: 0.8162 - val_loss: 0.3663 - val_accuracy: 0.8120\n",
      "Epoch 22/30\n",
      "943/943 [==============================] - 3s 3ms/step - loss: 0.3650 - accuracy: 0.8160 - val_loss: 0.3665 - val_accuracy: 0.8170\n",
      "Epoch 23/30\n",
      "931/943 [============================>.] - ETA: 0s - loss: 0.3638 - accuracy: 0.8161INFO:tensorflow:Assets written to: wagi_best.h5py\\assets\n",
      "943/943 [==============================] - 3s 4ms/step - loss: 0.3637 - accuracy: 0.8163 - val_loss: 0.3636 - val_accuracy: 0.8179\n",
      "Epoch 24/30\n",
      "943/943 [==============================] - 2s 3ms/step - loss: 0.3632 - accuracy: 0.8168 - val_loss: 0.3742 - val_accuracy: 0.8076\n",
      "Epoch 25/30\n",
      "943/943 [==============================] - 2s 2ms/step - loss: 0.3630 - accuracy: 0.8148 - val_loss: 0.3671 - val_accuracy: 0.8169\n",
      "Epoch 26/30\n",
      "943/943 [==============================] - 2s 2ms/step - loss: 0.3624 - accuracy: 0.8165 - val_loss: 0.3643 - val_accuracy: 0.8167\n",
      "Epoch 27/30\n",
      "943/943 [==============================] - 2s 2ms/step - loss: 0.3622 - accuracy: 0.8165 - val_loss: 0.3667 - val_accuracy: 0.8168\n",
      "Epoch 28/30\n",
      "943/943 [==============================] - 2s 2ms/step - loss: 0.3631 - accuracy: 0.8166 - val_loss: 0.3662 - val_accuracy: 0.8181\n",
      "Epoch 29/30\n",
      "943/943 [==============================] - 2s 2ms/step - loss: 0.3616 - accuracy: 0.8171 - val_loss: 0.3671 - val_accuracy: 0.8186\n",
      "Epoch 30/30\n",
      "917/943 [============================>.] - ETA: 0s - loss: 0.3614 - accuracy: 0.8176INFO:tensorflow:Assets written to: wagi_best.h5py\\assets\n",
      "943/943 [==============================] - 3s 3ms/step - loss: 0.3616 - accuracy: 0.8176 - val_loss: 0.3624 - val_accuracy: 0.8200\n"
     ]
    }
   ],
   "source": [
    "save_best_model = ModelCheckpoint(\"wagi_best.h5py\",save_best_only=True)\n",
    "history = model.fit(X_train, y_train, validation_data= (X_test, y_test), batch_size=32,epochs=30, callbacks=[save_best_model])"
   ],
   "metadata": {
    "collapsed": false,
    "pycharm": {
     "name": "#%%\n"
    }
   }
  },
  {
   "cell_type": "code",
   "execution_count": 9,
   "outputs": [
    {
     "data": {
      "text/plain": "<Figure size 576x360 with 1 Axes>",
      "image/png": "[encoded data removed]"
     },
     "metadata": {
      "needs_background": "light"
     },
     "output_type": "display_data"
    }
   ],
   "source": [
    "import pandas as pd\n",
    "\n",
    "pd.DataFrame(history.history).plot(figsize=(8, 5))\n",
    "plt.grid(True)\n",
    "plt.gca().set_ylim(0, 1)\n",
    "plt.show()"
   ],
   "metadata": {
    "collapsed": false,
    "pycharm": {
     "name": "#%%\n"
    }
   }
  },
  {
   "cell_type": "code",
   "execution_count": 10,
   "outputs": [
    {
     "name": "stdout",
     "output_type": "stream",
     "text": [
      "471/471 [==============================] - 1s 970us/step - loss: 0.3624 - accuracy: 0.8200\n"
     ]
    },
    {
     "data": {
      "text/plain": "[0.362370103597641, 0.8199867010116577]"
     },
     "execution_count": 10,
     "metadata": {},
     "output_type": "execute_result"
    }
   ],
   "source": [
    "model.evaluate(X_test,y_test)"
   ],
   "metadata": {
    "collapsed": false,
    "pycharm": {
     "name": "#%%\n"
    }
   }
  },
  {
   "cell_type": "code",
   "execution_count": 11,
   "outputs": [
    {
     "data": {
      "text/plain": "0.7543160690571049"
     },
     "execution_count": 11,
     "metadata": {},
     "output_type": "execute_result"
    }
   ],
   "source": [
    "from sklearn import  metrics\n",
    "metrics.accuracy_score(y_true= y_test, y_pred= np.argmax(model.predict(X_test),axis=1) )"
   ],
   "metadata": {
    "collapsed": false,
    "pycharm": {
     "name": "#%%\n"
    }
   }
  },
  {
   "cell_type": "markdown",
   "source": [
    "# Zad\n",
    "\n",
    "Wczytaj nauczony model"
   ],
   "metadata": {
    "collapsed": false,
    "pycharm": {
     "name": "#%% md\n"
    }
   }
  },
  {
   "cell_type": "code",
   "execution_count": 12,
   "outputs": [
    {
     "ename": "OpError",
     "evalue": "",
     "output_type": "error",
     "traceback": [
      "\u001B[1;31m---------------------------------------------------------------------------\u001B[0m",
      "\u001B[1;31mOpError\u001B[0m                                   Traceback (most recent call last)",
      "\u001B[1;32m~\\AppData\\Local\\Temp/ipykernel_10848/1864394617.py\u001B[0m in \u001B[0;36m<module>\u001B[1;34m\u001B[0m\n\u001B[1;32m----> 1\u001B[1;33m \u001B[0mmodel\u001B[0m\u001B[1;33m.\u001B[0m\u001B[0mload_weights\u001B[0m\u001B[1;33m(\u001B[0m\u001B[1;34m\"wagi_best.h5py\"\u001B[0m\u001B[1;33m)\u001B[0m\u001B[1;33m\u001B[0m\u001B[1;33m\u001B[0m\u001B[0m\n\u001B[0m\u001B[0;32m      2\u001B[0m \u001B[0mmodel\u001B[0m\u001B[1;33m.\u001B[0m\u001B[0mevaluate\u001B[0m\u001B[1;33m(\u001B[0m\u001B[0mX_test\u001B[0m\u001B[1;33m,\u001B[0m\u001B[0my_test\u001B[0m\u001B[1;33m)\u001B[0m\u001B[1;33m\u001B[0m\u001B[1;33m\u001B[0m\u001B[0m\n",
      "\u001B[1;32m~\\anaconda3\\envs\\podstawy_sztucznej_inteligencji\\lib\\site-packages\\keras\\utils\\traceback_utils.py\u001B[0m in \u001B[0;36merror_handler\u001B[1;34m(*args, **kwargs)\u001B[0m\n\u001B[0;32m     65\u001B[0m     \u001B[1;32mexcept\u001B[0m \u001B[0mException\u001B[0m \u001B[1;32mas\u001B[0m \u001B[0me\u001B[0m\u001B[1;33m:\u001B[0m  \u001B[1;31m# pylint: disable=broad-except\u001B[0m\u001B[1;33m\u001B[0m\u001B[1;33m\u001B[0m\u001B[0m\n\u001B[0;32m     66\u001B[0m       \u001B[0mfiltered_tb\u001B[0m \u001B[1;33m=\u001B[0m \u001B[0m_process_traceback_frames\u001B[0m\u001B[1;33m(\u001B[0m\u001B[0me\u001B[0m\u001B[1;33m.\u001B[0m\u001B[0m__traceback__\u001B[0m\u001B[1;33m)\u001B[0m\u001B[1;33m\u001B[0m\u001B[1;33m\u001B[0m\u001B[0m\n\u001B[1;32m---> 67\u001B[1;33m       \u001B[1;32mraise\u001B[0m \u001B[0me\u001B[0m\u001B[1;33m.\u001B[0m\u001B[0mwith_traceback\u001B[0m\u001B[1;33m(\u001B[0m\u001B[0mfiltered_tb\u001B[0m\u001B[1;33m)\u001B[0m \u001B[1;32mfrom\u001B[0m \u001B[1;32mNone\u001B[0m\u001B[1;33m\u001B[0m\u001B[1;33m\u001B[0m\u001B[0m\n\u001B[0m\u001B[0;32m     68\u001B[0m     \u001B[1;32mfinally\u001B[0m\u001B[1;33m:\u001B[0m\u001B[1;33m\u001B[0m\u001B[1;33m\u001B[0m\u001B[0m\n\u001B[0;32m     69\u001B[0m       \u001B[1;32mdel\u001B[0m \u001B[0mfiltered_tb\u001B[0m\u001B[1;33m\u001B[0m\u001B[1;33m\u001B[0m\u001B[0m\n",
      "\u001B[1;32m~\\anaconda3\\envs\\podstawy_sztucznej_inteligencji\\lib\\site-packages\\tensorflow\\python\\training\\py_checkpoint_reader.py\u001B[0m in \u001B[0;36merror_translator\u001B[1;34m(e)\u001B[0m\n\u001B[0;32m     43\u001B[0m     \u001B[1;32mraise\u001B[0m \u001B[0merrors_impl\u001B[0m\u001B[1;33m.\u001B[0m\u001B[0mInternalError\u001B[0m\u001B[1;33m(\u001B[0m\u001B[1;32mNone\u001B[0m\u001B[1;33m,\u001B[0m \u001B[1;32mNone\u001B[0m\u001B[1;33m,\u001B[0m \u001B[0merror_message\u001B[0m\u001B[1;33m)\u001B[0m\u001B[1;33m\u001B[0m\u001B[1;33m\u001B[0m\u001B[0m\n\u001B[0;32m     44\u001B[0m   \u001B[1;32melse\u001B[0m\u001B[1;33m:\u001B[0m\u001B[1;33m\u001B[0m\u001B[1;33m\u001B[0m\u001B[0m\n\u001B[1;32m---> 45\u001B[1;33m     \u001B[1;32mraise\u001B[0m \u001B[0merrors_impl\u001B[0m\u001B[1;33m.\u001B[0m\u001B[0mOpError\u001B[0m\u001B[1;33m(\u001B[0m\u001B[1;32mNone\u001B[0m\u001B[1;33m,\u001B[0m \u001B[1;32mNone\u001B[0m\u001B[1;33m,\u001B[0m \u001B[0merror_message\u001B[0m\u001B[1;33m,\u001B[0m \u001B[0merrors_impl\u001B[0m\u001B[1;33m.\u001B[0m\u001B[0mUNKNOWN\u001B[0m\u001B[1;33m)\u001B[0m\u001B[1;33m\u001B[0m\u001B[1;33m\u001B[0m\u001B[0m\n\u001B[0m\u001B[0;32m     46\u001B[0m \u001B[1;33m\u001B[0m\u001B[0m\n\u001B[0;32m     47\u001B[0m \u001B[1;33m\u001B[0m\u001B[0m\n",
      "\u001B[1;31mOpError\u001B[0m: "
     ]
    }
   ],
   "source": [
    "\n",
    "model.load_weights(\"wagi_best.h5py\")\n",
    "model.evaluate(X_test,y_test)"
   ],
   "metadata": {
    "collapsed": false,
    "pycharm": {
     "name": "#%%\n"
    }
   }
  },
  {
   "cell_type": "markdown",
   "source": [
    "# Zad\n",
    "\n",
    "* Naucz dowolny model na zbiorze MNIST.\n",
    "* Zapisz optymalne parametry uczenia do pliku\n",
    "* Wczytaj dane z pliku"
   ],
   "metadata": {
    "collapsed": false,
    "pycharm": {
     "name": "#%% md\n"
    }
   }
  },
  {
   "cell_type": "code",
   "execution_count": null,
   "outputs": [],
   "source": [
    "(X_train_full, y_train_full), (X_test, y_test) = keras.datasets.mnist.load_data()\n",
    "\n",
    "X_valid, X_train = X_train_full[:5000] / 255., X_train_full[5000:] / 255.\n",
    "y_valid, y_train = y_train_full[:5000], y_train_full[5000:]\n",
    "X_test = X_test / 255.\n",
    "\n",
    "from keras.utils import np_utils\n",
    "\n",
    "y_train = np_utils.to_categorical(y_train)\n",
    "y_test = np_utils.to_categorical(y_test)\n",
    "\n",
    "y_valid = np_utils.to_categorical(y_valid)\n",
    "\n",
    "keras.backend.clear_session()\n",
    "np.random.seed(42)\n",
    "tf.random.set_seed(42)\n",
    "\n",
    "model1 = keras.models.Sequential([\n",
    "    keras.layers.Flatten(input_shape=[28, 28]),\n",
    "    keras.layers.Dense(300, activation=\"relu\"),\n",
    "    keras.layers.Dense(100, activation=\"relu\"),\n",
    "    keras.layers.Dense(10, activation=\"softmax\")\n",
    "])\n",
    "\n",
    "model1.summary()\n",
    "save_best_model = ModelCheckpoint(\"wagi_best1.h5py\",save_best_only=True)\n",
    "model1.compile(loss=\"categorical_crossentropy\",\n",
    "              optimizer=\"sgd\",\n",
    "              metrics=[\"accuracy\"])\n"
   ],
   "metadata": {
    "collapsed": false,
    "pycharm": {
     "name": "#%%\n"
    }
   }
  },
  {
   "cell_type": "code",
   "execution_count": null,
   "outputs": [],
   "source": [
    "save_best_model = ModelCheckpoint(\"wagi_best1.h5py\",save_best_only=True)\n",
    "history1 = model1.fit(X_train, y_train, epochs=30, validation_data=(X_valid, y_valid), callbacks=[save_best_model])"
   ],
   "metadata": {
    "collapsed": false,
    "pycharm": {
     "name": "#%%\n"
    }
   }
  },
  {
   "cell_type": "code",
   "execution_count": null,
   "outputs": [],
   "source": [
    "model1.evaluate(X_test,y_test)"
   ],
   "metadata": {
    "collapsed": false,
    "pycharm": {
     "name": "#%%\n"
    }
   }
  },
  {
   "cell_type": "code",
   "execution_count": null,
   "outputs": [],
   "source": [
    "model1.load_weights(\"wagi_best1.h5py\")\n",
    "model1.evaluate(X_test,y_test)"
   ],
   "metadata": {
    "collapsed": false,
    "pycharm": {
     "name": "#%%\n"
    }
   }
  },
  {
   "cell_type": "code",
   "execution_count": 62,
   "metadata": {
    "pycharm": {
     "name": "#%%\n"
    }
   },
   "outputs": [
    {
     "name": "stdout",
     "output_type": "stream",
     "text": [
      "Epoch 1/30\n",
      "1703/1719 [============================>.] - ETA: 0s - loss: 0.6223 - accuracy: 0.8398INFO:tensorflow:Assets written to: wagi_best1.h5py\\assets\n",
      "1719/1719 [==============================] - 5s 3ms/step - loss: 0.6196 - accuracy: 0.8405 - val_loss: 0.3103 - val_accuracy: 0.9120\n",
      "Epoch 2/30\n",
      "1719/1719 [==============================] - ETA: 0s - loss: 0.2953 - accuracy: 0.9151INFO:tensorflow:Assets written to: wagi_best1.h5py\\assets\n",
      "1719/1719 [==============================] - 5s 3ms/step - loss: 0.2953 - accuracy: 0.9151 - val_loss: 0.2473 - val_accuracy: 0.9304\n",
      "Epoch 3/30\n",
      "1695/1719 [============================>.] - ETA: 0s - loss: 0.2429 - accuracy: 0.9303INFO:tensorflow:Assets written to: wagi_best1.h5py\\assets\n",
      "1719/1719 [==============================] - 5s 3ms/step - loss: 0.2430 - accuracy: 0.9302 - val_loss: 0.2060 - val_accuracy: 0.9426\n",
      "Epoch 4/30\n",
      "1713/1719 [============================>.] - ETA: 0s - loss: 0.2075 - accuracy: 0.9408INFO:tensorflow:Assets written to: wagi_best1.h5py\\assets\n",
      "1719/1719 [==============================] - 5s 3ms/step - loss: 0.2076 - accuracy: 0.9407 - val_loss: 0.1823 - val_accuracy: 0.9494\n",
      "Epoch 5/30\n",
      "1708/1719 [============================>.] - ETA: 0s - loss: 0.1810 - accuracy: 0.9486INFO:tensorflow:Assets written to: wagi_best1.h5py\\assets\n",
      "1719/1719 [==============================] - 5s 3ms/step - loss: 0.1811 - accuracy: 0.9485 - val_loss: 0.1645 - val_accuracy: 0.9540\n",
      "Epoch 6/30\n",
      "1711/1719 [============================>.] - ETA: 0s - loss: 0.1605 - accuracy: 0.9542INFO:tensorflow:Assets written to: wagi_best1.h5py\\assets\n",
      "1719/1719 [==============================] - 5s 3ms/step - loss: 0.1603 - accuracy: 0.9543 - val_loss: 0.1483 - val_accuracy: 0.9602\n",
      "Epoch 7/30\n",
      "1698/1719 [============================>.] - ETA: 0s - loss: 0.1429 - accuracy: 0.9598INFO:tensorflow:Assets written to: wagi_best1.h5py\\assets\n",
      "1719/1719 [==============================] - 5s 3ms/step - loss: 0.1431 - accuracy: 0.9597 - val_loss: 0.1367 - val_accuracy: 0.9632\n",
      "Epoch 8/30\n",
      "1709/1719 [============================>.] - ETA: 0s - loss: 0.1291 - accuracy: 0.9632INFO:tensorflow:Assets written to: wagi_best1.h5py\\assets\n",
      "1719/1719 [==============================] - 5s 3ms/step - loss: 0.1292 - accuracy: 0.9632 - val_loss: 0.1294 - val_accuracy: 0.9638\n",
      "Epoch 9/30\n",
      "1710/1719 [============================>.] - ETA: 0s - loss: 0.1176 - accuracy: 0.9673INFO:tensorflow:Assets written to: wagi_best1.h5py\\assets\n",
      "1719/1719 [==============================] - 5s 3ms/step - loss: 0.1174 - accuracy: 0.9673 - val_loss: 0.1183 - val_accuracy: 0.9670\n",
      "Epoch 10/30\n",
      "1718/1719 [============================>.] - ETA: 0s - loss: 0.1078 - accuracy: 0.9696INFO:tensorflow:Assets written to: wagi_best1.h5py\\assets\n",
      "1719/1719 [==============================] - 5s 3ms/step - loss: 0.1077 - accuracy: 0.9696 - val_loss: 0.1091 - val_accuracy: 0.9692\n",
      "Epoch 11/30\n",
      "1704/1719 [============================>.] - ETA: 0s - loss: 0.0987 - accuracy: 0.9722INFO:tensorflow:Assets written to: wagi_best1.h5py\\assets\n",
      "1719/1719 [==============================] - 5s 3ms/step - loss: 0.0988 - accuracy: 0.9721 - val_loss: 0.1050 - val_accuracy: 0.9694\n",
      "Epoch 12/30\n",
      "1719/1719 [==============================] - ETA: 0s - loss: 0.0911 - accuracy: 0.9745INFO:tensorflow:Assets written to: wagi_best1.h5py\\assets\n",
      "1719/1719 [==============================] - 5s 3ms/step - loss: 0.0911 - accuracy: 0.9745 - val_loss: 0.1006 - val_accuracy: 0.9708\n",
      "Epoch 13/30\n",
      "1718/1719 [============================>.] - ETA: 0s - loss: 0.0843 - accuracy: 0.9762INFO:tensorflow:Assets written to: wagi_best1.h5py\\assets\n",
      "1719/1719 [==============================] - 5s 3ms/step - loss: 0.0843 - accuracy: 0.9762 - val_loss: 0.0948 - val_accuracy: 0.9726\n",
      "Epoch 14/30\n",
      "1708/1719 [============================>.] - ETA: 0s - loss: 0.0780 - accuracy: 0.9782INFO:tensorflow:Assets written to: wagi_best1.h5py\\assets\n",
      "1719/1719 [==============================] - 5s 3ms/step - loss: 0.0781 - accuracy: 0.9781 - val_loss: 0.0921 - val_accuracy: 0.9736\n",
      "Epoch 15/30\n",
      "1718/1719 [============================>.] - ETA: 0s - loss: 0.0726 - accuracy: 0.9795INFO:tensorflow:Assets written to: wagi_best1.h5py\\assets\n",
      "1719/1719 [==============================] - 5s 3ms/step - loss: 0.0726 - accuracy: 0.9795 - val_loss: 0.0878 - val_accuracy: 0.9720\n",
      "Epoch 16/30\n",
      "1714/1719 [============================>.] - ETA: 0s - loss: 0.0677 - accuracy: 0.9807INFO:tensorflow:Assets written to: wagi_best1.h5py\\assets\n",
      "1719/1719 [==============================] - 4s 3ms/step - loss: 0.0677 - accuracy: 0.9807 - val_loss: 0.0860 - val_accuracy: 0.9738\n",
      "Epoch 17/30\n",
      "1698/1719 [============================>.] - ETA: 0s - loss: 0.0634 - accuracy: 0.9821INFO:tensorflow:Assets written to: wagi_best1.h5py\\assets\n",
      "1719/1719 [==============================] - 5s 3ms/step - loss: 0.0632 - accuracy: 0.9821 - val_loss: 0.0835 - val_accuracy: 0.9754\n",
      "Epoch 18/30\n",
      "1719/1719 [==============================] - ETA: 0s - loss: 0.0592 - accuracy: 0.9837INFO:tensorflow:Assets written to: wagi_best1.h5py\\assets\n",
      "1719/1719 [==============================] - 5s 3ms/step - loss: 0.0592 - accuracy: 0.9837 - val_loss: 0.0799 - val_accuracy: 0.9768\n",
      "Epoch 19/30\n",
      "1714/1719 [============================>.] - ETA: 0s - loss: 0.0555 - accuracy: 0.9850INFO:tensorflow:Assets written to: wagi_best1.h5py\\assets\n",
      "1719/1719 [==============================] - 5s 3ms/step - loss: 0.0555 - accuracy: 0.9850 - val_loss: 0.0782 - val_accuracy: 0.9764\n",
      "Epoch 20/30\n",
      "1710/1719 [============================>.] - ETA: 0s - loss: 0.0520 - accuracy: 0.9859INFO:tensorflow:Assets written to: wagi_best1.h5py\\assets\n",
      "1719/1719 [==============================] - 5s 3ms/step - loss: 0.0520 - accuracy: 0.9860 - val_loss: 0.0774 - val_accuracy: 0.9770\n",
      "Epoch 21/30\n",
      "1707/1719 [============================>.] - ETA: 0s - loss: 0.0489 - accuracy: 0.9868INFO:tensorflow:Assets written to: wagi_best1.h5py\\assets\n",
      "1719/1719 [==============================] - 5s 3ms/step - loss: 0.0488 - accuracy: 0.9868 - val_loss: 0.0735 - val_accuracy: 0.9784\n",
      "Epoch 22/30\n",
      "1719/1719 [==============================] - 4s 2ms/step - loss: 0.0458 - accuracy: 0.9878 - val_loss: 0.0743 - val_accuracy: 0.9782\n",
      "Epoch 23/30\n",
      "1719/1719 [==============================] - 4s 2ms/step - loss: 0.0432 - accuracy: 0.9883 - val_loss: 0.0756 - val_accuracy: 0.9770\n",
      "Epoch 24/30\n",
      "1695/1719 [============================>.] - ETA: 0s - loss: 0.0400 - accuracy: 0.9895INFO:tensorflow:Assets written to: wagi_best1.h5py\\assets\n",
      "1719/1719 [==============================] - 4s 3ms/step - loss: 0.0404 - accuracy: 0.9894 - val_loss: 0.0727 - val_accuracy: 0.9772\n",
      "Epoch 25/30\n",
      "1712/1719 [============================>.] - ETA: 0s - loss: 0.0385 - accuracy: 0.9900INFO:tensorflow:Assets written to: wagi_best1.h5py\\assets\n",
      "1719/1719 [==============================] - 5s 3ms/step - loss: 0.0384 - accuracy: 0.9900 - val_loss: 0.0708 - val_accuracy: 0.9790\n",
      "Epoch 26/30\n",
      "1714/1719 [============================>.] - ETA: 0s - loss: 0.0360 - accuracy: 0.9911INFO:tensorflow:Assets written to: wagi_best1.h5py\\assets\n",
      "1719/1719 [==============================] - 4s 3ms/step - loss: 0.0360 - accuracy: 0.9911 - val_loss: 0.0681 - val_accuracy: 0.9798\n",
      "Epoch 27/30\n",
      "1698/1719 [============================>.] - ETA: 0s - loss: 0.0339 - accuracy: 0.9916INFO:tensorflow:Assets written to: wagi_best1.h5py\\assets\n",
      "1719/1719 [==============================] - 5s 3ms/step - loss: 0.0340 - accuracy: 0.9915 - val_loss: 0.0673 - val_accuracy: 0.9808\n",
      "Epoch 28/30\n",
      "1719/1719 [==============================] - 4s 2ms/step - loss: 0.0321 - accuracy: 0.9922 - val_loss: 0.0692 - val_accuracy: 0.9800\n",
      "Epoch 29/30\n",
      "1719/1719 [==============================] - 4s 2ms/step - loss: 0.0300 - accuracy: 0.9932 - val_loss: 0.0676 - val_accuracy: 0.9794\n",
      "Epoch 30/30\n",
      "1719/1719 [==============================] - 4s 2ms/step - loss: 0.0285 - accuracy: 0.9935 - val_loss: 0.0673 - val_accuracy: 0.9800\n"
     ]
    }
   ],
   "source": [
    "save_best_model = ModelCheckpoint(\"wagi_best1.h5py\",save_best_only=True)\n",
    "history1 = model1.fit(X_train, y_train, epochs=30, validation_data=(X_valid, y_valid), callbacks=[save_best_model])"
   ]
  },
  {
   "cell_type": "code",
   "execution_count": 63,
   "metadata": {
    "pycharm": {
     "name": "#%%\n"
    }
   },
   "outputs": [
    {
     "name": "stdout",
     "output_type": "stream",
     "text": [
      "313/313 [==============================] - 1s 2ms/step - loss: 0.0690 - accuracy: 0.9799\n"
     ]
    },
    {
     "data": {
      "text/plain": [
       "[0.0690462589263916, 0.9799000024795532]"
      ]
     },
     "execution_count": 63,
     "metadata": {},
     "output_type": "execute_result"
    }
   ],
   "source": [
    "model1.evaluate(X_test,y_test)"
   ]
  },
  {
   "cell_type": "code",
   "execution_count": 64,
   "metadata": {
    "pycharm": {
     "name": "#%%\n"
    }
   },
   "outputs": [
    {
     "ename": "OpError",
     "evalue": "",
     "output_type": "error",
     "traceback": [
      "\u001B[1;31m---------------------------------------------------------------------------\u001B[0m",
      "\u001B[1;31mOpError\u001B[0m                                   Traceback (most recent call last)",
      "\u001B[1;32md:\\studia\\PSI\\Z11\\Z11_N_save_model.ipynb Cell 20'\u001B[0m in \u001B[0;36m<cell line: 1>\u001B[1;34m()\u001B[0m\n\u001B[1;32m----> <a href='vscode-notebook-cell:/d%3A/studia/PSI/Z11/Z11_N_save_model.ipynb#ch0000019?line=0'>1</a>\u001B[0m model1\u001B[39m.\u001B[39;49mload_weights(\u001B[39m\"\u001B[39;49m\u001B[39mwagi_best1.h5py\u001B[39;49m\u001B[39m\"\u001B[39;49m)\n\u001B[0;32m      <a href='vscode-notebook-cell:/d%3A/studia/PSI/Z11/Z11_N_save_model.ipynb#ch0000019?line=1'>2</a>\u001B[0m model1\u001B[39m.\u001B[39mevaluate(X_test,y_test)\n",
      "File \u001B[1;32m~\\AppData\\Roaming\\Python\\Python39\\site-packages\\keras\\utils\\traceback_utils.py:67\u001B[0m, in \u001B[0;36mfilter_traceback.<locals>.error_handler\u001B[1;34m(*args, **kwargs)\u001B[0m\n\u001B[0;32m     <a href='file:///c%3A/Users/piecz/AppData/Roaming/Python/Python39/site-packages/keras/utils/traceback_utils.py?line=64'>65</a>\u001B[0m \u001B[39mexcept\u001B[39;00m \u001B[39mException\u001B[39;00m \u001B[39mas\u001B[39;00m e:  \u001B[39m# pylint: disable=broad-except\u001B[39;00m\n\u001B[0;32m     <a href='file:///c%3A/Users/piecz/AppData/Roaming/Python/Python39/site-packages/keras/utils/traceback_utils.py?line=65'>66</a>\u001B[0m   filtered_tb \u001B[39m=\u001B[39m _process_traceback_frames(e\u001B[39m.\u001B[39m__traceback__)\n\u001B[1;32m---> <a href='file:///c%3A/Users/piecz/AppData/Roaming/Python/Python39/site-packages/keras/utils/traceback_utils.py?line=66'>67</a>\u001B[0m   \u001B[39mraise\u001B[39;00m e\u001B[39m.\u001B[39mwith_traceback(filtered_tb) \u001B[39mfrom\u001B[39;00m \u001B[39mNone\u001B[39m\n\u001B[0;32m     <a href='file:///c%3A/Users/piecz/AppData/Roaming/Python/Python39/site-packages/keras/utils/traceback_utils.py?line=67'>68</a>\u001B[0m \u001B[39mfinally\u001B[39;00m:\n\u001B[0;32m     <a href='file:///c%3A/Users/piecz/AppData/Roaming/Python/Python39/site-packages/keras/utils/traceback_utils.py?line=68'>69</a>\u001B[0m   \u001B[39mdel\u001B[39;00m filtered_tb\n",
      "File \u001B[1;32m~\\AppData\\Roaming\\Python\\Python39\\site-packages\\tensorflow\\python\\training\\py_checkpoint_reader.py:45\u001B[0m, in \u001B[0;36merror_translator\u001B[1;34m(e)\u001B[0m\n\u001B[0;32m     <a href='file:///c%3A/Users/piecz/AppData/Roaming/Python/Python39/site-packages/tensorflow/python/training/py_checkpoint_reader.py?line=42'>43</a>\u001B[0m   \u001B[39mraise\u001B[39;00m errors_impl\u001B[39m.\u001B[39mInternalError(\u001B[39mNone\u001B[39;00m, \u001B[39mNone\u001B[39;00m, error_message)\n\u001B[0;32m     <a href='file:///c%3A/Users/piecz/AppData/Roaming/Python/Python39/site-packages/tensorflow/python/training/py_checkpoint_reader.py?line=43'>44</a>\u001B[0m \u001B[39melse\u001B[39;00m:\n\u001B[1;32m---> <a href='file:///c%3A/Users/piecz/AppData/Roaming/Python/Python39/site-packages/tensorflow/python/training/py_checkpoint_reader.py?line=44'>45</a>\u001B[0m   \u001B[39mraise\u001B[39;00m errors_impl\u001B[39m.\u001B[39mOpError(\u001B[39mNone\u001B[39;00m, \u001B[39mNone\u001B[39;00m, error_message, errors_impl\u001B[39m.\u001B[39mUNKNOWN)\n",
      "\u001B[1;31mOpError\u001B[0m: "
     ]
    }
   ],
   "source": [
    "model1.load_weights(\"wagi_best1.h5py\")\n",
    "model1.evaluate(X_test,y_test)"
   ]
  }
 ],
 "metadata": {
  "interpreter": {
   "hash": "50b6c996a8e76fc6c97726ff3b73d1a4f9ab4e411887ecf5062ac1c2e0dec53f"
  },
  "kernelspec": {
   "display_name": "Python 3.9.10 64-bit",
   "language": "python",
   "name": "python3"
  },
  "language_info": {
   "codemirror_mode": {
    "name": "ipython",
    "version": 3
   },
   "file_extension": ".py",
   "mimetype": "text/x-python",
   "name": "python",
   "nbconvert_exporter": "python",
   "pygments_lexer": "ipython3",
   "version": "3.9.10"
  }
 },
 "nbformat": 4,
 "nbformat_minor": 4
}