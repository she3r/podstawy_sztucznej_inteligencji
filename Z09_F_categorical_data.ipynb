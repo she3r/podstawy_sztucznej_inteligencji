{
 "cells": [
  {
   "cell_type": "code",
   "execution_count": 2,
   "metadata": {
    "pycharm": {
     "name": "#%%\n"
    }
   },
   "outputs": [],
   "source": [
    "import numpy as np\n",
    "import pandas as pd\n",
    "import matplotlib.pyplot as plt"
   ]
  },
  {
   "cell_type": "markdown",
   "metadata": {
    "pycharm": {
     "name": "#%% md\n"
    }
   },
   "source": [
    "# Categorical data"
   ]
  },
  {
   "cell_type": "code",
   "execution_count": 3,
   "metadata": {
    "pycharm": {
     "name": "#%%\n"
    }
   },
   "outputs": [
    {
     "name": "stderr",
     "output_type": "stream",
     "text": [
      "C:\\Users\\sch03\\AppData\\Local\\Temp/ipykernel_18444/1363404034.py:14: SettingWithCopyWarning: \n",
      "A value is trying to be set on a copy of a slice from a DataFrame\n",
      "\n",
      "See the caveats in the documentation: https://pandas.pydata.org/pandas-docs/stable/user_guide/indexing.html#returning-a-view-versus-a-copy\n",
      "  data['education-num'][0]=None\n"
     ]
    },
    {
     "data": {
      "text/plain": "           workclass  age   education  education-num          occupation  \\\n0          State-gov   39   Bachelors            NaN        Adm-clerical   \n1   Self-emp-not-inc   50   Bachelors           13.0     Exec-managerial   \n2            Private   38     HS-grad            9.0   Handlers-cleaners   \n3            Private   53        11th            7.0   Handlers-cleaners   \n4            Private   28   Bachelors           13.0      Prof-specialty   \n\n   capital-gain   gender  hours-per-week  income  \n0          2174     Male              40   <=50K  \n1             0     Male              13   <=50K  \n2             0     Male              40   <=50K  \n3             0     Male              40   <=50K  \n4             0   Female              40   <=50K  ",
      "text/html": "<div>\n<style scoped>\n    .dataframe tbody tr th:only-of-type {\n        vertical-align: middle;\n    }\n\n    .dataframe tbody tr th {\n        vertical-align: top;\n    }\n\n    .dataframe thead th {\n        text-align: right;\n    }\n</style>\n<table border=\"1\" class=\"dataframe\">\n  <thead>\n    <tr style=\"text-align: right;\">\n      <th></th>\n      <th>workclass</th>\n      <th>age</th>\n      <th>education</th>\n      <th>education-num</th>\n      <th>occupation</th>\n      <th>capital-gain</th>\n      <th>gender</th>\n      <th>hours-per-week</th>\n      <th>income</th>\n    </tr>\n  </thead>\n  <tbody>\n    <tr>\n      <th>0</th>\n      <td>State-gov</td>\n      <td>39</td>\n      <td>Bachelors</td>\n      <td>NaN</td>\n      <td>Adm-clerical</td>\n      <td>2174</td>\n      <td>Male</td>\n      <td>40</td>\n      <td>&lt;=50K</td>\n    </tr>\n    <tr>\n      <th>1</th>\n      <td>Self-emp-not-inc</td>\n      <td>50</td>\n      <td>Bachelors</td>\n      <td>13.0</td>\n      <td>Exec-managerial</td>\n      <td>0</td>\n      <td>Male</td>\n      <td>13</td>\n      <td>&lt;=50K</td>\n    </tr>\n    <tr>\n      <th>2</th>\n      <td>Private</td>\n      <td>38</td>\n      <td>HS-grad</td>\n      <td>9.0</td>\n      <td>Handlers-cleaners</td>\n      <td>0</td>\n      <td>Male</td>\n      <td>40</td>\n      <td>&lt;=50K</td>\n    </tr>\n    <tr>\n      <th>3</th>\n      <td>Private</td>\n      <td>53</td>\n      <td>11th</td>\n      <td>7.0</td>\n      <td>Handlers-cleaners</td>\n      <td>0</td>\n      <td>Male</td>\n      <td>40</td>\n      <td>&lt;=50K</td>\n    </tr>\n    <tr>\n      <th>4</th>\n      <td>Private</td>\n      <td>28</td>\n      <td>Bachelors</td>\n      <td>13.0</td>\n      <td>Prof-specialty</td>\n      <td>0</td>\n      <td>Female</td>\n      <td>40</td>\n      <td>&lt;=50K</td>\n    </tr>\n  </tbody>\n</table>\n</div>"
     },
     "metadata": {},
     "output_type": "display_data"
    }
   ],
   "source": [
    "# The file has no headers naming the columns, so we pass header=None\n",
    "# and provide the column names explicitly in \"names\"\n",
    "data = pd.read_csv(\n",
    "    \"https://archive.ics.uci.edu/ml/machine-learning-databases/adult/adult.data\", na_values=[\" ?\"], \n",
    "    header=None, index_col=False,\n",
    "    names=['age', 'workclass', 'fnlwgt', 'education', 'education-num',\n",
    "    'marital-status', 'occupation', 'relationship', 'race', 'gender',\n",
    "    'capital-gain', 'capital-loss', 'hours-per-week', 'native-country',\n",
    "    'income'])\n",
    "# For illustration purposes, we only select some of the columns\n",
    "data = data[['workclass', 'age', 'education', 'education-num', 'occupation', 'capital-gain','gender', 'hours-per-week',  'income']]\n",
    "# IPython.display allows nice output formatting within the Jupyter notebook\n",
    "# add some none\n",
    "data['education-num'][0]=None\n",
    "display(data.head())"
   ]
  },
  {
   "cell_type": "code",
   "execution_count": 4,
   "metadata": {
    "pycharm": {
     "name": "#%%\n"
    }
   },
   "outputs": [],
   "source": [
    "data = data[1:1000]"
   ]
  },
  {
   "cell_type": "code",
   "execution_count": 5,
   "metadata": {
    "pycharm": {
     "name": "#%%\n"
    }
   },
   "outputs": [
    {
     "data": {
      "text/plain": "workclass         62\nage                0\neducation          0\neducation-num      0\noccupation        62\ncapital-gain       0\ngender             0\nhours-per-week     0\nincome             0\ndtype: int64"
     },
     "execution_count": 5,
     "metadata": {},
     "output_type": "execute_result"
    }
   ],
   "source": [
    "data.isnull().sum()"
   ]
  },
  {
   "cell_type": "markdown",
   "metadata": {
    "pycharm": {
     "name": "#%% md\n"
    }
   },
   "source": [
    "Teraz rzućmy okiem na wszystkie atrybuty kategoryczne:"
   ]
  },
  {
   "cell_type": "code",
   "execution_count": 6,
   "metadata": {
    "pycharm": {
     "name": "#%%\n"
    }
   },
   "outputs": [
    {
     "data": {
      "text/plain": " Private             698\n Self-emp-not-inc     81\n Local-gov            68\n State-gov            36\n Self-emp-inc         33\n Federal-gov          21\nName: workclass, dtype: int64"
     },
     "execution_count": 6,
     "metadata": {},
     "output_type": "execute_result"
    }
   ],
   "source": [
    "data[\"workclass\"].value_counts()"
   ]
  },
  {
   "cell_type": "code",
   "execution_count": 7,
   "metadata": {
    "pycharm": {
     "name": "#%%\n"
    }
   },
   "outputs": [
    {
     "data": {
      "text/plain": " HS-grad         321\n Some-college    225\n Bachelors       165\n Masters          54\n Assoc-voc        48\n 11th             46\n Assoc-acdm       35\n 10th             21\n 9th              16\n 7th-8th          15\n Doctorate        14\n 5th-6th          11\n Prof-school      10\n 12th              9\n 1st-4th           7\n Preschool         2\nName: education, dtype: int64"
     },
     "execution_count": 7,
     "metadata": {},
     "output_type": "execute_result"
    }
   ],
   "source": [
    "data[\"education\"].value_counts()"
   ]
  },
  {
   "cell_type": "code",
   "execution_count": 8,
   "metadata": {
    "pycharm": {
     "name": "#%%\n"
    }
   },
   "outputs": [
    {
     "data": {
      "text/plain": " Male      670\n Female    329\nName: gender, dtype: int64"
     },
     "execution_count": 8,
     "metadata": {},
     "output_type": "execute_result"
    }
   ],
   "source": [
    "data[\"gender\"].value_counts()"
   ]
  },
  {
   "cell_type": "code",
   "execution_count": 9,
   "metadata": {
    "pycharm": {
     "name": "#%%\n"
    }
   },
   "outputs": [
    {
     "data": {
      "text/plain": " Craft-repair         126\n Exec-managerial      124\n Prof-specialty       124\n Sales                112\n Other-service        107\n Adm-clerical          93\n Machine-op-inspct     61\n Transport-moving      52\n Tech-support          44\n Handlers-cleaners     43\n Farming-fishing       31\n Protective-serv       16\n Priv-house-serv        3\n Armed-Forces           1\nName: occupation, dtype: int64"
     },
     "execution_count": 9,
     "metadata": {},
     "output_type": "execute_result"
    }
   ],
   "source": [
    "data[\"occupation\"].value_counts()"
   ]
  },
  {
   "cell_type": "markdown",
   "source": [
    "Sprawdźmy, czy etykiety przyjmują wartości 0 lub 1.\n",
    "\n",
    "Jak nie to musimy jes troszkę przerobić."
   ],
   "metadata": {
    "collapsed": false,
    "pycharm": {
     "name": "#%% md\n"
    }
   }
  },
  {
   "cell_type": "code",
   "execution_count": 10,
   "metadata": {
    "pycharm": {
     "name": "#%%\n"
    }
   },
   "outputs": [
    {
     "data": {
      "text/plain": "array([0, 0, 0, 0, 0, 0, 1, 1, 1, 1, 1, 0, 0, 1, 0, 0, 0, 0, 1, 1, 0, 0,\n       0, 0, 1, 0, 1, 0, 0, 0, 0, 0, 0, 0, 0, 0, 0, 1, 0, 0, 0, 0, 0, 0,\n       1, 0, 0, 0, 0, 0, 0, 1, 1, 0, 1, 0, 0, 0, 0, 0, 0, 0, 1, 0, 0, 0,\n       1, 1, 0, 0, 0, 1, 0, 0, 0, 0, 0, 0, 0, 0, 0, 0, 0, 1, 0, 1, 0, 0,\n       1, 0, 0, 0, 0, 1, 0, 1, 1, 0, 0, 1, 1, 0, 0, 0, 1, 0, 0, 0, 0, 0,\n       1, 1, 0, 0, 0, 0, 1, 0, 0, 0, 0, 0, 1, 0, 1, 0, 1, 0, 0, 0, 0, 0,\n       0, 0, 1, 0, 0, 0, 1, 0, 0, 0, 1, 0, 0, 0, 0, 0, 0, 0, 0, 0, 0, 1,\n       0, 0, 0, 0, 0, 0, 0, 0, 0, 1, 0, 0, 0, 0, 0, 0, 0, 1, 0, 1, 0, 0,\n       0, 0, 0, 1, 0, 0, 1, 1, 0, 0, 0, 0, 1, 0, 0, 0, 0, 0, 0, 0, 1, 1,\n       0, 0, 0, 1, 0, 0, 0, 1, 0, 1, 0, 0, 1, 0, 0, 1, 1, 0, 0, 0, 0, 0,\n       0, 0, 0, 0, 0, 0, 0, 0, 0, 0, 0, 0, 0, 1, 0, 0, 1, 1, 0, 1, 0, 0,\n       0, 0, 0, 1, 0, 1, 0, 1, 0, 0, 0, 0, 1, 0, 0, 0, 0, 0, 0, 0, 0, 0,\n       1, 0, 1, 0, 1, 1, 0, 0, 0, 0, 0, 1, 0, 0, 1, 0, 1, 0, 0, 0, 1, 1,\n       0, 0, 0, 0, 0, 0, 0, 0, 0, 0, 0, 0, 0, 1, 0, 1, 1, 0, 0, 0, 0, 1,\n       1, 0, 1, 0, 1, 0, 0, 0, 0, 0, 0, 0, 0, 0, 0, 0, 0, 0, 1, 0, 0, 0,\n       0, 0, 0, 0, 0, 0, 0, 0, 0, 0, 1, 1, 0, 0, 0, 0, 0, 0, 0, 1, 0, 1,\n       0, 1, 1, 0, 1, 0, 0, 0, 1, 0, 1, 0, 0, 0, 0, 1, 0, 0, 0, 1, 0, 0,\n       0, 0, 0, 0, 0, 0, 0, 0, 0, 0, 0, 0, 1, 0, 0, 1, 0, 0, 1, 0, 0, 0,\n       0, 1, 1, 0, 0, 1, 0, 0, 1, 0, 0, 1, 0, 0, 0, 0, 1, 0, 1, 0, 0, 0,\n       0, 0, 0, 1, 0, 0, 0, 0, 0, 1, 0, 0, 0, 0, 1, 0, 1, 0, 0, 0, 0, 0,\n       0, 0, 1, 0, 0, 0, 0, 0, 0, 0, 1, 1, 1, 1, 1, 0, 0, 0, 0, 0, 0, 0,\n       0, 0, 0, 0, 0, 1, 1, 1, 0, 0, 0, 0, 0, 0, 0, 0, 0, 0, 0, 0, 0, 0,\n       0, 0, 0, 0, 1, 0, 0, 0, 0, 0, 0, 0, 0, 0, 0, 0, 0, 0, 0, 0, 0, 0,\n       0, 0, 0, 0, 0, 0, 1, 0, 0, 0, 0, 0, 1, 1, 1, 0, 1, 1, 0, 1, 0, 0,\n       0, 0, 0, 0, 1, 1, 0, 0, 0, 0, 0, 0, 0, 0, 0, 0, 0, 0, 0, 0, 0, 0,\n       0, 0, 0, 1, 0, 0, 0, 0, 0, 0, 1, 1, 0, 1, 0, 0, 0, 0, 0, 0, 0, 0,\n       1, 0, 1, 0, 0, 0, 0, 1, 1, 0, 0, 0, 0, 0, 0, 1, 0, 0, 0, 1, 1, 0,\n       0, 0, 1, 0, 0, 0, 0, 0, 0, 0, 0, 1, 0, 0, 0, 0, 0, 0, 0, 0, 0, 0,\n       0, 0, 1, 0, 0, 0, 0, 0, 0, 1, 0, 1, 1, 0, 0, 1, 1, 0, 0, 0, 1, 0,\n       1, 0, 0, 0, 1, 0, 1, 0, 0, 0, 1, 0, 0, 1, 0, 0, 0, 0, 0, 0, 1, 1,\n       0, 0, 0, 0, 1, 0, 1, 0, 0, 0, 0, 0, 1, 1, 0, 0, 0, 0, 0, 0, 1, 1,\n       0, 0, 0, 0, 0, 0, 0, 0, 0, 0, 0, 0, 0, 1, 1, 0, 0, 0, 0, 0, 0, 1,\n       1, 0, 0, 0, 0, 0, 0, 0, 0, 0, 0, 0, 0, 0, 1, 0, 0, 0, 1, 1, 1, 0,\n       0, 0, 1, 0, 0, 0, 0, 0, 0, 0, 0, 0, 1, 0, 0, 1, 0, 0, 1, 1, 0, 0,\n       0, 1, 0, 0, 0, 0, 0, 1, 0, 1, 0, 0, 1, 0, 1, 1, 0, 0, 0, 0, 0, 0,\n       0, 0, 1, 0, 0, 0, 0, 1, 0, 0, 0, 1, 0, 1, 0, 0, 0, 0, 0, 1, 0, 0,\n       0, 1, 0, 0, 0, 1, 1, 0, 0, 0, 0, 0, 1, 0, 1, 1, 0, 0, 0, 0, 0, 0,\n       0, 0, 1, 0, 1, 0, 0, 0, 0, 0, 1, 0, 0, 0, 0, 0, 1, 0, 0, 0, 0, 0,\n       1, 0, 0, 0, 0, 1, 0, 1, 0, 0, 1, 0, 0, 1, 0, 0, 0, 1, 0, 0, 1, 0,\n       1, 0, 0, 0, 0, 0, 0, 0, 0, 1, 0, 1, 0, 1, 1, 0, 1, 0, 0, 1, 0, 0,\n       1, 0, 1, 0, 0, 0, 0, 0, 0, 0, 0, 0, 1, 1, 0, 0, 0, 1, 0, 0, 0, 0,\n       0, 0, 0, 0, 0, 0, 0, 0, 0, 0, 0, 0, 1, 0, 1, 0, 0, 0, 0, 0, 0, 0,\n       0, 0, 1, 0, 0, 0, 0, 0, 0, 1, 1, 0, 1, 0, 1, 0, 0, 1, 0, 0, 0, 0,\n       1, 0, 0, 1, 1, 0, 0, 0, 0, 1, 0, 1, 1, 0, 0, 0, 0, 0, 0, 1, 0, 1,\n       0, 1, 0, 1, 0, 0, 0, 0, 1, 0, 0, 0, 0, 0, 0, 1, 0, 0, 0, 0, 0, 0,\n       0, 0, 1, 0, 1, 0, 1, 0, 1], dtype=object)"
     },
     "execution_count": 10,
     "metadata": {},
     "output_type": "execute_result"
    }
   ],
   "source": [
    "X = data.drop(['income'], axis=1)\n",
    "y = data['income'].values\n",
    "np.unique(y)\n",
    "y[ y == ' <=50K'] = 0\n",
    "y[ y == ' >50K'] = 1\n",
    "y"
   ]
  },
  {
   "cell_type": "code",
   "execution_count": 11,
   "outputs": [
    {
     "data": {
      "text/plain": "array([0, 0, 0, 0, 0, 0, 1, 1, 1, 1, 1, 0, 0, 1, 0, 0, 0, 0, 1, 1, 0, 0,\n       0, 0, 1, 0, 1, 0, 0, 0, 0, 0, 0, 0, 0, 0, 0, 1, 0, 0, 0, 0, 0, 0,\n       1, 0, 0, 0, 0, 0, 0, 1, 1, 0, 1, 0, 0, 0, 0, 0, 0, 0, 1, 0, 0, 0,\n       1, 1, 0, 0, 0, 1, 0, 0, 0, 0, 0, 0, 0, 0, 0, 0, 0, 1, 0, 1, 0, 0,\n       1, 0, 0, 0, 0, 1, 0, 1, 1, 0, 0, 1, 1, 0, 0, 0, 1, 0, 0, 0, 0, 0,\n       1, 1, 0, 0, 0, 0, 1, 0, 0, 0, 0, 0, 1, 0, 1, 0, 1, 0, 0, 0, 0, 0,\n       0, 0, 1, 0, 0, 0, 1, 0, 0, 0, 1, 0, 0, 0, 0, 0, 0, 0, 0, 0, 0, 1,\n       0, 0, 0, 0, 0, 0, 0, 0, 0, 1, 0, 0, 0, 0, 0, 0, 0, 1, 0, 1, 0, 0,\n       0, 0, 0, 1, 0, 0, 1, 1, 0, 0, 0, 0, 1, 0, 0, 0, 0, 0, 0, 0, 1, 1,\n       0, 0, 0, 1, 0, 0, 0, 1, 0, 1, 0, 0, 1, 0, 0, 1, 1, 0, 0, 0, 0, 0,\n       0, 0, 0, 0, 0, 0, 0, 0, 0, 0, 0, 0, 0, 1, 0, 0, 1, 1, 0, 1, 0, 0,\n       0, 0, 0, 1, 0, 1, 0, 1, 0, 0, 0, 0, 1, 0, 0, 0, 0, 0, 0, 0, 0, 0,\n       1, 0, 1, 0, 1, 1, 0, 0, 0, 0, 0, 1, 0, 0, 1, 0, 1, 0, 0, 0, 1, 1,\n       0, 0, 0, 0, 0, 0, 0, 0, 0, 0, 0, 0, 0, 1, 0, 1, 1, 0, 0, 0, 0, 1,\n       1, 0, 1, 0, 1, 0, 0, 0, 0, 0, 0, 0, 0, 0, 0, 0, 0, 0, 1, 0, 0, 0,\n       0, 0, 0, 0, 0, 0, 0, 0, 0, 0, 1, 1, 0, 0, 0, 0, 0, 0, 0, 1, 0, 1,\n       0, 1, 1, 0, 1, 0, 0, 0, 1, 0, 1, 0, 0, 0, 0, 1, 0, 0, 0, 1, 0, 0,\n       0, 0, 0, 0, 0, 0, 0, 0, 0, 0, 0, 0, 1, 0, 0, 1, 0, 0, 1, 0, 0, 0,\n       0, 1, 1, 0, 0, 1, 0, 0, 1, 0, 0, 1, 0, 0, 0, 0, 1, 0, 1, 0, 0, 0,\n       0, 0, 0, 1, 0, 0, 0, 0, 0, 1, 0, 0, 0, 0, 1, 0, 1, 0, 0, 0, 0, 0,\n       0, 0, 1, 0, 0, 0, 0, 0, 0, 0, 1, 1, 1, 1, 1, 0, 0, 0, 0, 0, 0, 0,\n       0, 0, 0, 0, 0, 1, 1, 1, 0, 0, 0, 0, 0, 0, 0, 0, 0, 0, 0, 0, 0, 0,\n       0, 0, 0, 0, 1, 0, 0, 0, 0, 0, 0, 0, 0, 0, 0, 0, 0, 0, 0, 0, 0, 0,\n       0, 0, 0, 0, 0, 0, 1, 0, 0, 0, 0, 0, 1, 1, 1, 0, 1, 1, 0, 1, 0, 0,\n       0, 0, 0, 0, 1, 1, 0, 0, 0, 0, 0, 0, 0, 0, 0, 0, 0, 0, 0, 0, 0, 0,\n       0, 0, 0, 1, 0, 0, 0, 0, 0, 0, 1, 1, 0, 1, 0, 0, 0, 0, 0, 0, 0, 0,\n       1, 0, 1, 0, 0, 0, 0, 1, 1, 0, 0, 0, 0, 0, 0, 1, 0, 0, 0, 1, 1, 0,\n       0, 0, 1, 0, 0, 0, 0, 0, 0, 0, 0, 1, 0, 0, 0, 0, 0, 0, 0, 0, 0, 0,\n       0, 0, 1, 0, 0, 0, 0, 0, 0, 1, 0, 1, 1, 0, 0, 1, 1, 0, 0, 0, 1, 0,\n       1, 0, 0, 0, 1, 0, 1, 0, 0, 0, 1, 0, 0, 1, 0, 0, 0, 0, 0, 0, 1, 1,\n       0, 0, 0, 0, 1, 0, 1, 0, 0, 0, 0, 0, 1, 1, 0, 0, 0, 0, 0, 0, 1, 1,\n       0, 0, 0, 0, 0, 0, 0, 0, 0, 0, 0, 0, 0, 1, 1, 0, 0, 0, 0, 0, 0, 1,\n       1, 0, 0, 0, 0, 0, 0, 0, 0, 0, 0, 0, 0, 0, 1, 0, 0, 0, 1, 1, 1, 0,\n       0, 0, 1, 0, 0, 0, 0, 0, 0, 0, 0, 0, 1, 0, 0, 1, 0, 0, 1, 1, 0, 0,\n       0, 1, 0, 0, 0, 0, 0, 1, 0, 1, 0, 0, 1, 0, 1, 1, 0, 0, 0, 0, 0, 0,\n       0, 0, 1, 0, 0, 0, 0, 1, 0, 0, 0, 1, 0, 1, 0, 0, 0, 0, 0, 1, 0, 0,\n       0, 1, 0, 0, 0, 1, 1, 0, 0, 0, 0, 0, 1, 0, 1, 1, 0, 0, 0, 0, 0, 0,\n       0, 0, 1, 0, 1, 0, 0, 0, 0, 0, 1, 0, 0, 0, 0, 0, 1, 0, 0, 0, 0, 0,\n       1, 0, 0, 0, 0, 1, 0, 1, 0, 0, 1, 0, 0, 1, 0, 0, 0, 1, 0, 0, 1, 0,\n       1, 0, 0, 0, 0, 0, 0, 0, 0, 1, 0, 1, 0, 1, 1, 0, 1, 0, 0, 1, 0, 0,\n       1, 0, 1, 0, 0, 0, 0, 0, 0, 0, 0, 0, 1, 1, 0, 0, 0, 1, 0, 0, 0, 0,\n       0, 0, 0, 0, 0, 0, 0, 0, 0, 0, 0, 0, 1, 0, 1, 0, 0, 0, 0, 0, 0, 0,\n       0, 0, 1, 0, 0, 0, 0, 0, 0, 1, 1, 0, 1, 0, 1, 0, 0, 1, 0, 0, 0, 0,\n       1, 0, 0, 1, 1, 0, 0, 0, 0, 1, 0, 1, 1, 0, 0, 0, 0, 0, 0, 1, 0, 1,\n       0, 1, 0, 1, 0, 0, 0, 0, 1, 0, 0, 0, 0, 0, 0, 1, 0, 0, 0, 0, 0, 0,\n       0, 0, 1, 0, 1, 0, 1, 0, 1])"
     },
     "execution_count": 11,
     "metadata": {},
     "output_type": "execute_result"
    }
   ],
   "source": [
    "from sklearn.preprocessing import LabelEncoder\n",
    "\n",
    "label_encoder = LabelEncoder()\n",
    "y = label_encoder.fit_transform(y)\n",
    "y"
   ],
   "metadata": {
    "collapsed": false,
    "pycharm": {
     "name": "#%%\n"
    }
   }
  },
  {
   "cell_type": "code",
   "execution_count": 12,
   "outputs": [
    {
     "name": "stdout",
     "output_type": "stream",
     "text": [
      "X.shape: (999, 8) y.shape: (999,)\n"
     ]
    }
   ],
   "source": [
    "\n",
    "print(\"X.shape: {} y.shape: {}\".format(X.shape, y.shape))"
   ],
   "metadata": {
    "collapsed": false,
    "pycharm": {
     "name": "#%%\n"
    }
   }
  },
  {
   "cell_type": "markdown",
   "metadata": {
    "pycharm": {
     "name": "#%% md\n"
    }
   },
   "source": [
    "Podzielmy zbiór na train/test"
   ]
  },
  {
   "cell_type": "code",
   "execution_count": 13,
   "metadata": {
    "pycharm": {
     "name": "#%%\n"
    }
   },
   "outputs": [
    {
     "data": {
      "text/plain": "        workclass  age      education  education-num          occupation  \\\n779       Private   54   Some-college           10.0        Tech-support   \n287       Private   50   Some-college           10.0       Other-service   \n166   Federal-gov   39     Assoc-acdm           12.0     Exec-managerial   \n961       Private   32        HS-grad            9.0   Machine-op-inspct   \n494       Private   33      Bachelors           13.0        Craft-repair   \n..            ...  ...            ...            ...                 ...   \n107       Private   30           11th            7.0   Handlers-cleaners   \n271       Private   17            9th            5.0       Other-service   \n861       Private   43        HS-grad            9.0     Farming-fishing   \n436     Local-gov   34        HS-grad            9.0     Farming-fishing   \n103       Private   20   Some-college           10.0        Tech-support   \n\n     capital-gain   gender  hours-per-week  \n779             0     Male              40  \n287             0     Male              45  \n166             0     Male              42  \n961             0   Female              38  \n494             0     Male              20  \n..            ...      ...             ...  \n107             0     Male              40  \n271          1055     Male              24  \n861             0     Male              40  \n436           594     Male              60  \n103             0   Female              40  \n\n[799 rows x 8 columns]",
      "text/html": "<div>\n<style scoped>\n    .dataframe tbody tr th:only-of-type {\n        vertical-align: middle;\n    }\n\n    .dataframe tbody tr th {\n        vertical-align: top;\n    }\n\n    .dataframe thead th {\n        text-align: right;\n    }\n</style>\n<table border=\"1\" class=\"dataframe\">\n  <thead>\n    <tr style=\"text-align: right;\">\n      <th></th>\n      <th>workclass</th>\n      <th>age</th>\n      <th>education</th>\n      <th>education-num</th>\n      <th>occupation</th>\n      <th>capital-gain</th>\n      <th>gender</th>\n      <th>hours-per-week</th>\n    </tr>\n  </thead>\n  <tbody>\n    <tr>\n      <th>779</th>\n      <td>Private</td>\n      <td>54</td>\n      <td>Some-college</td>\n      <td>10.0</td>\n      <td>Tech-support</td>\n      <td>0</td>\n      <td>Male</td>\n      <td>40</td>\n    </tr>\n    <tr>\n      <th>287</th>\n      <td>Private</td>\n      <td>50</td>\n      <td>Some-college</td>\n      <td>10.0</td>\n      <td>Other-service</td>\n      <td>0</td>\n      <td>Male</td>\n      <td>45</td>\n    </tr>\n    <tr>\n      <th>166</th>\n      <td>Federal-gov</td>\n      <td>39</td>\n      <td>Assoc-acdm</td>\n      <td>12.0</td>\n      <td>Exec-managerial</td>\n      <td>0</td>\n      <td>Male</td>\n      <td>42</td>\n    </tr>\n    <tr>\n      <th>961</th>\n      <td>Private</td>\n      <td>32</td>\n      <td>HS-grad</td>\n      <td>9.0</td>\n      <td>Machine-op-inspct</td>\n      <td>0</td>\n      <td>Female</td>\n      <td>38</td>\n    </tr>\n    <tr>\n      <th>494</th>\n      <td>Private</td>\n      <td>33</td>\n      <td>Bachelors</td>\n      <td>13.0</td>\n      <td>Craft-repair</td>\n      <td>0</td>\n      <td>Male</td>\n      <td>20</td>\n    </tr>\n    <tr>\n      <th>...</th>\n      <td>...</td>\n      <td>...</td>\n      <td>...</td>\n      <td>...</td>\n      <td>...</td>\n      <td>...</td>\n      <td>...</td>\n      <td>...</td>\n    </tr>\n    <tr>\n      <th>107</th>\n      <td>Private</td>\n      <td>30</td>\n      <td>11th</td>\n      <td>7.0</td>\n      <td>Handlers-cleaners</td>\n      <td>0</td>\n      <td>Male</td>\n      <td>40</td>\n    </tr>\n    <tr>\n      <th>271</th>\n      <td>Private</td>\n      <td>17</td>\n      <td>9th</td>\n      <td>5.0</td>\n      <td>Other-service</td>\n      <td>1055</td>\n      <td>Male</td>\n      <td>24</td>\n    </tr>\n    <tr>\n      <th>861</th>\n      <td>Private</td>\n      <td>43</td>\n      <td>HS-grad</td>\n      <td>9.0</td>\n      <td>Farming-fishing</td>\n      <td>0</td>\n      <td>Male</td>\n      <td>40</td>\n    </tr>\n    <tr>\n      <th>436</th>\n      <td>Local-gov</td>\n      <td>34</td>\n      <td>HS-grad</td>\n      <td>9.0</td>\n      <td>Farming-fishing</td>\n      <td>594</td>\n      <td>Male</td>\n      <td>60</td>\n    </tr>\n    <tr>\n      <th>103</th>\n      <td>Private</td>\n      <td>20</td>\n      <td>Some-college</td>\n      <td>10.0</td>\n      <td>Tech-support</td>\n      <td>0</td>\n      <td>Female</td>\n      <td>40</td>\n    </tr>\n  </tbody>\n</table>\n<p>799 rows × 8 columns</p>\n</div>"
     },
     "execution_count": 13,
     "metadata": {},
     "output_type": "execute_result"
    }
   ],
   "source": [
    "from sklearn.model_selection import train_test_split\n",
    "X_train, X_test, y_train, y_test = train_test_split(X, y, test_size=0.20, random_state=42)\n",
    "X_train"
   ]
  },
  {
   "cell_type": "markdown",
   "metadata": {
    "pycharm": {
     "name": "#%% md\n"
    }
   },
   "source": [
    "Teraz zbudujmy nasze **pipeline** preprocessingu. \n",
    "\n",
    "Wykorzystamy DataframeSelector aby wybrać określone atrybuty z DataFrame:"
   ]
  },
  {
   "cell_type": "code",
   "execution_count": 11,
   "metadata": {
    "pycharm": {
     "name": "#%%\n"
    }
   },
   "outputs": [],
   "source": [
    "from sklearn.base import BaseEstimator, TransformerMixin\n",
    "\n",
    "# A class to select numerical or categorical columns \n",
    "# since Scikit-Learn doesn't handle DataFrames yet\n",
    "class DataFrameSelector(BaseEstimator, TransformerMixin):\n",
    "    def __init__(self, attribute_names):\n",
    "        self.attribute_names = attribute_names\n",
    "    def fit(self, X, y=None):\n",
    "        return self\n",
    "    def transform(self, X):\n",
    "        return X[self.attribute_names]"
   ]
  },
  {
   "cell_type": "markdown",
   "metadata": {
    "pycharm": {
     "name": "#%% md\n"
    }
   },
   "source": [
    "Zbudujmy **pipeline** dla atrybutów numerycznych:"
   ]
  },
  {
   "cell_type": "code",
   "execution_count": 14,
   "metadata": {
    "pycharm": {
     "name": "#%%\n"
    }
   },
   "outputs": [],
   "source": [
    "from sklearn.pipeline import Pipeline\n",
    "from sklearn.impute import SimpleImputer\n",
    "\n",
    "\n",
    "num_pipeline = Pipeline([\n",
    "        (\"select_numeric\", DataFrameSelector([\"education-num\"])),\n",
    "        (\"imputer\", SimpleImputer(strategy=\"median\")),\n",
    "    ])"
   ]
  },
  {
   "cell_type": "code",
   "execution_count": 15,
   "metadata": {
    "pycharm": {
     "name": "#%%\n"
    }
   },
   "outputs": [
    {
     "data": {
      "text/plain": [
       "array([[10.],\n",
       "       [10.],\n",
       "       [12.],\n",
       "       [ 9.],\n",
       "       [13.],\n",
       "       [ 9.],\n",
       "       [10.],\n",
       "       [10.],\n",
       "       [ 9.],\n",
       "       [ 9.],\n",
       "       [ 7.],\n",
       "       [14.],\n",
       "       [10.],\n",
       "       [ 9.],\n",
       "       [10.],\n",
       "       [ 9.],\n",
       "       [ 9.],\n",
       "       [10.],\n",
       "       [ 9.],\n",
       "       [10.],\n",
       "       [12.],\n",
       "       [ 9.],\n",
       "       [10.],\n",
       "       [13.],\n",
       "       [ 9.],\n",
       "       [ 2.],\n",
       "       [ 9.],\n",
       "       [ 9.],\n",
       "       [12.],\n",
       "       [ 9.],\n",
       "       [10.],\n",
       "       [13.],\n",
       "       [10.],\n",
       "       [10.],\n",
       "       [10.],\n",
       "       [ 6.],\n",
       "       [13.],\n",
       "       [ 7.],\n",
       "       [14.],\n",
       "       [11.],\n",
       "       [12.],\n",
       "       [13.],\n",
       "       [ 9.],\n",
       "       [ 7.],\n",
       "       [ 9.],\n",
       "       [14.],\n",
       "       [ 9.],\n",
       "       [ 9.],\n",
       "       [ 7.],\n",
       "       [13.],\n",
       "       [ 7.],\n",
       "       [ 9.],\n",
       "       [13.],\n",
       "       [ 2.],\n",
       "       [ 7.],\n",
       "       [14.],\n",
       "       [ 6.],\n",
       "       [10.],\n",
       "       [ 5.],\n",
       "       [13.],\n",
       "       [11.],\n",
       "       [12.],\n",
       "       [10.],\n",
       "       [ 7.],\n",
       "       [10.],\n",
       "       [ 9.],\n",
       "       [10.],\n",
       "       [ 7.],\n",
       "       [10.],\n",
       "       [13.],\n",
       "       [ 9.],\n",
       "       [13.],\n",
       "       [13.],\n",
       "       [13.],\n",
       "       [10.],\n",
       "       [14.],\n",
       "       [ 5.],\n",
       "       [ 9.],\n",
       "       [10.],\n",
       "       [10.],\n",
       "       [15.],\n",
       "       [13.],\n",
       "       [13.],\n",
       "       [10.],\n",
       "       [ 9.],\n",
       "       [ 9.],\n",
       "       [ 9.],\n",
       "       [11.],\n",
       "       [ 9.],\n",
       "       [13.],\n",
       "       [ 9.],\n",
       "       [ 9.],\n",
       "       [ 9.],\n",
       "       [ 9.],\n",
       "       [10.],\n",
       "       [10.],\n",
       "       [14.],\n",
       "       [14.],\n",
       "       [13.],\n",
       "       [ 9.],\n",
       "       [ 7.],\n",
       "       [ 6.],\n",
       "       [10.],\n",
       "       [13.],\n",
       "       [13.],\n",
       "       [ 9.],\n",
       "       [ 8.],\n",
       "       [ 7.],\n",
       "       [10.],\n",
       "       [13.],\n",
       "       [ 7.],\n",
       "       [ 9.],\n",
       "       [10.],\n",
       "       [ 9.],\n",
       "       [ 9.],\n",
       "       [ 9.],\n",
       "       [ 9.],\n",
       "       [10.],\n",
       "       [ 9.],\n",
       "       [ 9.],\n",
       "       [10.],\n",
       "       [ 9.],\n",
       "       [ 3.],\n",
       "       [13.],\n",
       "       [10.],\n",
       "       [ 1.],\n",
       "       [ 8.],\n",
       "       [ 9.],\n",
       "       [12.],\n",
       "       [10.],\n",
       "       [10.],\n",
       "       [14.],\n",
       "       [13.],\n",
       "       [13.],\n",
       "       [ 3.],\n",
       "       [ 8.],\n",
       "       [11.],\n",
       "       [ 9.],\n",
       "       [ 9.],\n",
       "       [10.],\n",
       "       [ 7.],\n",
       "       [13.],\n",
       "       [10.],\n",
       "       [ 9.],\n",
       "       [ 7.],\n",
       "       [12.],\n",
       "       [10.],\n",
       "       [13.],\n",
       "       [10.],\n",
       "       [ 9.],\n",
       "       [14.],\n",
       "       [10.],\n",
       "       [13.],\n",
       "       [ 9.],\n",
       "       [10.],\n",
       "       [ 9.],\n",
       "       [10.],\n",
       "       [ 9.],\n",
       "       [ 7.],\n",
       "       [ 5.],\n",
       "       [ 9.],\n",
       "       [ 9.],\n",
       "       [10.],\n",
       "       [ 9.],\n",
       "       [ 9.],\n",
       "       [13.],\n",
       "       [ 9.],\n",
       "       [13.],\n",
       "       [ 9.],\n",
       "       [ 9.],\n",
       "       [10.],\n",
       "       [13.],\n",
       "       [ 9.],\n",
       "       [ 9.],\n",
       "       [ 7.],\n",
       "       [10.],\n",
       "       [10.],\n",
       "       [14.],\n",
       "       [ 9.],\n",
       "       [10.],\n",
       "       [13.],\n",
       "       [ 9.],\n",
       "       [ 2.],\n",
       "       [13.],\n",
       "       [ 6.],\n",
       "       [13.],\n",
       "       [13.],\n",
       "       [10.],\n",
       "       [13.],\n",
       "       [13.],\n",
       "       [13.],\n",
       "       [ 9.],\n",
       "       [ 6.],\n",
       "       [11.],\n",
       "       [ 3.],\n",
       "       [ 9.],\n",
       "       [16.],\n",
       "       [ 7.],\n",
       "       [13.],\n",
       "       [10.],\n",
       "       [ 9.],\n",
       "       [ 9.],\n",
       "       [13.],\n",
       "       [13.],\n",
       "       [ 9.],\n",
       "       [ 9.],\n",
       "       [15.],\n",
       "       [ 9.],\n",
       "       [13.],\n",
       "       [10.],\n",
       "       [10.],\n",
       "       [10.],\n",
       "       [11.],\n",
       "       [11.],\n",
       "       [ 9.],\n",
       "       [ 9.],\n",
       "       [ 9.],\n",
       "       [ 9.],\n",
       "       [14.],\n",
       "       [ 9.],\n",
       "       [13.],\n",
       "       [ 9.],\n",
       "       [10.],\n",
       "       [13.],\n",
       "       [ 9.],\n",
       "       [ 9.],\n",
       "       [10.],\n",
       "       [14.],\n",
       "       [15.],\n",
       "       [14.],\n",
       "       [ 9.],\n",
       "       [ 9.],\n",
       "       [10.],\n",
       "       [12.],\n",
       "       [ 4.],\n",
       "       [ 9.],\n",
       "       [ 9.],\n",
       "       [11.],\n",
       "       [ 1.],\n",
       "       [ 9.],\n",
       "       [ 6.],\n",
       "       [10.],\n",
       "       [ 9.],\n",
       "       [ 9.],\n",
       "       [10.],\n",
       "       [ 9.],\n",
       "       [12.],\n",
       "       [ 9.],\n",
       "       [10.],\n",
       "       [13.],\n",
       "       [ 9.],\n",
       "       [14.],\n",
       "       [ 9.],\n",
       "       [ 9.],\n",
       "       [10.],\n",
       "       [ 5.],\n",
       "       [ 9.],\n",
       "       [16.],\n",
       "       [ 9.],\n",
       "       [ 9.],\n",
       "       [14.],\n",
       "       [13.],\n",
       "       [13.],\n",
       "       [ 9.],\n",
       "       [ 5.],\n",
       "       [ 7.],\n",
       "       [16.],\n",
       "       [ 9.],\n",
       "       [10.],\n",
       "       [ 9.],\n",
       "       [13.],\n",
       "       [11.],\n",
       "       [14.],\n",
       "       [ 9.],\n",
       "       [10.],\n",
       "       [ 9.],\n",
       "       [ 9.],\n",
       "       [10.],\n",
       "       [14.],\n",
       "       [10.],\n",
       "       [13.],\n",
       "       [ 9.],\n",
       "       [12.],\n",
       "       [ 9.],\n",
       "       [ 9.],\n",
       "       [10.],\n",
       "       [ 7.],\n",
       "       [10.],\n",
       "       [ 9.],\n",
       "       [15.],\n",
       "       [ 9.],\n",
       "       [13.],\n",
       "       [ 9.],\n",
       "       [13.],\n",
       "       [10.],\n",
       "       [ 7.],\n",
       "       [ 9.],\n",
       "       [ 9.],\n",
       "       [ 4.],\n",
       "       [ 9.],\n",
       "       [10.],\n",
       "       [ 8.],\n",
       "       [ 9.],\n",
       "       [10.],\n",
       "       [10.],\n",
       "       [10.],\n",
       "       [ 9.],\n",
       "       [ 9.],\n",
       "       [11.],\n",
       "       [10.],\n",
       "       [ 9.],\n",
       "       [13.],\n",
       "       [ 9.],\n",
       "       [ 9.],\n",
       "       [ 9.],\n",
       "       [ 9.],\n",
       "       [10.],\n",
       "       [ 9.],\n",
       "       [ 7.],\n",
       "       [11.],\n",
       "       [10.],\n",
       "       [13.],\n",
       "       [11.],\n",
       "       [13.],\n",
       "       [ 9.],\n",
       "       [ 9.],\n",
       "       [ 9.],\n",
       "       [10.],\n",
       "       [13.],\n",
       "       [ 9.],\n",
       "       [10.],\n",
       "       [ 5.],\n",
       "       [14.],\n",
       "       [ 7.],\n",
       "       [14.],\n",
       "       [ 9.],\n",
       "       [12.],\n",
       "       [10.],\n",
       "       [ 9.],\n",
       "       [16.],\n",
       "       [14.],\n",
       "       [13.],\n",
       "       [13.],\n",
       "       [10.],\n",
       "       [ 9.],\n",
       "       [10.],\n",
       "       [ 9.],\n",
       "       [ 9.],\n",
       "       [12.],\n",
       "       [11.],\n",
       "       [11.],\n",
       "       [10.],\n",
       "       [ 9.],\n",
       "       [ 9.],\n",
       "       [ 6.],\n",
       "       [10.],\n",
       "       [ 9.],\n",
       "       [14.],\n",
       "       [13.],\n",
       "       [10.],\n",
       "       [13.],\n",
       "       [ 7.],\n",
       "       [14.],\n",
       "       [ 7.],\n",
       "       [ 5.],\n",
       "       [ 5.],\n",
       "       [ 9.],\n",
       "       [ 9.],\n",
       "       [10.],\n",
       "       [10.],\n",
       "       [13.],\n",
       "       [ 9.],\n",
       "       [ 9.],\n",
       "       [13.],\n",
       "       [14.],\n",
       "       [11.],\n",
       "       [10.],\n",
       "       [10.],\n",
       "       [10.],\n",
       "       [10.],\n",
       "       [16.],\n",
       "       [ 9.],\n",
       "       [11.],\n",
       "       [13.],\n",
       "       [10.],\n",
       "       [13.],\n",
       "       [13.],\n",
       "       [12.],\n",
       "       [ 9.],\n",
       "       [ 9.],\n",
       "       [10.],\n",
       "       [ 9.],\n",
       "       [ 9.],\n",
       "       [13.],\n",
       "       [ 9.],\n",
       "       [13.],\n",
       "       [ 4.],\n",
       "       [ 9.],\n",
       "       [14.],\n",
       "       [ 7.],\n",
       "       [ 9.],\n",
       "       [ 7.],\n",
       "       [ 9.],\n",
       "       [ 9.],\n",
       "       [ 9.],\n",
       "       [10.],\n",
       "       [10.],\n",
       "       [ 9.],\n",
       "       [ 9.],\n",
       "       [10.],\n",
       "       [ 9.],\n",
       "       [ 9.],\n",
       "       [13.],\n",
       "       [ 9.],\n",
       "       [ 9.],\n",
       "       [14.],\n",
       "       [10.],\n",
       "       [ 9.],\n",
       "       [ 9.],\n",
       "       [10.],\n",
       "       [ 9.],\n",
       "       [ 8.],\n",
       "       [10.],\n",
       "       [ 9.],\n",
       "       [11.],\n",
       "       [11.],\n",
       "       [13.],\n",
       "       [ 9.],\n",
       "       [10.],\n",
       "       [ 4.],\n",
       "       [10.],\n",
       "       [ 9.],\n",
       "       [10.],\n",
       "       [ 9.],\n",
       "       [ 6.],\n",
       "       [10.],\n",
       "       [11.],\n",
       "       [10.],\n",
       "       [14.],\n",
       "       [ 9.],\n",
       "       [ 7.],\n",
       "       [10.],\n",
       "       [ 9.],\n",
       "       [10.],\n",
       "       [10.],\n",
       "       [ 9.],\n",
       "       [14.],\n",
       "       [16.],\n",
       "       [11.],\n",
       "       [ 3.],\n",
       "       [16.],\n",
       "       [ 9.],\n",
       "       [13.],\n",
       "       [11.],\n",
       "       [ 7.],\n",
       "       [10.],\n",
       "       [13.],\n",
       "       [ 9.],\n",
       "       [15.],\n",
       "       [ 9.],\n",
       "       [11.],\n",
       "       [ 6.],\n",
       "       [11.],\n",
       "       [ 9.],\n",
       "       [ 9.],\n",
       "       [14.],\n",
       "       [ 9.],\n",
       "       [13.],\n",
       "       [10.],\n",
       "       [13.],\n",
       "       [ 7.],\n",
       "       [11.],\n",
       "       [13.],\n",
       "       [10.],\n",
       "       [ 9.],\n",
       "       [13.],\n",
       "       [ 4.],\n",
       "       [10.],\n",
       "       [ 9.],\n",
       "       [ 9.],\n",
       "       [13.],\n",
       "       [ 9.],\n",
       "       [13.],\n",
       "       [13.],\n",
       "       [ 9.],\n",
       "       [12.],\n",
       "       [16.],\n",
       "       [10.],\n",
       "       [10.],\n",
       "       [ 9.],\n",
       "       [ 7.],\n",
       "       [ 5.],\n",
       "       [ 7.],\n",
       "       [13.],\n",
       "       [10.],\n",
       "       [ 9.],\n",
       "       [ 9.],\n",
       "       [ 8.],\n",
       "       [ 9.],\n",
       "       [ 9.],\n",
       "       [ 9.],\n",
       "       [11.],\n",
       "       [ 9.],\n",
       "       [13.],\n",
       "       [13.],\n",
       "       [ 7.],\n",
       "       [ 9.],\n",
       "       [13.],\n",
       "       [10.],\n",
       "       [ 3.],\n",
       "       [ 8.],\n",
       "       [13.],\n",
       "       [13.],\n",
       "       [11.],\n",
       "       [13.],\n",
       "       [10.],\n",
       "       [13.],\n",
       "       [ 6.],\n",
       "       [10.],\n",
       "       [13.],\n",
       "       [14.],\n",
       "       [14.],\n",
       "       [13.],\n",
       "       [13.],\n",
       "       [10.],\n",
       "       [13.],\n",
       "       [10.],\n",
       "       [10.],\n",
       "       [10.],\n",
       "       [ 9.],\n",
       "       [ 2.],\n",
       "       [ 3.],\n",
       "       [ 6.],\n",
       "       [10.],\n",
       "       [13.],\n",
       "       [10.],\n",
       "       [12.],\n",
       "       [ 3.],\n",
       "       [11.],\n",
       "       [13.],\n",
       "       [14.],\n",
       "       [10.],\n",
       "       [10.],\n",
       "       [10.],\n",
       "       [10.],\n",
       "       [13.],\n",
       "       [ 6.],\n",
       "       [ 9.],\n",
       "       [10.],\n",
       "       [ 9.],\n",
       "       [13.],\n",
       "       [ 9.],\n",
       "       [10.],\n",
       "       [13.],\n",
       "       [11.],\n",
       "       [13.],\n",
       "       [ 9.],\n",
       "       [ 9.],\n",
       "       [ 3.],\n",
       "       [10.],\n",
       "       [10.],\n",
       "       [10.],\n",
       "       [13.],\n",
       "       [ 9.],\n",
       "       [ 7.],\n",
       "       [ 9.],\n",
       "       [12.],\n",
       "       [10.],\n",
       "       [15.],\n",
       "       [10.],\n",
       "       [10.],\n",
       "       [10.],\n",
       "       [13.],\n",
       "       [ 9.],\n",
       "       [ 2.],\n",
       "       [13.],\n",
       "       [ 5.],\n",
       "       [ 4.],\n",
       "       [13.],\n",
       "       [10.],\n",
       "       [13.],\n",
       "       [13.],\n",
       "       [10.],\n",
       "       [ 9.],\n",
       "       [ 9.],\n",
       "       [ 9.],\n",
       "       [ 6.],\n",
       "       [ 9.],\n",
       "       [12.],\n",
       "       [10.],\n",
       "       [ 9.],\n",
       "       [ 9.],\n",
       "       [10.],\n",
       "       [ 9.],\n",
       "       [13.],\n",
       "       [ 9.],\n",
       "       [ 9.],\n",
       "       [ 9.],\n",
       "       [ 9.],\n",
       "       [ 9.],\n",
       "       [ 6.],\n",
       "       [13.],\n",
       "       [ 9.],\n",
       "       [ 9.],\n",
       "       [10.],\n",
       "       [ 9.],\n",
       "       [ 2.],\n",
       "       [10.],\n",
       "       [10.],\n",
       "       [16.],\n",
       "       [ 9.],\n",
       "       [10.],\n",
       "       [10.],\n",
       "       [13.],\n",
       "       [13.],\n",
       "       [ 9.],\n",
       "       [10.],\n",
       "       [16.],\n",
       "       [13.],\n",
       "       [ 9.],\n",
       "       [11.],\n",
       "       [13.],\n",
       "       [10.],\n",
       "       [ 9.],\n",
       "       [11.],\n",
       "       [ 9.],\n",
       "       [ 9.],\n",
       "       [13.],\n",
       "       [10.],\n",
       "       [13.],\n",
       "       [10.],\n",
       "       [13.],\n",
       "       [13.],\n",
       "       [14.],\n",
       "       [ 9.],\n",
       "       [10.],\n",
       "       [13.],\n",
       "       [13.],\n",
       "       [13.],\n",
       "       [10.],\n",
       "       [ 9.],\n",
       "       [ 7.],\n",
       "       [ 9.],\n",
       "       [ 9.],\n",
       "       [ 9.],\n",
       "       [16.],\n",
       "       [ 9.],\n",
       "       [10.],\n",
       "       [11.],\n",
       "       [10.],\n",
       "       [10.],\n",
       "       [ 7.],\n",
       "       [ 9.],\n",
       "       [14.],\n",
       "       [ 9.],\n",
       "       [ 5.],\n",
       "       [ 9.],\n",
       "       [ 9.],\n",
       "       [11.],\n",
       "       [ 9.],\n",
       "       [ 4.],\n",
       "       [ 9.],\n",
       "       [ 9.],\n",
       "       [12.],\n",
       "       [13.],\n",
       "       [ 9.],\n",
       "       [10.],\n",
       "       [16.],\n",
       "       [ 9.],\n",
       "       [ 9.],\n",
       "       [10.],\n",
       "       [10.],\n",
       "       [ 9.],\n",
       "       [ 9.],\n",
       "       [13.],\n",
       "       [ 9.],\n",
       "       [10.],\n",
       "       [ 4.],\n",
       "       [10.],\n",
       "       [13.],\n",
       "       [ 9.],\n",
       "       [ 9.],\n",
       "       [14.],\n",
       "       [13.],\n",
       "       [13.],\n",
       "       [10.],\n",
       "       [13.],\n",
       "       [ 9.],\n",
       "       [ 9.],\n",
       "       [13.],\n",
       "       [ 9.],\n",
       "       [13.],\n",
       "       [13.],\n",
       "       [10.],\n",
       "       [ 6.],\n",
       "       [10.],\n",
       "       [13.],\n",
       "       [ 9.],\n",
       "       [14.],\n",
       "       [11.],\n",
       "       [10.],\n",
       "       [ 9.],\n",
       "       [13.],\n",
       "       [14.],\n",
       "       [ 9.],\n",
       "       [10.],\n",
       "       [13.],\n",
       "       [10.],\n",
       "       [10.],\n",
       "       [11.],\n",
       "       [ 9.],\n",
       "       [ 6.],\n",
       "       [14.],\n",
       "       [ 9.],\n",
       "       [ 9.],\n",
       "       [15.],\n",
       "       [ 9.],\n",
       "       [10.],\n",
       "       [13.],\n",
       "       [13.],\n",
       "       [ 7.],\n",
       "       [10.],\n",
       "       [ 9.],\n",
       "       [ 9.],\n",
       "       [11.],\n",
       "       [12.],\n",
       "       [10.],\n",
       "       [12.],\n",
       "       [13.],\n",
       "       [ 9.],\n",
       "       [ 7.],\n",
       "       [14.],\n",
       "       [12.],\n",
       "       [11.],\n",
       "       [10.],\n",
       "       [10.],\n",
       "       [10.],\n",
       "       [ 9.],\n",
       "       [14.],\n",
       "       [10.],\n",
       "       [ 9.],\n",
       "       [ 9.],\n",
       "       [ 9.],\n",
       "       [10.],\n",
       "       [ 9.],\n",
       "       [13.],\n",
       "       [10.],\n",
       "       [10.],\n",
       "       [ 4.],\n",
       "       [ 9.],\n",
       "       [ 9.],\n",
       "       [13.],\n",
       "       [10.],\n",
       "       [10.],\n",
       "       [13.],\n",
       "       [ 5.],\n",
       "       [ 9.],\n",
       "       [ 3.],\n",
       "       [ 9.],\n",
       "       [13.],\n",
       "       [13.],\n",
       "       [ 9.],\n",
       "       [ 7.],\n",
       "       [10.],\n",
       "       [ 5.],\n",
       "       [10.],\n",
       "       [12.],\n",
       "       [ 9.],\n",
       "       [10.],\n",
       "       [10.],\n",
       "       [13.],\n",
       "       [ 9.],\n",
       "       [14.],\n",
       "       [10.],\n",
       "       [12.],\n",
       "       [10.],\n",
       "       [10.],\n",
       "       [10.],\n",
       "       [10.],\n",
       "       [ 9.],\n",
       "       [10.],\n",
       "       [14.],\n",
       "       [14.],\n",
       "       [ 9.],\n",
       "       [ 5.],\n",
       "       [10.],\n",
       "       [13.],\n",
       "       [13.],\n",
       "       [10.],\n",
       "       [13.],\n",
       "       [ 9.],\n",
       "       [ 9.],\n",
       "       [13.],\n",
       "       [13.],\n",
       "       [ 7.],\n",
       "       [ 5.],\n",
       "       [ 9.],\n",
       "       [ 9.],\n",
       "       [10.]])"
      ]
     },
     "execution_count": 15,
     "metadata": {},
     "output_type": "execute_result"
    }
   ],
   "source": [
    "num_pipeline.fit_transform(X_train)"
   ]
  },
  {
   "cell_type": "markdown",
   "metadata": {
    "pycharm": {
     "name": "#%% md\n"
    }
   },
   "source": [
    "Będziemy także potrzebować imputera do kategorycznych kolumn napisowych (zwykły Imputer nie działa na tych kolumnach):"
   ]
  },
  {
   "cell_type": "code",
   "execution_count": 16,
   "metadata": {
    "pycharm": {
     "name": "#%%\n"
    }
   },
   "outputs": [],
   "source": [
    "# Inspired from stackoverflow.com/questions/25239958\n",
    "class MostFrequentImputer(BaseEstimator, TransformerMixin):\n",
    "    def fit(self, X, y=None):\n",
    "        self.most_frequent_ = pd.Series([X[c].value_counts().index[0] for c in X],\n",
    "                                        index=X.columns)\n",
    "        return self\n",
    "    def transform(self, X, y=None):\n",
    "        return X.fillna(self.most_frequent_)"
   ]
  },
  {
   "cell_type": "markdown",
   "metadata": {
    "pycharm": {
     "name": "#%% md\n"
    }
   },
   "source": [
    "Teraz możemy zbudować pipeline dla atrybutów kategorycznych.\n",
    "\n",
    "We can convert each categorical value to a one-hot vector using a OneHotEncoder. Right now this class can only handle integer categorical inputs, but in Scikit-Learn 0.20 it will also handle string categorical inputs (see PR https://github.com/scikit-learn/scikit-learn/issues/10521). So for now we import it from future_encoders.py"
   ]
  },
  {
   "cell_type": "code",
   "execution_count": 18,
   "metadata": {
    "pycharm": {
     "name": "#%%\n"
    }
   },
   "outputs": [],
   "source": [
    "# from future_encoders import OneHotEncoder\n",
    "from sklearn.preprocessing import OneHotEncoder\n",
    "\n",
    "cat_pipeline = Pipeline([\n",
    "        (\"select_cat\", DataFrameSelector([\"workclass\", \"education\", \"occupation\", \"gender\"])),\n",
    "        (\"imputer\", MostFrequentImputer()),\n",
    "        (\"cat_encoder\", OneHotEncoder(sparse=False, handle_unknown = 'ignore')),\n",
    "    ])"
   ]
  },
  {
   "cell_type": "code",
   "execution_count": 19,
   "metadata": {
    "pycharm": {
     "name": "#%%\n"
    }
   },
   "outputs": [
    {
     "data": {
      "text/plain": [
       "array([[0., 0., 1., ..., 0., 0., 1.],\n",
       "       [0., 0., 1., ..., 0., 0., 1.],\n",
       "       [1., 0., 0., ..., 0., 0., 1.],\n",
       "       ...,\n",
       "       [0., 0., 1., ..., 0., 0., 1.],\n",
       "       [0., 1., 0., ..., 0., 0., 1.],\n",
       "       [0., 0., 1., ..., 0., 1., 0.]])"
      ]
     },
     "execution_count": 19,
     "metadata": {},
     "output_type": "execute_result"
    }
   ],
   "source": [
    "cat_pipeline.fit_transform(X_train)"
   ]
  },
  {
   "cell_type": "markdown",
   "metadata": {
    "pycharm": {
     "name": "#%% md\n"
    }
   },
   "source": [
    "Na koniec połączmy powyższe podejścia:"
   ]
  },
  {
   "cell_type": "code",
   "execution_count": 20,
   "metadata": {
    "pycharm": {
     "name": "#%%\n"
    }
   },
   "outputs": [],
   "source": [
    "from sklearn.pipeline import FeatureUnion\n",
    "preprocess_pipeline = FeatureUnion(transformer_list=[\n",
    "        (\"num_pipeline\", num_pipeline),\n",
    "        (\"cat_pipeline\", cat_pipeline),\n",
    "    ])"
   ]
  },
  {
   "cell_type": "markdown",
   "metadata": {
    "pycharm": {
     "name": "#%% md\n"
    }
   },
   "source": [
    "# Zad\n",
    "\n",
    "Robimy StratifiedKFold i znajdujemy optymalne parametry dla\n",
    "\n",
    "* SVM z jądrem rbf\n",
    "* SVM z jądrem poly\n",
    "* SVM liniowego\n",
    "* Regresji logistycznej"
   ]
  },
  {
   "cell_type": "code",
   "execution_count": 20,
   "metadata": {
    "pycharm": {
     "name": "#%%\n"
    }
   },
   "outputs": [],
   "source": [
    "from sklearn.model_selection import StratifiedKFold\n",
    "\n",
    "seed=123\n",
    "kfold = StratifiedKFold(n_splits=5, random_state=seed,shuffle=True)"
   ]
  },
  {
   "cell_type": "code",
   "execution_count": 21,
   "metadata": {
    "pycharm": {
     "name": "#%%\n"
    }
   },
   "outputs": [
    {
     "data": {
      "text/plain": [
       "{'classifier__C': 0.1}"
      ]
     },
     "execution_count": 21,
     "metadata": {},
     "output_type": "execute_result"
    }
   ],
   "source": [
    "from sklearn.linear_model import LogisticRegression\n",
    "from sklearn.svm import SVC\n",
    "from sklearn.pipeline import Pipeline\n",
    "from sklearn.model_selection import GridSearchCV\n",
    "pipe = Pipeline([\n",
    "    ('preprocessing', preprocess_pipeline), \n",
    "    ('classifier', SVC())])\n",
    "pipe2 = Pipeline([\n",
    "    ('preprocessing', preprocess_pipeline),\n",
    "    ('classifier', SVC(kernel='poly'))])\n",
    "pipe3 = Pipeline([\n",
    "    ('preprocessing', preprocess_pipeline),\n",
    "    ('classifier', SVC(kernel='linear'))])\n",
    "pipe4 = Pipeline([\n",
    "    ('preprocessing', preprocess_pipeline),\n",
    "    ('classifier', LogisticRegression())])\n",
    "\n",
    "param_grid = {\n",
    "            'classifier__C': [0.001, 0.01, 0.1, 1, 10, 100]\n",
    "}\n",
    "\n",
    "grid_1 = GridSearchCV(pipe, param_grid, cv=kfold)\n",
    "grid_2 = GridSearchCV(pipe2, param_grid, cv=kfold)\n",
    "grid_3 = GridSearchCV(pipe3, param_grid, cv=kfold)\n",
    "grid_4 = GridSearchCV(pipe4, param_grid, cv=kfold)\n",
    "\n",
    "grid_1.fit(X_train, y_train)\n",
    "grid_2.fit(X_train, y_train)\n",
    "grid_3.fit(X_train, y_train)\n",
    "grid_4.fit(X_train, y_train)\n",
    "grid_1.best_params_"
   ]
  },
  {
   "cell_type": "code",
   "execution_count": null,
   "metadata": {
    "pycharm": {
     "name": "#%%\n"
    }
   },
   "outputs": [],
   "source": []
  },
  {
   "cell_type": "code",
   "execution_count": null,
   "metadata": {
    "pycharm": {
     "name": "#%%\n"
    }
   },
   "outputs": [],
   "source": []
  },
  {
   "cell_type": "code",
   "execution_count": 22,
   "metadata": {
    "pycharm": {
     "name": "#%%\n"
    }
   },
   "outputs": [
    {
     "name": "stdout",
     "output_type": "stream",
     "text": [
      "SVM linear\n",
      "precision_score: 0.6\n",
      "recall_score: 0.1956521739130435\n",
      "f1_score: 0.29508196721311475\n",
      "accuracy_score: 0.785\n"
     ]
    }
   ],
   "source": [
    "from sklearn import  metrics\n",
    "\n",
    "\n",
    "models = []\n",
    "models.append(('SVM rbf', grid_1.best_estimator_))\n",
    "models.append(('SVM poly', grid_2.best_estimator_))\n",
    "models.append(('SVM linear', grid_3.best_estimator_))\n",
    "models.append(('logistic regression', grid_4.best_estimator_))\n",
    "\n",
    "\n",
    "\n",
    "precision_score = []\n",
    "recall_score = []\n",
    "f1_score = []\n",
    "accuracy_score = []\n",
    "for name, model in models:\n",
    "    print(name)\n",
    "    print(\"precision_score: {}\".format(metrics.precision_score(y_test, model.predict(X_test)) ))\n",
    "    print(\"recall_score: {}\".format( metrics.recall_score(y_test, model.predict(X_test)) ))\n",
    "    print(\"f1_score: {}\".format( metrics.f1_score(y_test, model.predict(X_test)) ))\n",
    "    print(\"accuracy_score: {}\".format( metrics.accuracy_score(y_test, model.predict(X_test)) ))\n",
    "    precision_score.append(metrics.precision_score(y_test, model.predict(X_test)))\n",
    "    recall_score.append(metrics.recall_score(y_test, model.predict(X_test)))\n",
    "    f1_score.append( metrics.f1_score(y_test, model.predict(X_test)))\n",
    "    accuracy_score.append(metrics.accuracy_score(y_test, model.predict(X_test)))"
   ]
  },
  {
   "cell_type": "code",
   "execution_count": 23,
   "metadata": {
    "pycharm": {
     "name": "#%%\n"
    }
   },
   "outputs": [
    {
     "data": {
      "text/html": [
       "<div>\n",
       "<style scoped>\n",
       "    .dataframe tbody tr th:only-of-type {\n",
       "        vertical-align: middle;\n",
       "    }\n",
       "\n",
       "    .dataframe tbody tr th {\n",
       "        vertical-align: top;\n",
       "    }\n",
       "\n",
       "    .dataframe thead th {\n",
       "        text-align: right;\n",
       "    }\n",
       "</style>\n",
       "<table border=\"1\" class=\"dataframe\">\n",
       "  <thead>\n",
       "    <tr style=\"text-align: right;\">\n",
       "      <th></th>\n",
       "      <th>Method</th>\n",
       "      <th>precision_score</th>\n",
       "      <th>recall_score</th>\n",
       "      <th>f1_score</th>\n",
       "      <th>accuracy_score</th>\n",
       "    </tr>\n",
       "  </thead>\n",
       "  <tbody>\n",
       "    <tr>\n",
       "      <th>0</th>\n",
       "      <td>SVM linear</td>\n",
       "      <td>0.6</td>\n",
       "      <td>0.195652</td>\n",
       "      <td>0.295082</td>\n",
       "      <td>0.785</td>\n",
       "    </tr>\n",
       "  </tbody>\n",
       "</table>\n",
       "</div>"
      ],
      "text/plain": [
       "       Method  precision_score  recall_score  f1_score  accuracy_score\n",
       "0  SVM linear              0.6      0.195652  0.295082           0.785"
      ]
     },
     "execution_count": 23,
     "metadata": {},
     "output_type": "execute_result"
    }
   ],
   "source": [
    "import pandas as pd\n",
    "d = {'precision_score': precision_score, \n",
    "     'recall_score': recall_score, \n",
    "     'f1_score': f1_score,\n",
    "     'accuracy_score' : accuracy_score\n",
    "    }\n",
    "df = pd.DataFrame(data=d)\n",
    "df.insert(loc=0, column='Method', value=['SVM rbf','SVM poly','SVM linear','Logistic regression'])\n",
    "df"
   ]
  },
  {
   "cell_type": "code",
   "execution_count": null,
   "metadata": {
    "pycharm": {
     "name": "#%%\n"
    }
   },
   "outputs": [],
   "source": []
  },
  {
   "cell_type": "code",
   "execution_count": null,
   "metadata": {
    "pycharm": {
     "name": "#%%\n"
    }
   },
   "outputs": [],
   "source": []
  },
  {
   "cell_type": "code",
   "execution_count": null,
   "metadata": {
    "pycharm": {
     "name": "#%%\n"
    }
   },
   "outputs": [],
   "source": []
  }
 ],
 "metadata": {
  "kernelspec": {
   "display_name": "Python 3",
   "language": "python",
   "name": "python3"
  },
  "language_info": {
   "codemirror_mode": {
    "name": "ipython",
    "version": 3
   },
   "file_extension": ".py",
   "mimetype": "text/x-python",
   "name": "python",
   "nbconvert_exporter": "python",
   "pygments_lexer": "ipython3",
   "version": "3.7.6"
  }
 },
 "nbformat": 4,
 "nbformat_minor": 2
}