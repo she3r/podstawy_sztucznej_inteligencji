{
 "cells": [
  {
   "cell_type": "code",
   "execution_count": 2,
   "metadata": {
    "collapsed": true
   },
   "outputs": [],
   "source": [
    "import numpy as np"
   ]
  },
  {
   "cell_type": "markdown",
   "source": [
    "**Cwiczenia zad 9/ zestaw2_prawdopodobienstwo**\n",
    "Rozważ grę wykorzystującą generator liczb losowych losujący w\n",
    "sposób niezależny i równomierny liczby losowe z ciągłego przedziału między 1 a 100. Gra zaczyna się\n",
    "z sumą S = 0. Pierwszy gracz dodaje do S liczby losowe wygenerowane kolejno z generatora, dopóki\n",
    "S > 100, i zapisuje ostatnią wygenerowaną liczbę x. Następnie, gracz drugi kontynuuje dodawanie do\n",
    "S liczb losowych z generatora, dopóki S > 200, i zapisuje ostatnią wygenerowaną liczbę y. Gracz z\n",
    "większą liczbą wygrywa, np. jeśli y > x, to wygrywa gracz drugi. Czy gra jest sprawiedliwa? Napisz\n",
    "program symulujący 100,000 gier i oszacuj za jego pomocą, z dokładnością do 3 miejsc po przecinku,\n",
    "prawdopodobieństwo, że gracz drugi wygra."
   ],
   "metadata": {
    "collapsed": false,
    "pycharm": {
     "name": "#%% md\n"
    }
   }
  },
  {
   "cell_type": "code",
   "execution_count": 3,
   "outputs": [
    {
     "data": {
      "text/plain": "0.52673"
     },
     "execution_count": 3,
     "metadata": {},
     "output_type": "execute_result"
    }
   ],
   "source": [
    "from numpy.random import uniform\n",
    "def game():\n",
    "    S=0\n",
    "    player_1_last=None\n",
    "    player_2_last=None\n",
    "    curr=None\n",
    "    while S<=100:\n",
    "        curr = uniform(1, 100)\n",
    "        S += curr\n",
    "    player_1_last = curr\n",
    "    while S<=200:\n",
    "        curr = uniform(1, 100)\n",
    "        S += curr\n",
    "    player_2_last = curr\n",
    "\n",
    "    return player_1_last < player_2_last\n",
    "\n",
    "np.sum([game() for i in range(10**5)]) / 10**5"
   ],
   "metadata": {
    "collapsed": false,
    "pycharm": {
     "name": "#%%\n"
    }
   }
  },
  {
   "cell_type": "markdown",
   "source": [
    "Widzimy, że gracz drugi ma większą szanse, by wygrać. Wynik symulacji to 52.613% prawdopodobieństwa, że gracz drugi wygra."
   ],
   "metadata": {
    "collapsed": false,
    "pycharm": {
     "name": "#%% md\n"
    }
   }
  },
  {
   "cell_type": "markdown",
   "source": [],
   "metadata": {
    "collapsed": false
   }
  },
  {
   "cell_type": "markdown",
   "source": [
    "**Zad. 36. Wykład** Używając wybranego pakietu komputerowego przeprowadzić eksperyment\n",
    "polegający na wylosowaniu 100-elementowej próbki z rozkładu wykładniczego\n",
    "o średniej λ = 0.2, a następnie (na jej podstawie) wyznaczeniu\n",
    "jądrowego estymatora gęstości."
   ],
   "metadata": {
    "collapsed": false,
    "pycharm": {
     "name": "#%% md\n"
    }
   }
  },
  {
   "cell_type": "code",
   "source": [
    "import matplotlib.pyplot as plt\n",
    "lambda_ = 0.2\n",
    "scale_ = 1/lambda_\n",
    "from scipy.stats import expon\n",
    "X = expon.rvs(scale=scale_,size=100)\n",
    "plt.hist(X,density=True)\n",
    "plt.show()"
   ],
   "metadata": {
    "collapsed": false,
    "pycharm": {
     "name": "#%%\n"
    }
   },
   "execution_count": 14,
   "outputs": [
    {
     "data": {
      "text/plain": "<Figure size 432x288 with 1 Axes>",
      "image/png": "[encoded data removed]"
     },
     "metadata": {
      "needs_background": "light"
     },
     "output_type": "display_data"
    }
   ]
  },
  {
   "cell_type": "code",
   "execution_count": 24,
   "outputs": [],
   "source": [
    "import pandas as pd\n",
    "X = pd.DataFrame(X)"
   ],
   "metadata": {
    "collapsed": false,
    "pycharm": {
     "name": "#%%\n"
    }
   }
  },
  {
   "cell_type": "code",
   "execution_count": 23,
   "outputs": [
    {
     "data": {
      "text/plain": "<AxesSubplot:ylabel='Density'>"
     },
     "execution_count": 23,
     "metadata": {},
     "output_type": "execute_result"
    },
    {
     "data": {
      "text/plain": "<Figure size 432x288 with 1 Axes>",
      "image/png": "[encoded data removed]"
     },
     "metadata": {
      "needs_background": "light"
     },
     "output_type": "display_data"
    }
   ],
   "source": [
    "X.plot.kde(bw_method='scott',xlim=(0,51))"
   ],
   "metadata": {
    "collapsed": false,
    "pycharm": {
     "name": "#%%\n"
    }
   }
  },
  {
   "cell_type": "code",
   "execution_count": 22,
   "outputs": [
    {
     "data": {
      "text/plain": "<AxesSubplot:ylabel='Density'>"
     },
     "execution_count": 22,
     "metadata": {},
     "output_type": "execute_result"
    },
    {
     "data": {
      "text/plain": "<Figure size 432x288 with 1 Axes>",
      "image/png": "[encoded data removed]"
     },
     "metadata": {
      "needs_background": "light"
     },
     "output_type": "display_data"
    }
   ],
   "source": [
    "X.plot.kde(bw_method='silverman',xlim=(0,51))"
   ],
   "metadata": {
    "collapsed": false,
    "pycharm": {
     "name": "#%%\n"
    }
   }
  },
  {
   "cell_type": "markdown",
   "source": [
    "**Zad. 37. Wykład** Używając wybranego pakietu komputerowego wykonać 100 razy następujący\n",
    "eksperyment: z rozkładu jednostajnego na przedziale [0, 10] losujemy\n",
    "30 liczb i obliczamy wartości statystyk 2¯X oraz n+1\n",
    "n max{X1, . . . ,Xn}. Otrzymujemy\n",
    "dwa ciągi liczb, powiedzmy a1, . . . , a100 oraz b1, . . . , b100. Dla każdego z\n",
    "tych dwóch ciągów obliczyć średnią i wariancję. Który z użytych estymatorów\n",
    "okazał się lepszy?"
   ],
   "metadata": {
    "collapsed": false,
    "pycharm": {
     "name": "#%% md\n"
    }
   }
  },
  {
   "cell_type": "code",
   "execution_count": 28,
   "outputs": [
    {
     "name": "stdout",
     "output_type": "stream",
     "text": [
      "An : 9.993218807133669, variance: 1.1140042135468664\n",
      "Bn : 9.999793348885719, variance: 0.10640035207510509\n",
      "True 2*mean: 10.0\n"
     ]
    }
   ],
   "source": [
    "from scipy.stats import uniform\n",
    "An = []\n",
    "Bn=[]\n",
    "for i in range(10000):\n",
    "    N=30\n",
    "    sample = np.random.uniform(0,10,N)\n",
    "    An.append(2*np.mean(sample))\n",
    "    Bn.append((N+1)/(N)*np.max(sample))\n",
    "\n",
    "print(f\"An : {np.mean(An)}, variance: {np.var(An)}\")\n",
    "print(f\"Bn : {np.mean(Bn)}, variance: {np.var(Bn)}\")\n",
    "print(f\"True 2*mean: {2*uniform.mean(0,10)}\")"
   ],
   "metadata": {
    "collapsed": false,
    "pycharm": {
     "name": "#%%\n"
    }
   }
  },
  {
   "cell_type": "markdown",
   "source": [
    "$B_n \\;$ jest lepszy- latwo zobaczyc ze MSE dla $B_n$ jest nizszy (wariancja i lepszy wynik estymacji)"
   ],
   "metadata": {
    "collapsed": false,
    "pycharm": {
     "name": "#%% md\n"
    }
   }
  },
  {
   "cell_type": "markdown",
   "source": [
    "**Zad. 2/ zestaw 3**. W grze bierze udział r graczy, przy czym i-ty gracz posiada $n_i$ żetonów, $n_i > 0$. W każdej turze wybieranych jest losowo dwóch graczy, a zwycięzca zabiera jeden żeton przegranemu. Gracz, który zostanie bez żetonów jest eliminowany z gry, która jest kontynuowana, dopóki jeden gracz nie zbierze wszystkich $n=\\sum n_i r_i$ żetonów. Ten gracz wygrywa całą grę. Zakładając, że wyniki rozgrywek w kolejnych turach są od siebie niezależne, a w każdej z nich szanse na wygraną każdego z dwóch graczy są jednakowe (1/2), znajdź $P_i$ – prawdopodobieństwo, że całą grę wygra gracz i-ty.\n",
    "W celu rozwiązania zadania przeprowadź symulację komputerową. Eksperymentuj z różnymi początkowymi układami żetonów, dla każdego układu przeprowadź wystarczająco dużo symulacji, aby otrzymać wiarygodne wyniki (np. 10,000 symulacji)."
   ],
   "metadata": {
    "collapsed": false,
    "pycharm": {
     "name": "#%% md\n"
    }
   }
  },
  {
   "cell_type": "code",
   "source": [
    "N = 10 # ilu zawodnikow\n",
    "trials = 10000    # ile prob\n",
    "def experiment(tokens,no_players,no_trials):\n",
    "    def game(tokens):\n",
    "        choice_players = [i for i in range(0,no_players)]\n",
    "        while len(choice_players) > 1:\n",
    "            winner, loser = np.random.choice(choice_players,replace=False,size=2)\n",
    "            tokens[winner] += 1\n",
    "            tokens[loser] -= 1\n",
    "            if tokens[loser] == 0:\n",
    "                choice_players.remove(loser)\n",
    "        return choice_players[0]    # ostatni przy stole z zetonami\n",
    "    result = [game(tokens) for _ in range(no_trials)]\n",
    "    return {'results': result,'mean': np.mean(result),'variance':np.var(result)}"
   ],
   "metadata": {
    "collapsed": false,
    "pycharm": {
     "name": "#%%\n"
    }
   },
   "execution_count": 39,
   "outputs": []
  },
  {
   "cell_type": "code",
   "execution_count": 41,
   "outputs": [
    {
     "name": "stdout",
     "output_type": "stream",
     "text": [
      "wszyscy maja 1 na poczatku: {'results': [2, 2, 2, 1, 1, 9, 2, 2, 2, 2, 9, 3, 9, 9, 9, 7, 3, 2, 9, 0, 0, 0, 4, 4, 4, 0, 5, 4, 4, 4, 4, 2, 6, 4, 6, 0, 2, 2, 9, 9, 9, 9, 9, 2, 2, 8, 0, 0, 0, 0, 0, 0, 0, 4, 9, 9, 9, 5, 5, 4, 1, 1, 1, 1, 1, 1, 1, 4, 7, 7, 3, 8, 0, 0, 7, 7, 7, 7, 7, 7, 7, 6, 8, 8, 8, 8, 8, 8, 8, 8, 9, 2, 9, 2, 5, 3, 3, 2, 6, 6], 'mean': 4.44, 'variance': 10.2864}\n"
     ]
    }
   ],
   "source": [
    "# 1\n",
    "tokens = np.ones(N)\n",
    "print(f\"wszyscy maja 1 na poczatku: {experiment(tokens,N,trials)}\")"
   ],
   "metadata": {
    "collapsed": false,
    "pycharm": {
     "name": "#%%\n"
    }
   }
  },
  {
   "cell_type": "code",
   "execution_count": 53,
   "outputs": [
    {
     "name": "stdout",
     "output_type": "stream",
     "text": [
      "eksponent: {'results': [2, 2, 2, 2, 2, 2, 2, 2, 2, 2, 2, 2, 2, 2, 2, 2, 2, 2, 2, 2, 2, 2, 2, 2, 2, 2, 2, 2, 2, 2, 2, 2, 2, 2, 2, 2, 2, 5, 5, 5, 5, 5, 5, 5, 5, 5, 5, 5, 5, 5, 5, 5, 5, 5, 5, 5, 5, 5, 5, 5, 5, 5, 5, 5, 5, 5, 5, 5, 5, 5, 5, 5, 5, 5, 5, 5, 5, 5, 5, 5, 5, 5, 5, 5, 5, 5, 5, 5, 5, 5, 5, 5, 0, 0, 0, 0, 7, 7, 7, 7], 'mean': 3.77, 'variance': 2.9770999999999996}\n"
     ]
    }
   ],
   "source": [
    "# 2\n",
    "f1 = lambda x: np.exp(x)\n",
    "random_sample = np.array(np.random.uniform(1,5,N))\n",
    "#tokens = f1(random_sample)\n",
    "tokens = f1(random_sample)\n",
    "print(f\"eksponent: {experiment(np.int_(tokens),N,trials)}\")"
   ],
   "metadata": {
    "collapsed": false,
    "pycharm": {
     "name": "#%%\n"
    }
   }
  },
  {
   "cell_type": "code",
   "execution_count": 55,
   "outputs": [
    {
     "ename": "KeyboardInterrupt",
     "evalue": "",
     "output_type": "error",
     "traceback": [
      "\u001B[1;31m---------------------------------------------------------------------------\u001B[0m",
      "\u001B[1;31mKeyboardInterrupt\u001B[0m                         Traceback (most recent call last)",
      "\u001B[1;32m~\\AppData\\Local\\Temp/ipykernel_11580/651342849.py\u001B[0m in \u001B[0;36m<module>\u001B[1;34m\u001B[0m\n\u001B[0;32m      3\u001B[0m \u001B[0mrandom_sample\u001B[0m \u001B[1;33m=\u001B[0m \u001B[0mnp\u001B[0m\u001B[1;33m.\u001B[0m\u001B[0mrandom\u001B[0m\u001B[1;33m.\u001B[0m\u001B[0muniform\u001B[0m\u001B[1;33m(\u001B[0m\u001B[1;36m1\u001B[0m\u001B[1;33m,\u001B[0m\u001B[1;36m10\u001B[0m\u001B[1;33m,\u001B[0m\u001B[0mN\u001B[0m\u001B[1;33m)\u001B[0m\u001B[1;33m\u001B[0m\u001B[1;33m\u001B[0m\u001B[0m\n\u001B[0;32m      4\u001B[0m \u001B[0mtokens\u001B[0m \u001B[1;33m=\u001B[0m \u001B[0mf2\u001B[0m\u001B[1;33m(\u001B[0m\u001B[0mrandom_sample\u001B[0m\u001B[1;33m)\u001B[0m\u001B[1;33m\u001B[0m\u001B[1;33m\u001B[0m\u001B[0m\n\u001B[1;32m----> 5\u001B[1;33m \u001B[0mprint\u001B[0m\u001B[1;33m(\u001B[0m\u001B[1;34mf\"funkcja liniowa: {experiment(np.int_(tokens),N,trials)}\"\u001B[0m\u001B[1;33m)\u001B[0m\u001B[1;33m\u001B[0m\u001B[1;33m\u001B[0m\u001B[0m\n\u001B[0m",
      "\u001B[1;32m~\\AppData\\Local\\Temp/ipykernel_11580/1869568368.py\u001B[0m in \u001B[0;36mexperiment\u001B[1;34m(tokens, no_players, no_trials)\u001B[0m\n\u001B[0;32m     11\u001B[0m                 \u001B[0mchoice_players\u001B[0m\u001B[1;33m.\u001B[0m\u001B[0mremove\u001B[0m\u001B[1;33m(\u001B[0m\u001B[0mloser\u001B[0m\u001B[1;33m)\u001B[0m\u001B[1;33m\u001B[0m\u001B[1;33m\u001B[0m\u001B[0m\n\u001B[0;32m     12\u001B[0m         \u001B[1;32mreturn\u001B[0m \u001B[0mchoice_players\u001B[0m\u001B[1;33m[\u001B[0m\u001B[1;36m0\u001B[0m\u001B[1;33m]\u001B[0m    \u001B[1;31m# ostatni przy stole z zetonami\u001B[0m\u001B[1;33m\u001B[0m\u001B[1;33m\u001B[0m\u001B[0m\n\u001B[1;32m---> 13\u001B[1;33m     \u001B[0mresult\u001B[0m \u001B[1;33m=\u001B[0m \u001B[1;33m[\u001B[0m\u001B[0mgame\u001B[0m\u001B[1;33m(\u001B[0m\u001B[0mtokens\u001B[0m\u001B[1;33m)\u001B[0m \u001B[1;32mfor\u001B[0m \u001B[0m_\u001B[0m \u001B[1;32min\u001B[0m \u001B[0mrange\u001B[0m\u001B[1;33m(\u001B[0m\u001B[0mno_trials\u001B[0m\u001B[1;33m)\u001B[0m\u001B[1;33m]\u001B[0m\u001B[1;33m\u001B[0m\u001B[1;33m\u001B[0m\u001B[0m\n\u001B[0m\u001B[0;32m     14\u001B[0m     \u001B[1;32mreturn\u001B[0m \u001B[1;33m{\u001B[0m\u001B[1;34m'results'\u001B[0m\u001B[1;33m:\u001B[0m \u001B[0mresult\u001B[0m\u001B[1;33m,\u001B[0m\u001B[1;34m'mean'\u001B[0m\u001B[1;33m:\u001B[0m \u001B[0mnp\u001B[0m\u001B[1;33m.\u001B[0m\u001B[0mmean\u001B[0m\u001B[1;33m(\u001B[0m\u001B[0mresult\u001B[0m\u001B[1;33m)\u001B[0m\u001B[1;33m,\u001B[0m\u001B[1;34m'variance'\u001B[0m\u001B[1;33m:\u001B[0m\u001B[0mnp\u001B[0m\u001B[1;33m.\u001B[0m\u001B[0mvar\u001B[0m\u001B[1;33m(\u001B[0m\u001B[0mresult\u001B[0m\u001B[1;33m)\u001B[0m\u001B[1;33m}\u001B[0m\u001B[1;33m\u001B[0m\u001B[1;33m\u001B[0m\u001B[0m\n",
      "\u001B[1;32m~\\AppData\\Local\\Temp/ipykernel_11580/1869568368.py\u001B[0m in \u001B[0;36m<listcomp>\u001B[1;34m(.0)\u001B[0m\n\u001B[0;32m     11\u001B[0m                 \u001B[0mchoice_players\u001B[0m\u001B[1;33m.\u001B[0m\u001B[0mremove\u001B[0m\u001B[1;33m(\u001B[0m\u001B[0mloser\u001B[0m\u001B[1;33m)\u001B[0m\u001B[1;33m\u001B[0m\u001B[1;33m\u001B[0m\u001B[0m\n\u001B[0;32m     12\u001B[0m         \u001B[1;32mreturn\u001B[0m \u001B[0mchoice_players\u001B[0m\u001B[1;33m[\u001B[0m\u001B[1;36m0\u001B[0m\u001B[1;33m]\u001B[0m    \u001B[1;31m# ostatni przy stole z zetonami\u001B[0m\u001B[1;33m\u001B[0m\u001B[1;33m\u001B[0m\u001B[0m\n\u001B[1;32m---> 13\u001B[1;33m     \u001B[0mresult\u001B[0m \u001B[1;33m=\u001B[0m \u001B[1;33m[\u001B[0m\u001B[0mgame\u001B[0m\u001B[1;33m(\u001B[0m\u001B[0mtokens\u001B[0m\u001B[1;33m)\u001B[0m \u001B[1;32mfor\u001B[0m \u001B[0m_\u001B[0m \u001B[1;32min\u001B[0m \u001B[0mrange\u001B[0m\u001B[1;33m(\u001B[0m\u001B[0mno_trials\u001B[0m\u001B[1;33m)\u001B[0m\u001B[1;33m]\u001B[0m\u001B[1;33m\u001B[0m\u001B[1;33m\u001B[0m\u001B[0m\n\u001B[0m\u001B[0;32m     14\u001B[0m     \u001B[1;32mreturn\u001B[0m \u001B[1;33m{\u001B[0m\u001B[1;34m'results'\u001B[0m\u001B[1;33m:\u001B[0m \u001B[0mresult\u001B[0m\u001B[1;33m,\u001B[0m\u001B[1;34m'mean'\u001B[0m\u001B[1;33m:\u001B[0m \u001B[0mnp\u001B[0m\u001B[1;33m.\u001B[0m\u001B[0mmean\u001B[0m\u001B[1;33m(\u001B[0m\u001B[0mresult\u001B[0m\u001B[1;33m)\u001B[0m\u001B[1;33m,\u001B[0m\u001B[1;34m'variance'\u001B[0m\u001B[1;33m:\u001B[0m\u001B[0mnp\u001B[0m\u001B[1;33m.\u001B[0m\u001B[0mvar\u001B[0m\u001B[1;33m(\u001B[0m\u001B[0mresult\u001B[0m\u001B[1;33m)\u001B[0m\u001B[1;33m}\u001B[0m\u001B[1;33m\u001B[0m\u001B[1;33m\u001B[0m\u001B[0m\n",
      "\u001B[1;32m~\\AppData\\Local\\Temp/ipykernel_11580/1869568368.py\u001B[0m in \u001B[0;36mgame\u001B[1;34m(tokens)\u001B[0m\n\u001B[0;32m      5\u001B[0m         \u001B[0mchoice_players\u001B[0m \u001B[1;33m=\u001B[0m \u001B[1;33m[\u001B[0m\u001B[0mi\u001B[0m \u001B[1;32mfor\u001B[0m \u001B[0mi\u001B[0m \u001B[1;32min\u001B[0m \u001B[0mrange\u001B[0m\u001B[1;33m(\u001B[0m\u001B[1;36m0\u001B[0m\u001B[1;33m,\u001B[0m\u001B[0mno_players\u001B[0m\u001B[1;33m)\u001B[0m\u001B[1;33m]\u001B[0m\u001B[1;33m\u001B[0m\u001B[1;33m\u001B[0m\u001B[0m\n\u001B[0;32m      6\u001B[0m         \u001B[1;32mwhile\u001B[0m \u001B[0mlen\u001B[0m\u001B[1;33m(\u001B[0m\u001B[0mchoice_players\u001B[0m\u001B[1;33m)\u001B[0m \u001B[1;33m>\u001B[0m \u001B[1;36m1\u001B[0m\u001B[1;33m:\u001B[0m\u001B[1;33m\u001B[0m\u001B[1;33m\u001B[0m\u001B[0m\n\u001B[1;32m----> 7\u001B[1;33m             \u001B[0mwinner\u001B[0m\u001B[1;33m,\u001B[0m \u001B[0mloser\u001B[0m \u001B[1;33m=\u001B[0m \u001B[0mnp\u001B[0m\u001B[1;33m.\u001B[0m\u001B[0mrandom\u001B[0m\u001B[1;33m.\u001B[0m\u001B[0mchoice\u001B[0m\u001B[1;33m(\u001B[0m\u001B[0mchoice_players\u001B[0m\u001B[1;33m,\u001B[0m\u001B[0mreplace\u001B[0m\u001B[1;33m=\u001B[0m\u001B[1;32mFalse\u001B[0m\u001B[1;33m,\u001B[0m\u001B[0msize\u001B[0m\u001B[1;33m=\u001B[0m\u001B[1;36m2\u001B[0m\u001B[1;33m)\u001B[0m\u001B[1;33m\u001B[0m\u001B[1;33m\u001B[0m\u001B[0m\n\u001B[0m\u001B[0;32m      8\u001B[0m             \u001B[0mtokens\u001B[0m\u001B[1;33m[\u001B[0m\u001B[0mwinner\u001B[0m\u001B[1;33m]\u001B[0m \u001B[1;33m+=\u001B[0m \u001B[1;36m1\u001B[0m\u001B[1;33m\u001B[0m\u001B[1;33m\u001B[0m\u001B[0m\n\u001B[0;32m      9\u001B[0m             \u001B[0mtokens\u001B[0m\u001B[1;33m[\u001B[0m\u001B[0mloser\u001B[0m\u001B[1;33m]\u001B[0m \u001B[1;33m-=\u001B[0m \u001B[1;36m1\u001B[0m\u001B[1;33m\u001B[0m\u001B[1;33m\u001B[0m\u001B[0m\n",
      "\u001B[1;31mKeyboardInterrupt\u001B[0m: "
     ]
    }
   ],
   "source": [
    "#3\n",
    "f2 = lambda x: 2*x\n",
    "random_sample = np.random.uniform(1,10,N)\n",
    "tokens = f2(random_sample)\n",
    "print(f\"funkcja liniowa: {experiment(np.int_(tokens),N,trials)}\")"
   ],
   "metadata": {
    "collapsed": false,
    "pycharm": {
     "name": "#%%\n"
    }
   }
  },
  {
   "cell_type": "code",
   "execution_count": null,
   "outputs": [],
   "source": [
    "#4\n",
    "f3 = lambda x: x**2\n",
    "random_sample = np.random.uniform(1,10,N)\n",
    "tokens = f3(random_sample)\n",
    "print(f\"funkcja kwadratowa: {experiment(np.int_(tokens),N,trials)}\")"
   ],
   "metadata": {
    "collapsed": false,
    "pycharm": {
     "name": "#%%\n"
    }
   }
  },
  {
   "cell_type": "markdown",
   "source": [],
   "metadata": {
    "collapsed": false
   }
  }
 ],
 "metadata": {
  "kernelspec": {
   "display_name": "Python 3",
   "language": "python",
   "name": "python3"
  },
  "language_info": {
   "codemirror_mode": {
    "name": "ipython",
    "version": 2
   },
   "file_extension": ".py",
   "mimetype": "text/x-python",
   "name": "python",
   "nbconvert_exporter": "python",
   "pygments_lexer": "ipython2",
   "version": "2.7.6"
  }
 },
 "nbformat": 4,
 "nbformat_minor": 0
}