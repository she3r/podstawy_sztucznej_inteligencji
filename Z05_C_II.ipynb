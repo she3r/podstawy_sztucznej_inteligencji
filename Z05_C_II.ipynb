{
 "cells": [
  {
   "cell_type": "markdown",
   "metadata": {
    "collapsed": true
   },
   "source": [
    "# Regresja"
   ]
  },
  {
   "cell_type": "code",
   "execution_count": 3,
   "metadata": {},
   "outputs": [],
   "source": [
    "import numpy as np\n",
    "import pandas as pd\n",
    "import matplotlib.pyplot as plt\n",
    "from sklearn import datasets\n",
    "from sklearn.model_selection import cross_val_predict\n",
    "from sklearn import datasets, linear_model\n",
    "from sklearn.preprocessing import PolynomialFeatures\n",
    "from sklearn.pipeline import make_pipeline\n",
    "from sklearn import model_selection\n",
    "from sklearn import  metrics\n",
    "from statsmodels.formula.api import ols"
   ]
  },
  {
   "cell_type": "markdown",
   "metadata": {},
   "source": [
    "Rozważmy zbiór Boston"
   ]
  },
  {
   "cell_type": "code",
   "execution_count": 4,
   "metadata": {},
   "outputs": [
    {
     "name": "stderr",
     "output_type": "stream",
     "text": [
      "C:\\Users\\sch03\\anaconda3\\envs\\podstawy_sztucznej_inteligencji\\lib\\site-packages\\sklearn\\utils\\deprecation.py:87: FutureWarning: Function load_boston is deprecated; `load_boston` is deprecated in 1.0 and will be removed in 1.2.\n",
      "\n",
      "    The Boston housing prices dataset has an ethical problem. You can refer to\n",
      "    the documentation of this function for further details.\n",
      "\n",
      "    The scikit-learn maintainers therefore strongly discourage the use of this\n",
      "    dataset unless the purpose of the code is to study and educate about\n",
      "    ethical issues in data science and machine learning.\n",
      "\n",
      "    In this special case, you can fetch the dataset from the original\n",
      "    source::\n",
      "\n",
      "        import pandas as pd\n",
      "        import numpy as np\n",
      "\n",
      "\n",
      "        data_url = \"http://lib.stat.cmu.edu/datasets/boston\"\n",
      "        raw_df = pd.read_csv(data_url, sep=\"\\s+\", skiprows=22, header=None)\n",
      "        data = np.hstack([raw_df.values[::2, :], raw_df.values[1::2, :2]])\n",
      "        target = raw_df.values[1::2, 2]\n",
      "\n",
      "    Alternative datasets include the California housing dataset (i.e.\n",
      "    :func:`~sklearn.datasets.fetch_california_housing`) and the Ames housing\n",
      "    dataset. You can load the datasets as follows::\n",
      "\n",
      "        from sklearn.datasets import fetch_california_housing\n",
      "        housing = fetch_california_housing()\n",
      "\n",
      "    for the California housing dataset and::\n",
      "\n",
      "        from sklearn.datasets import fetch_openml\n",
      "        housing = fetch_openml(name=\"house_prices\", as_frame=True)\n",
      "\n",
      "    for the Ames housing dataset.\n",
      "    \n",
      "  warnings.warn(msg, category=FutureWarning)\n"
     ]
    }
   ],
   "source": [
    "boston = datasets.load_boston()\n",
    "# print description\n",
    "# print(boston.DESCR)"
   ]
  },
  {
   "cell_type": "code",
   "execution_count": 5,
   "metadata": {},
   "outputs": [
    {
     "name": "stdout",
     "output_type": "stream",
     "text": [
      "dict_keys(['data', 'target', 'feature_names', 'DESCR', 'filename', 'data_module'])\n",
      "(506, 13)\n",
      "['CRIM' 'ZN' 'INDUS' 'CHAS' 'NOX' 'RM' 'AGE' 'DIS' 'RAD' 'TAX' 'PTRATIO'\n",
      " 'B' 'LSTAT']\n"
     ]
    }
   ],
   "source": [
    "print(boston.keys())\n",
    "print(boston.data.shape)\n",
    "print(boston.feature_names)"
   ]
  },
  {
   "cell_type": "code",
   "execution_count": 6,
   "metadata": {},
   "outputs": [],
   "source": [
    "# get the data\n",
    "boston_X = boston.data\n",
    "boston_Y = boston.target\n",
    "\n",
    "# Split the data into training/testing sets\n",
    "boston_X_train = boston_X[:-50]\n",
    "boston_X_test = boston_X[-50:]\n",
    " \n",
    "# Split the targets into training/testing sets\n",
    "boston_y_train = boston_Y[:-50]\n",
    "boston_y_test = boston_Y[-50:]"
   ]
  },
  {
   "cell_type": "code",
   "execution_count": 6,
   "metadata": {},
   "outputs": [],
   "source": []
  },
  {
   "cell_type": "code",
   "execution_count": 7,
   "metadata": {},
   "outputs": [
    {
     "data": {
      "text/plain": "      CRIM    ZN  INDUS  CHAS    NOX     RM   AGE     DIS  RAD    TAX  \\\n0  0.00632  18.0   2.31   0.0  0.538  6.575  65.2  4.0900  1.0  296.0   \n1  0.02731   0.0   7.07   0.0  0.469  6.421  78.9  4.9671  2.0  242.0   \n2  0.02729   0.0   7.07   0.0  0.469  7.185  61.1  4.9671  2.0  242.0   \n3  0.03237   0.0   2.18   0.0  0.458  6.998  45.8  6.0622  3.0  222.0   \n4  0.06905   0.0   2.18   0.0  0.458  7.147  54.2  6.0622  3.0  222.0   \n\n   PTRATIO       B  LSTAT  PRICE  \n0     15.3  396.90   4.98   24.0  \n1     17.8  396.90   9.14   21.6  \n2     17.8  392.83   4.03   34.7  \n3     18.7  394.63   2.94   33.4  \n4     18.7  396.90   5.33   36.2  ",
      "text/html": "<div>\n<style scoped>\n    .dataframe tbody tr th:only-of-type {\n        vertical-align: middle;\n    }\n\n    .dataframe tbody tr th {\n        vertical-align: top;\n    }\n\n    .dataframe thead th {\n        text-align: right;\n    }\n</style>\n<table border=\"1\" class=\"dataframe\">\n  <thead>\n    <tr style=\"text-align: right;\">\n      <th></th>\n      <th>CRIM</th>\n      <th>ZN</th>\n      <th>INDUS</th>\n      <th>CHAS</th>\n      <th>NOX</th>\n      <th>RM</th>\n      <th>AGE</th>\n      <th>DIS</th>\n      <th>RAD</th>\n      <th>TAX</th>\n      <th>PTRATIO</th>\n      <th>B</th>\n      <th>LSTAT</th>\n      <th>PRICE</th>\n    </tr>\n  </thead>\n  <tbody>\n    <tr>\n      <th>0</th>\n      <td>0.00632</td>\n      <td>18.0</td>\n      <td>2.31</td>\n      <td>0.0</td>\n      <td>0.538</td>\n      <td>6.575</td>\n      <td>65.2</td>\n      <td>4.0900</td>\n      <td>1.0</td>\n      <td>296.0</td>\n      <td>15.3</td>\n      <td>396.90</td>\n      <td>4.98</td>\n      <td>24.0</td>\n    </tr>\n    <tr>\n      <th>1</th>\n      <td>0.02731</td>\n      <td>0.0</td>\n      <td>7.07</td>\n      <td>0.0</td>\n      <td>0.469</td>\n      <td>6.421</td>\n      <td>78.9</td>\n      <td>4.9671</td>\n      <td>2.0</td>\n      <td>242.0</td>\n      <td>17.8</td>\n      <td>396.90</td>\n      <td>9.14</td>\n      <td>21.6</td>\n    </tr>\n    <tr>\n      <th>2</th>\n      <td>0.02729</td>\n      <td>0.0</td>\n      <td>7.07</td>\n      <td>0.0</td>\n      <td>0.469</td>\n      <td>7.185</td>\n      <td>61.1</td>\n      <td>4.9671</td>\n      <td>2.0</td>\n      <td>242.0</td>\n      <td>17.8</td>\n      <td>392.83</td>\n      <td>4.03</td>\n      <td>34.7</td>\n    </tr>\n    <tr>\n      <th>3</th>\n      <td>0.03237</td>\n      <td>0.0</td>\n      <td>2.18</td>\n      <td>0.0</td>\n      <td>0.458</td>\n      <td>6.998</td>\n      <td>45.8</td>\n      <td>6.0622</td>\n      <td>3.0</td>\n      <td>222.0</td>\n      <td>18.7</td>\n      <td>394.63</td>\n      <td>2.94</td>\n      <td>33.4</td>\n    </tr>\n    <tr>\n      <th>4</th>\n      <td>0.06905</td>\n      <td>0.0</td>\n      <td>2.18</td>\n      <td>0.0</td>\n      <td>0.458</td>\n      <td>7.147</td>\n      <td>54.2</td>\n      <td>6.0622</td>\n      <td>3.0</td>\n      <td>222.0</td>\n      <td>18.7</td>\n      <td>396.90</td>\n      <td>5.33</td>\n      <td>36.2</td>\n    </tr>\n  </tbody>\n</table>\n</div>"
     },
     "execution_count": 7,
     "metadata": {},
     "output_type": "execute_result"
    }
   ],
   "source": [
    "bos=pd.DataFrame(boston.data[:-50])\n",
    "bos.columns = boston.feature_names\n",
    "bos['PRICE']=boston.target[:-50]\n",
    "bos.head()"
   ]
  },
  {
   "cell_type": "code",
   "execution_count": 8,
   "metadata": {},
   "outputs": [
    {
     "data": {
      "text/plain": "      CRIM   ZN  INDUS  CHAS    NOX     RM   AGE     DIS   RAD    TAX  \\\n0  4.66883  0.0   18.1   0.0  0.713  5.976  87.9  2.5806  24.0  666.0   \n1  8.20058  0.0   18.1   0.0  0.713  5.936  80.3  2.7792  24.0  666.0   \n2  7.75223  0.0   18.1   0.0  0.713  6.301  83.7  2.7831  24.0  666.0   \n3  6.80117  0.0   18.1   0.0  0.713  6.081  84.4  2.7175  24.0  666.0   \n4  4.81213  0.0   18.1   0.0  0.713  6.701  90.0  2.5975  24.0  666.0   \n\n   PTRATIO       B  LSTAT  PRICE  \n0     20.2   10.48  19.01   12.7  \n1     20.2    3.50  16.94   13.5  \n2     20.2  272.21  16.23   14.9  \n3     20.2  396.90  14.70   20.0  \n4     20.2  255.23  16.42   16.4  ",
      "text/html": "<div>\n<style scoped>\n    .dataframe tbody tr th:only-of-type {\n        vertical-align: middle;\n    }\n\n    .dataframe tbody tr th {\n        vertical-align: top;\n    }\n\n    .dataframe thead th {\n        text-align: right;\n    }\n</style>\n<table border=\"1\" class=\"dataframe\">\n  <thead>\n    <tr style=\"text-align: right;\">\n      <th></th>\n      <th>CRIM</th>\n      <th>ZN</th>\n      <th>INDUS</th>\n      <th>CHAS</th>\n      <th>NOX</th>\n      <th>RM</th>\n      <th>AGE</th>\n      <th>DIS</th>\n      <th>RAD</th>\n      <th>TAX</th>\n      <th>PTRATIO</th>\n      <th>B</th>\n      <th>LSTAT</th>\n      <th>PRICE</th>\n    </tr>\n  </thead>\n  <tbody>\n    <tr>\n      <th>0</th>\n      <td>4.66883</td>\n      <td>0.0</td>\n      <td>18.1</td>\n      <td>0.0</td>\n      <td>0.713</td>\n      <td>5.976</td>\n      <td>87.9</td>\n      <td>2.5806</td>\n      <td>24.0</td>\n      <td>666.0</td>\n      <td>20.2</td>\n      <td>10.48</td>\n      <td>19.01</td>\n      <td>12.7</td>\n    </tr>\n    <tr>\n      <th>1</th>\n      <td>8.20058</td>\n      <td>0.0</td>\n      <td>18.1</td>\n      <td>0.0</td>\n      <td>0.713</td>\n      <td>5.936</td>\n      <td>80.3</td>\n      <td>2.7792</td>\n      <td>24.0</td>\n      <td>666.0</td>\n      <td>20.2</td>\n      <td>3.50</td>\n      <td>16.94</td>\n      <td>13.5</td>\n    </tr>\n    <tr>\n      <th>2</th>\n      <td>7.75223</td>\n      <td>0.0</td>\n      <td>18.1</td>\n      <td>0.0</td>\n      <td>0.713</td>\n      <td>6.301</td>\n      <td>83.7</td>\n      <td>2.7831</td>\n      <td>24.0</td>\n      <td>666.0</td>\n      <td>20.2</td>\n      <td>272.21</td>\n      <td>16.23</td>\n      <td>14.9</td>\n    </tr>\n    <tr>\n      <th>3</th>\n      <td>6.80117</td>\n      <td>0.0</td>\n      <td>18.1</td>\n      <td>0.0</td>\n      <td>0.713</td>\n      <td>6.081</td>\n      <td>84.4</td>\n      <td>2.7175</td>\n      <td>24.0</td>\n      <td>666.0</td>\n      <td>20.2</td>\n      <td>396.90</td>\n      <td>14.70</td>\n      <td>20.0</td>\n    </tr>\n    <tr>\n      <th>4</th>\n      <td>4.81213</td>\n      <td>0.0</td>\n      <td>18.1</td>\n      <td>0.0</td>\n      <td>0.713</td>\n      <td>6.701</td>\n      <td>90.0</td>\n      <td>2.5975</td>\n      <td>24.0</td>\n      <td>666.0</td>\n      <td>20.2</td>\n      <td>255.23</td>\n      <td>16.42</td>\n      <td>16.4</td>\n    </tr>\n  </tbody>\n</table>\n</div>"
     },
     "execution_count": 8,
     "metadata": {},
     "output_type": "execute_result"
    }
   ],
   "source": [
    "bos1=pd.DataFrame(boston_X[-50:])\n",
    "bos1.columns = boston.feature_names\n",
    "bos1['PRICE']=boston.target[-50:]\n",
    "bos1.head()"
   ]
  },
  {
   "cell_type": "code",
   "execution_count": 9,
   "metadata": {},
   "outputs": [
    {
     "name": "stdout",
     "output_type": "stream",
     "text": [
      "                  Results: Ordinary least squares\n",
      "====================================================================\n",
      "Model:                OLS              Adj. R-squared:     0.609    \n",
      "Dependent Variable:   PRICE            AIC:                2927.0954\n",
      "Date:                 2022-03-31 13:58 BIC:                2964.1978\n",
      "No. Observations:     456              Log-Likelihood:     -1454.5  \n",
      "Df Model:             8                F-statistic:        89.65    \n",
      "Df Residuals:         447              Prob (F-statistic): 5.51e-88 \n",
      "R-squared:            0.616            Scale:              35.221   \n",
      "--------------------------------------------------------------------\n",
      "                      Coef.  Std.Err.    t    P>|t|   [0.025  0.975]\n",
      "--------------------------------------------------------------------\n",
      "Intercept             4.4215   5.3599  0.8249 0.4099 -6.1122 14.9552\n",
      "np.log(CRIM)          0.3103   0.3230  0.9605 0.3373 -0.3245  0.9451\n",
      "I(LSTAT ** 2)        -0.0113   0.0017 -6.6945 0.0000 -0.0146 -0.0080\n",
      "AGE:TAX:INDUS         0.0000   0.0000  2.3620 0.0186  0.0000  0.0000\n",
      "I(RM)                 5.9791   0.4860 12.3031 0.0000  5.0240  6.9342\n",
      "I(TAX)               -0.0415   0.0122 -3.4100 0.0007 -0.0655 -0.0176\n",
      "np.log(INDUS)        -4.4107   1.4530 -3.0356 0.0025 -7.2663 -1.5552\n",
      "I(TAX):np.log(INDUS)  0.0067   0.0053  1.2573 0.2093 -0.0038  0.0171\n",
      "ZN:INDUS              0.0043   0.0039  1.1253 0.2610 -0.0032  0.0119\n",
      "--------------------------------------------------------------------\n",
      "Omnibus:              202.193       Durbin-Watson:          0.795   \n",
      "Prob(Omnibus):        0.000         Jarque-Bera (JB):       1129.018\n",
      "Skew:                 1.862         Prob(JB):               0.000   \n",
      "Kurtosis:             9.749         Condition No.:          11906209\n",
      "====================================================================\n",
      "* The condition number is large (1e+07). This might indicate\n",
      "strong multicollinearity or other numerical problems.\n"
     ]
    }
   ],
   "source": [
    "model = ols(\"PRICE ~ np.log(CRIM) + I(LSTAT ** 2) + AGE:TAX:INDUS + I(RM) + I(TAX)*np.log(INDUS) + ZN:INDUS\", bos).fit()\n",
    "# Print the summary\n",
    "print((model.summary2()))"
   ]
  },
  {
   "cell_type": "code",
   "execution_count": 10,
   "metadata": {},
   "outputs": [
    {
     "data": {
      "text/plain": "0.616040783571153"
     },
     "execution_count": 10,
     "metadata": {},
     "output_type": "execute_result"
    }
   ],
   "source": [
    "from sklearn import  metrics\n",
    "metrics.r2_score(bos.PRICE, model.predict(bos))"
   ]
  },
  {
   "cell_type": "code",
   "execution_count": 11,
   "metadata": {},
   "outputs": [
    {
     "data": {
      "text/plain": "-0.02545599096290041"
     },
     "execution_count": 11,
     "metadata": {},
     "output_type": "execute_result"
    }
   ],
   "source": [
    "from sklearn import  metrics\n",
    "metrics.r2_score(bos1.PRICE, model.predict(bos1))"
   ]
  },
  {
   "cell_type": "code",
   "execution_count": 11,
   "metadata": {
    "collapsed": true
   },
   "outputs": [],
   "source": []
  },
  {
   "cell_type": "code",
   "execution_count": 11,
   "metadata": {
    "collapsed": true
   },
   "outputs": [],
   "source": []
  }
 ],
 "metadata": {
  "kernelspec": {
   "display_name": "Python 3",
   "language": "python",
   "name": "python3"
  },
  "language_info": {
   "codemirror_mode": {
    "name": "ipython",
    "version": 3
   },
   "file_extension": ".py",
   "mimetype": "text/x-python",
   "name": "python",
   "nbconvert_exporter": "python",
   "pygments_lexer": "ipython3",
   "version": "3.7.6"
  }
 },
 "nbformat": 4,
 "nbformat_minor": 2
}