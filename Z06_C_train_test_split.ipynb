{
 "cells": [
  {
   "cell_type": "markdown",
   "metadata": {},
   "source": [
    "# Train test split\n"
   ]
  },
  {
   "cell_type": "code",
   "execution_count": 8,
   "metadata": {
    "collapsed": true
   },
   "outputs": [],
   "source": [
    "import numpy as np\n",
    "import pandas as pd\n",
    "import scipy.stats as stats\n",
    "import sklearn.linear_model as lm\n",
    "from sklearn import datasets, linear_model\n",
    "import matplotlib.pyplot as plt\n",
    "\n",
    "from sklearn.preprocessing import PolynomialFeatures\n",
    "from sklearn.pipeline import make_pipeline\n",
    "\n",
    "from sklearn import  metrics"
   ]
  },
  {
   "cell_type": "markdown",
   "metadata": {},
   "source": [
    "Rozważmy następujący zbiór punktów:"
   ]
  },
  {
   "cell_type": "code",
   "execution_count": 9,
   "metadata": {},
   "outputs": [
    {
     "data": {
      "text/plain": "<Figure size 432x288 with 1 Axes>",
      "image/png": "[encoded data removed]"
     },
     "metadata": {
      "needs_background": "light"
     },
     "output_type": "display_data"
    }
   ],
   "source": [
    "x = stats.uniform(0,3).rvs(100)\n",
    "f = lambda x: ((x*2-1)*(x**2-2)*(x-2)+3)\n",
    "y = f(x) + stats.norm(0,0.3).rvs(len(x))\n",
    "plt.plot(x, y, 'ok', ms=10)\n",
    "plt.show()"
   ]
  },
  {
   "cell_type": "markdown",
   "metadata": {},
   "source": [
    "# Przykład\n",
    "Podziel zbiór danych na część testową i treningową. \n",
    "Naucz model na części treningowej i ocen wyniki na części testowej."
   ]
  },
  {
   "cell_type": "code",
   "execution_count": 10,
   "metadata": {},
   "outputs": [
    {
     "name": "stdout",
     "output_type": "stream",
     "text": [
      "(60,) (60,)\n",
      "(40,) (40,)\n"
     ]
    }
   ],
   "source": [
    "from sklearn.model_selection import train_test_split\n",
    "X_train, X_test, y_train, y_test = train_test_split(x, y, test_size=0.4, random_state=0)\n",
    "\n",
    "print(X_train.shape, y_train.shape)\n",
    "print(X_test.shape, y_test.shape)"
   ]
  },
  {
   "cell_type": "code",
   "execution_count": 11,
   "metadata": {
    "collapsed": true
   },
   "outputs": [],
   "source": [
    "X_train=np.vstack(X_train)\n",
    "X_test=np.vstack(X_test)"
   ]
  },
  {
   "cell_type": "code",
   "execution_count": 12,
   "metadata": {},
   "outputs": [
    {
     "data": {
      "text/plain": "array([17.56467437,  4.16567655, 17.69844334,  6.33545716,  7.01384872,\n        4.20472905, 25.04117271, 10.75273653,  4.10696037,  1.7925408 ,\n        3.74878233, 25.36705755, 20.2138313 ,  2.4323146 ,  1.72869822,\n        2.64727621,  1.53767488,  7.18967784,  2.8803334 ,  2.26327257,\n        9.83801555,  2.84424094, 14.39544856, 14.37941242,  5.94967458,\n       10.19054482, 18.61084056, 13.00170885,  5.59408458,  1.49530766,\n       12.54488656,  1.61490279,  2.66336807,  2.8029166 , 17.00669592,\n        2.26480192, 16.16767972,  1.92332183, 16.35967897, 19.40817061])"
     },
     "execution_count": 12,
     "metadata": {},
     "output_type": "execute_result"
    }
   ],
   "source": [
    "model2 = make_pipeline(PolynomialFeatures(2), linear_model.LinearRegression())\n",
    "model2.fit(X_train, y_train)\n",
    "model2.predict(X_test)"
   ]
  },
  {
   "cell_type": "code",
   "execution_count": 13,
   "metadata": {},
   "outputs": [
    {
     "name": "stdout",
     "output_type": "stream",
     "text": [
      "Explained variance score: 0.7740544411873567\n",
      "Explained variance score: 0.7740544411873567\n",
      "Median absolute error: 2.9748740627183103\n",
      "Mean squared error: 16.215967778478905\n",
      "Mean absolute errors: 3.299987057012366\n",
      "\n"
     ]
    }
   ],
   "source": [
    "def printScore(y_test,model):\n",
    "    print(\"Explained variance score: {}\".format( metrics.explained_variance_score(y_test, model.predict(X_test)) ))\n",
    "    print(\"Explained variance score: {}\".format( metrics.explained_variance_score(y_test, model.predict(X_test)) ))\n",
    "    print(\"Median absolute error: {}\".format( metrics.median_absolute_error(y_test, model.predict(X_test)) ))\n",
    "    print(\"Mean squared error: {}\".format( metrics.mean_squared_error(y_test, model.predict(X_test)) ))\n",
    "    print(\"Mean absolute errors: {}\".format(metrics.mean_absolute_error(y_test, model.predict(X_test)) ))\n",
    "    print()\n",
    "printScore(y_test,model2)"
   ]
  },
  {
   "cell_type": "markdown",
   "metadata": {},
   "source": [
    "# Zadanie\n",
    "Wylicz powyższe miary na zbiorze testowym dla wszystkich modeli nauczonych na trainie:\n",
    "\n",
    "- regrsji linowej\n",
    "- regrsji wielomianowej stopnia 2\n",
    "- regrsji wielomianowej stopnia 3\n",
    "- regrsji wielomianowej stopnia 4\n",
    "- regrsji wielomianowej stopnia 5\n",
    "- regrsji wielomianowej stopnia 25"
   ]
  },
  {
   "cell_type": "code",
   "execution_count": 14,
   "metadata": {
    "collapsed": true
   },
   "outputs": [
    {
     "name": "stdout",
     "output_type": "stream",
     "text": [
      "Explained variance score: 0.49731623317254814\n",
      "Explained variance score: 0.49731623317254814\n",
      "Median absolute error: 3.0238142953158738\n",
      "Mean squared error: 32.75602434219162\n",
      "Mean absolute errors: 4.347811464632118\n",
      "\n",
      "Explained variance score: 0.7740544411873567\n",
      "Explained variance score: 0.7740544411873567\n",
      "Median absolute error: 2.9748740627183103\n",
      "Mean squared error: 16.215967778478905\n",
      "Mean absolute errors: 3.299987057012366\n",
      "\n",
      "Explained variance score: 0.9869632192824476\n",
      "Explained variance score: 0.9869632192824476\n",
      "Median absolute error: 0.8114651866940252\n",
      "Mean squared error: 0.8704304313980298\n",
      "Mean absolute errors: 0.8096734883715092\n",
      "\n",
      "Explained variance score: 0.998305341653285\n",
      "Explained variance score: 0.998305341653285\n",
      "Median absolute error: 0.2041056484040844\n",
      "Mean squared error: 0.10685248142783613\n",
      "Mean absolute errors: 0.25360914146771324\n",
      "\n",
      "Explained variance score: 0.7258309680582637\n",
      "Explained variance score: 0.7258309680582637\n",
      "Median absolute error: 0.26408446808581365\n",
      "Mean squared error: 17.693099481664014\n",
      "Mean absolute errors: 1.210030197470682\n",
      "\n"
     ]
    }
   ],
   "source": [
    "model1 = make_pipeline(linear_model.LinearRegression())\n",
    "model1.fit(X_train, y_train)\n",
    "model1.predict(X_test)\n",
    "printScore(y_test,model1)\n",
    "\n",
    "model2 = make_pipeline(PolynomialFeatures(2), linear_model.LinearRegression())\n",
    "model2.fit(X_train, y_train)\n",
    "model2.predict(X_test)\n",
    "printScore(y_test,model2)\n",
    "\n",
    "model3 = make_pipeline(PolynomialFeatures(3), linear_model.LinearRegression())\n",
    "model3.fit(X_train, y_train)\n",
    "model3.predict(X_test)\n",
    "printScore(y_test,model3)\n",
    "\n",
    "model5 = make_pipeline(PolynomialFeatures(5), linear_model.LinearRegression())\n",
    "model5.fit(X_train, y_train)\n",
    "model5.predict(X_test)\n",
    "printScore(y_test,model5)\n",
    "\n",
    "model25 = make_pipeline(PolynomialFeatures(25), linear_model.LinearRegression())\n",
    "model25.fit(X_train, y_train)\n",
    "model25.predict(X_test)\n",
    "printScore(y_test,model25)\n"
   ]
  }
 ],
 "metadata": {
  "kernelspec": {
   "display_name": "Python 3",
   "language": "python",
   "name": "python3"
  },
  "language_info": {
   "codemirror_mode": {
    "name": "ipython",
    "version": 3
   },
   "file_extension": ".py",
   "mimetype": "text/x-python",
   "name": "python",
   "nbconvert_exporter": "python",
   "pygments_lexer": "ipython3",
   "version": "3.8.5"
  }
 },
 "nbformat": 4,
 "nbformat_minor": 2
}