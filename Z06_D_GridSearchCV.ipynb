{
 "cells": [
  {
   "cell_type": "markdown",
   "metadata": {},
   "source": [
    "# Cross validation"
   ]
  },
  {
   "cell_type": "code",
   "execution_count": 10,
   "metadata": {
    "collapsed": true
   },
   "outputs": [],
   "source": [
    "import numpy as np\n",
    "import pandas as pd\n",
    "import matplotlib.pyplot as plt\n",
    "from sklearn import model_selection\n",
    "import scipy.stats as stats\n",
    "import sklearn.linear_model as lm\n",
    "from sklearn import datasets, linear_model\n",
    "from sklearn.preprocessing import PolynomialFeatures\n",
    "from sklearn.pipeline import make_pipeline"
   ]
  },
  {
   "cell_type": "markdown",
   "metadata": {},
   "source": [
    "Rozważmy następujący zbiór punktów:"
   ]
  },
  {
   "cell_type": "code",
   "execution_count": 11,
   "metadata": {},
   "outputs": [
    {
     "data": {
      "text/plain": "<Figure size 432x288 with 1 Axes>",
      "image/png": "[encoded data removed]"
     },
     "metadata": {
      "needs_background": "light"
     },
     "output_type": "display_data"
    }
   ],
   "source": [
    "np.random.seed(123)\n",
    "f = lambda x: ((x*2-1)*(x**2-2)*(x-2)+3)\n",
    "x = stats.uniform(0,3).rvs(100)\n",
    "y = f(x) + stats.norm(0,1).rvs(len(x))\n",
    "x=np.vstack(x)\n",
    "plt.plot(x, y, 'ok')\n",
    "plt.show()"
   ]
  },
  {
   "cell_type": "markdown",
   "metadata": {},
   "source": [
    "# Przykład \n",
    "Wykonaj k-fold cross-validation dla:\n",
    "\n",
    "- regrsji linowej\n",
    "- regrsji wielomianowej stopnia 2\n",
    "- regrsji wielomianowej stopnia 3\n",
    "- regrsji wielomianowej stopnia 4\n",
    "- regrsji wielomianowej stopnia 5\n",
    "- regrsji wielomianowej stopnia 25\n",
    "\n",
    "oraz podaj uśrednione wartości dla każdej z nich oraz wykonaj barplot."
   ]
  },
  {
   "cell_type": "code",
   "execution_count": 12,
   "metadata": {
    "collapsed": true
   },
   "outputs": [],
   "source": [
    "# prepare models\n",
    "models = []\n",
    "models.append(('LR', linear_model.LinearRegression()))\n",
    "models.append(('PR2', make_pipeline(PolynomialFeatures(2), linear_model.LinearRegression()) ))\n",
    "models.append(('PR3', make_pipeline(PolynomialFeatures(3), linear_model.LinearRegression()) ))\n",
    "models.append(('PR4', make_pipeline(PolynomialFeatures(4), linear_model.LinearRegression()) ))\n",
    "models.append(('PR5', make_pipeline(PolynomialFeatures(5), linear_model.LinearRegression()) ))\n",
    "models.append(('PR6', make_pipeline(PolynomialFeatures(6), linear_model.LinearRegression()) ))\n",
    "models.append(('PR25', make_pipeline(PolynomialFeatures(25), linear_model.LinearRegression()) ))\n",
    "\n",
    "results = []\n",
    "names = []\n"
   ]
  },
  {
   "cell_type": "code",
   "execution_count": 13,
   "metadata": {
    "collapsed": true
   },
   "outputs": [],
   "source": [
    "seed=123\n",
    "kfold = model_selection.KFold(n_splits=10)\n",
    "scoring = 'neg_mean_absolute_error'\n",
    "#scoring = 'r2'"
   ]
  },
  {
   "cell_type": "code",
   "execution_count": 14,
   "metadata": {},
   "outputs": [
    {
     "name": "stdout",
     "output_type": "stream",
     "text": [
      "LR: -3.910595 (0.702448)\n",
      "PR2: -2.922856 (0.308112)\n",
      "PR3: -1.048559 (0.182818)\n",
      "PR4: -0.798901 (0.150318)\n",
      "PR5: -0.817215 (0.144267)\n",
      "PR6: -0.822522 (0.159449)\n",
      "PR25: -1.181341 (0.484210)\n"
     ]
    }
   ],
   "source": [
    "for name, model in models:\n",
    "    cv_results = model_selection.cross_val_score(model, x, y, cv=kfold, scoring=scoring)\n",
    "    results.append(cv_results)\n",
    "    names.append(name)\n",
    "    msg = \"%s: %f (%f)\" % (name, cv_results.mean(), cv_results.std())\n",
    "    print(msg)"
   ]
  },
  {
   "cell_type": "code",
   "execution_count": 15,
   "metadata": {},
   "outputs": [
    {
     "data": {
      "text/plain": "<Figure size 432x288 with 1 Axes>",
      "image/png": "[encoded data removed]"
     },
     "metadata": {
      "needs_background": "light"
     },
     "output_type": "display_data"
    }
   ],
   "source": [
    "# boxplot algorithm comparison\n",
    "fig = plt.figure()\n",
    "fig.suptitle('Algorithm Comparison')\n",
    "ax = fig.add_subplot(111)\n",
    "plt.boxplot(results)\n",
    "ax.set_xticklabels(names)\n",
    "plt.show()"
   ]
  },
  {
   "cell_type": "markdown",
   "metadata": {},
   "source": [
    "# Zdanie \n",
    "Dobierz optymalny stopień wielomianu za pomocą metody <tt>GridSearchCV</tt>. "
   ]
  },
  {
   "cell_type": "code",
   "execution_count": 16,
   "metadata": {},
   "outputs": [
    {
     "data": {
      "text/plain": "{'polynomialfeatures__degree': 4}"
     },
     "execution_count": 16,
     "metadata": {},
     "output_type": "execute_result"
    }
   ],
   "source": [
    "from sklearn.model_selection import GridSearchCV\n",
    "grid = GridSearchCV(make_pipeline(PolynomialFeatures(degree=2), linear_model.LinearRegression()),\n",
    "                    param_grid={'polynomialfeatures__degree': [1, 2, 3, 4, 5, 6, 7]},\n",
    "                    cv=kfold,\n",
    "                    refit=False)\n",
    "#make_pipeline(PolynomialFeatures(degree=2), linear_model.LinearRegression()).get_params().keys()\n",
    "grid.fit(x, y)\n",
    "grid.best_params_"
   ]
  },
  {
   "cell_type": "markdown",
   "metadata": {},
   "source": [
    "# Zadanie \n",
    "Dla danych reklamowych, obejmujących sprzedaż produktów i ich budżet reklamowy w trzech różnych mediach telewizyjnych, radiu, gazetach wykonaj k-fold cross-validation dla:\n",
    "\n",
    "- regrsji linowej\n",
    "- regrsji wielomianowej stopnia 2\n",
    "- regrsji wielomianowej stopnia 3\n",
    "- regrsji wielomianowej stopnia 4\n",
    "- regrsji wielomianowej stopnia 5\n",
    "- regrsji wielomianowej stopnia 25\n",
    "\n",
    "oraz podaj uśrednione wartości dla każdej z nich oraz wykonaj barplot."
   ]
  },
  {
   "cell_type": "code",
   "execution_count": 17,
   "metadata": {},
   "outputs": [
    {
     "name": "stdout",
     "output_type": "stream",
     "text": [
      "model1\n",
      "Mean squared error: 39.01282773174334\n",
      "model3\n",
      "Mean squared error: 0.7913298905163965\n",
      "model4\n",
      "Mean squared error: 0.10368309186557201\n",
      "model5\n",
      "Mean squared error: 0.10256406251141725\n",
      "model25\n",
      "Mean squared error: 0.1103721776884592\n"
     ]
    }
   ],
   "source": [
    "from sklearn.model_selection import train_test_split\n",
    "from sklearn import  metrics\n",
    "x = stats.uniform(0,3).rvs(100)\n",
    "f = lambda x: ((x*2-1)*(x**2-2)*(x-2)+3)\n",
    "y = f(x) + stats.norm(0,0.3).rvs(len(x))\n",
    "X_train, X_test, y_train, y_test = train_test_split(x, y, test_size=0.4, random_state=0)\n",
    "X_train=np.vstack(X_train)\n",
    "X_test=np.vstack(X_test)\n",
    "model1 = make_pipeline(PolynomialFeatures(1), linear_model.LinearRegression())\n",
    "model1.fit(X_train, y_train)\n",
    "model1.predict(X_test)\n",
    "\n",
    "print(\"model1\")\n",
    "# print(\"Explained variance score: {}\".format( metrics.explained_variance_score(y_test, model1.predict(X_test)) ))\n",
    "# print(\"Explained variance score: {}\".format( metrics.explained_variance_score(y_test, model1.predict(X_test)) ))\n",
    "# print(\"Median absolute error: {}\".format( metrics.median_absolute_error(y_test, model1.predict(X_test)) ))\n",
    "print(\"Mean squared error: {}\".format( metrics.mean_squared_error(y_test, model1.predict(X_test)) ))\n",
    "# print(\"Mean absolute errors: {}\".format(metrics.mean_absolute_error(y_test, model1.predict(X_test)) ))\n",
    "\n",
    "model3 = make_pipeline(PolynomialFeatures(3), linear_model.LinearRegression())\n",
    "model3.fit(X_train, y_train)\n",
    "model3.predict(X_test)\n",
    "\n",
    "print(\"model3\")\n",
    "# print(\"Explained variance score: {}\".format( metrics.explained_variance_score(y_test, model3.predict(X_test)) ))\n",
    "# print(\"Explained variance score: {}\".format( metrics.explained_variance_score(y_test, model3.predict(X_test)) ))\n",
    "# print(\"Median absolute error: {}\".format( metrics.median_absolute_error(y_test, model3.predict(X_test)) ))\n",
    "print(\"Mean squared error: {}\".format( metrics.mean_squared_error(y_test, model3.predict(X_test)) ))\n",
    "# print(\"Mean absolute errors: {}\".format(metrics.mean_absolute_error(y_test, model3.predict(X_test)) ))\n",
    "\n",
    "model4 = make_pipeline(PolynomialFeatures(4), linear_model.LinearRegression())\n",
    "model4.fit(X_train, y_train)\n",
    "model4.predict(X_test)\n",
    "\n",
    "print(\"model4\")\n",
    "# print(\"Explained variance score: {}\".format( metrics.explained_variance_score(y_test, model4.predict(X_test)) ))\n",
    "# print(\"Explained variance score: {}\".format( metrics.explained_variance_score(y_test, model4.predict(X_test)) ))\n",
    "# print(\"Median absolute error: {}\".format( metrics.median_absolute_error(y_test, model4.predict(X_test)) ))\n",
    "print(\"Mean squared error: {}\".format( metrics.mean_squared_error(y_test, model4.predict(X_test)) ))\n",
    "# print(\"Mean absolute errors: {}\".format(metrics.mean_absolute_error(y_test, model4.predict(X_test)) ))\n",
    "\n",
    "model5 = make_pipeline(PolynomialFeatures(5), linear_model.LinearRegression())\n",
    "model5.fit(X_train, y_train)\n",
    "model5.predict(X_test)\n",
    "\n",
    "print(\"model5\")\n",
    "# print(\"Explained variance score: {}\".format( metrics.explained_variance_score(y_test, model5.predict(X_test)) ))\n",
    "# print(\"Explained variance score: {}\".format( metrics.explained_variance_score(y_test, model5.predict(X_test)) ))\n",
    "# print(\"Median absolute error: {}\".format( metrics.median_absolute_error(y_test, model5.predict(X_test)) ))\n",
    "print(\"Mean squared error: {}\".format( metrics.mean_squared_error(y_test, model5.predict(X_test)) ))\n",
    "# print(\"Mean absolute errors: {}\".format(metrics.mean_absolute_error(y_test, model5.predict(X_test)) ))\n",
    "\n",
    "model25 = make_pipeline(PolynomialFeatures(25), linear_model.LinearRegression())\n",
    "model25.fit(X_train, y_train)\n",
    "model25.predict(X_test)\n",
    "\n",
    "print(\"model25\")\n",
    "# print(\"Explained variance score: {}\".format( metrics.explained_variance_score(y_test, model25.predict(X_test)) ))\n",
    "# print(\"Explained variance score: {}\".format( metrics.explained_variance_score(y_test, model25.predict(X_test)) ))\n",
    "# print(\"Median absolute error: {}\".format( metrics.median_absolute_error(y_test, model25.predict(X_test)) ))\n",
    "print(\"Mean squared error: {}\".format( metrics.mean_squared_error(y_test, model25.predict(X_test)) ))\n",
    "# print(\"Mean absolute errors: {}\".format(metrics.mean_absolute_error(y_test, model25.predict(X_test)) ))"
   ]
  },
  {
   "cell_type": "markdown",
   "metadata": {},
   "source": [
    "# Zdanie \n",
    "Dobierz optymalny stopień wielomianu za pomocą metody <tt>GridSearchCV</tt> dla danych reklamowych, obejmującym sprzedaż produktów i ich budżet reklamowy w trzech różnych mediach telewizyjnych, radiu, gazetach."
   ]
  },
  {
   "cell_type": "code",
   "execution_count": 19,
   "metadata": {},
   "outputs": [
    {
     "data": {
      "text/plain": "      TV  radio  newspaper  sales\n1  230.1   37.8       69.2   22.1\n2   44.5   39.3       45.1   10.4\n3   17.2   45.9       69.3    9.3\n4  151.5   41.3       58.5   18.5\n5  180.8   10.8       58.4   12.9",
      "text/html": "<div>\n<style scoped>\n    .dataframe tbody tr th:only-of-type {\n        vertical-align: middle;\n    }\n\n    .dataframe tbody tr th {\n        vertical-align: top;\n    }\n\n    .dataframe thead th {\n        text-align: right;\n    }\n</style>\n<table border=\"1\" class=\"dataframe\">\n  <thead>\n    <tr style=\"text-align: right;\">\n      <th></th>\n      <th>TV</th>\n      <th>radio</th>\n      <th>newspaper</th>\n      <th>sales</th>\n    </tr>\n  </thead>\n  <tbody>\n    <tr>\n      <th>1</th>\n      <td>230.1</td>\n      <td>37.8</td>\n      <td>69.2</td>\n      <td>22.1</td>\n    </tr>\n    <tr>\n      <th>2</th>\n      <td>44.5</td>\n      <td>39.3</td>\n      <td>45.1</td>\n      <td>10.4</td>\n    </tr>\n    <tr>\n      <th>3</th>\n      <td>17.2</td>\n      <td>45.9</td>\n      <td>69.3</td>\n      <td>9.3</td>\n    </tr>\n    <tr>\n      <th>4</th>\n      <td>151.5</td>\n      <td>41.3</td>\n      <td>58.5</td>\n      <td>18.5</td>\n    </tr>\n    <tr>\n      <th>5</th>\n      <td>180.8</td>\n      <td>10.8</td>\n      <td>58.4</td>\n      <td>12.9</td>\n    </tr>\n  </tbody>\n</table>\n</div>"
     },
     "execution_count": 19,
     "metadata": {},
     "output_type": "execute_result"
    }
   ],
   "source": [
    "import pandas as pd\n",
    "df_adv = pd.read_csv('Advertising.csv', index_col=0)\n",
    "X = df_adv[['TV', 'radio','newspaper']]\n",
    "y = df_adv['sales']\n",
    "df_adv.head()"
   ]
  },
  {
   "cell_type": "code",
   "execution_count": 24,
   "metadata": {},
   "outputs": [
    {
     "data": {
      "text/plain": "        TV  radio  newspaper\n188  191.1   28.7       18.2\n47    89.7    9.9       35.7\n139   43.0   25.9       20.5\n196   38.2    3.7       13.8\n109   13.1    0.4       25.6\n..     ...    ...        ...\n68   139.3   14.5       10.2\n193   17.2    4.1       31.6\n118   76.4    0.8       14.8\n48   239.9   41.5       18.5\n173   19.6   20.1       17.0\n\n[120 rows x 3 columns]",
      "text/html": "<div>\n<style scoped>\n    .dataframe tbody tr th:only-of-type {\n        vertical-align: middle;\n    }\n\n    .dataframe tbody tr th {\n        vertical-align: top;\n    }\n\n    .dataframe thead th {\n        text-align: right;\n    }\n</style>\n<table border=\"1\" class=\"dataframe\">\n  <thead>\n    <tr style=\"text-align: right;\">\n      <th></th>\n      <th>TV</th>\n      <th>radio</th>\n      <th>newspaper</th>\n    </tr>\n  </thead>\n  <tbody>\n    <tr>\n      <th>188</th>\n      <td>191.1</td>\n      <td>28.7</td>\n      <td>18.2</td>\n    </tr>\n    <tr>\n      <th>47</th>\n      <td>89.7</td>\n      <td>9.9</td>\n      <td>35.7</td>\n    </tr>\n    <tr>\n      <th>139</th>\n      <td>43.0</td>\n      <td>25.9</td>\n      <td>20.5</td>\n    </tr>\n    <tr>\n      <th>196</th>\n      <td>38.2</td>\n      <td>3.7</td>\n      <td>13.8</td>\n    </tr>\n    <tr>\n      <th>109</th>\n      <td>13.1</td>\n      <td>0.4</td>\n      <td>25.6</td>\n    </tr>\n    <tr>\n      <th>...</th>\n      <td>...</td>\n      <td>...</td>\n      <td>...</td>\n    </tr>\n    <tr>\n      <th>68</th>\n      <td>139.3</td>\n      <td>14.5</td>\n      <td>10.2</td>\n    </tr>\n    <tr>\n      <th>193</th>\n      <td>17.2</td>\n      <td>4.1</td>\n      <td>31.6</td>\n    </tr>\n    <tr>\n      <th>118</th>\n      <td>76.4</td>\n      <td>0.8</td>\n      <td>14.8</td>\n    </tr>\n    <tr>\n      <th>48</th>\n      <td>239.9</td>\n      <td>41.5</td>\n      <td>18.5</td>\n    </tr>\n    <tr>\n      <th>173</th>\n      <td>19.6</td>\n      <td>20.1</td>\n      <td>17.0</td>\n    </tr>\n  </tbody>\n</table>\n<p>120 rows × 3 columns</p>\n</div>"
     },
     "execution_count": 24,
     "metadata": {},
     "output_type": "execute_result"
    }
   ],
   "source": [
    "import warnings\n",
    "warnings.filterwarnings('ignore')\n",
    "X_train, X_test, y_train, y_test = train_test_split(X, y, test_size=0.4, random_state=0)\n",
    "\n",
    "grid = GridSearchCV(make_pipeline(PolynomialFeatures(degree=2), linear_model.Ridge()),\n",
    "                    param_grid={'polynomialfeatures__degree': [i for i in range(1,10,1)],\n",
    "                    'ridge__alpha' : [10**i for i in range(-5,5,1)]},\n",
    "                    refit=True)\n",
    "grid.fit(X_train,y_train)\n",
    "print('=========================================')\n",
    "print(grid.best_params_)\n",
    "print('=========================================')\n",
    "print(\"Mean squared error: {}\".format( metrics.mean_squared_error(y_test, grid.predict(X_test)) ))\n"
   ]
  }
 ],
 "metadata": {
  "kernelspec": {
   "display_name": "Python 3",
   "language": "python",
   "name": "python3"
  },
  "language_info": {
   "codemirror_mode": {
    "name": "ipython",
    "version": 3
   },
   "file_extension": ".py",
   "mimetype": "text/x-python",
   "name": "python",
   "nbconvert_exporter": "python",
   "pygments_lexer": "ipython3",
   "version": "3.8.5"
  }
 },
 "nbformat": 4,
 "nbformat_minor": 1
}