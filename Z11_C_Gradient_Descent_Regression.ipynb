{
 "cells": [
  {
   "cell_type": "code",
   "execution_count": 76,
   "metadata": {
    "pycharm": {
     "name": "#%%\n"
    }
   },
   "outputs": [],
   "source": [
    "import numpy as np\n",
    "\n",
    "import matplotlib as mpl\n",
    "import matplotlib.pyplot as plt"
   ]
  },
  {
   "cell_type": "markdown",
   "metadata": {
    "pycharm": {
     "name": "#%% md\n"
    }
   },
   "source": [
    "# Zad\n",
    "Wygenerujmy punkty w kształcie prostej."
   ]
  },
  {
   "cell_type": "code",
   "execution_count": 77,
   "metadata": {
    "pycharm": {
     "name": "#%%\n"
    }
   },
   "outputs": [
    {
     "data": {
      "text/plain": "<Figure size 432x288 with 1 Axes>",
      "image/png": "[encoded data removed]"
     },
     "metadata": {
      "needs_background": "light"
     },
     "output_type": "display_data"
    }
   ],
   "source": [
    "X = 2 * np.random.rand(100, 1)\n",
    "y = 4 + 3 * X + np.random.randn(100, 1)\n",
    "\n",
    "plt.plot(X, y, \"b.\")\n",
    "plt.xlabel(\"$x_1$\", fontsize=18)\n",
    "plt.ylabel(\"$y$\", rotation=0, fontsize=18)\n",
    "plt.axis([0, 2, 0, 15])\n",
    "plt.show()"
   ]
  },
  {
   "cell_type": "markdown",
   "metadata": {
    "pycharm": {
     "name": "#%% md\n"
    }
   },
   "source": [
    "# Zad \n",
    "Wyznacz parametry prostej regresji (najmniejszych kwadratów) ze wzoru:\n",
    "\n",
    "$$\n",
    "\\theta= (X^TX)^{-1}  X^T  y; \n",
    "$$\n",
    "\n",
    "gdzie \n",
    "$$\n",
    "X = \n",
    "\\begin{bmatrix}\n",
    "1, x_1 \\\\\n",
    "1, x_2 \\\\\n",
    "\\vdots, \\vdots \\\\\n",
    "1, x_n \\\\\n",
    "\\end{bmatrix}\n",
    "$$\n",
    "\n",
    "Zwizualizuj wynik."
   ]
  },
  {
   "cell_type": "code",
   "execution_count": 78,
   "metadata": {
    "pycharm": {
     "name": "#%%\n"
    }
   },
   "outputs": [],
   "source": [
    "X_b = np.c_[np.ones((100, 1)), X]  # add x0 = 1 to each instance\n",
    "Xb_length = len(X_b)"
   ]
  },
  {
   "cell_type": "code",
   "execution_count": 79,
   "outputs": [
    {
     "data": {
      "text/plain": "array([[1.        , 1.75920299],\n       [1.        , 1.81408392],\n       [1.        , 1.98306555],\n       [1.        , 0.41663078],\n       [1.        , 0.71087867],\n       [1.        , 1.33843806],\n       [1.        , 0.96760508],\n       [1.        , 0.83677907],\n       [1.        , 0.7156225 ],\n       [1.        , 1.18756126],\n       [1.        , 1.15118686],\n       [1.        , 0.32291567],\n       [1.        , 0.94347968],\n       [1.        , 1.10694355],\n       [1.        , 1.14057388],\n       [1.        , 0.42021439],\n       [1.        , 1.48454278],\n       [1.        , 0.05039819],\n       [1.        , 0.70966371],\n       [1.        , 1.5604253 ],\n       [1.        , 1.12778584],\n       [1.        , 0.52232487],\n       [1.        , 1.38990624],\n       [1.        , 1.13478189],\n       [1.        , 1.59248722],\n       [1.        , 1.47005037],\n       [1.        , 1.22021584],\n       [1.        , 0.97635535],\n       [1.        , 0.26636425],\n       [1.        , 0.52266604],\n       [1.        , 0.83819895],\n       [1.        , 1.19859857],\n       [1.        , 1.02741571],\n       [1.        , 0.57636905],\n       [1.        , 0.01292872],\n       [1.        , 0.99247844],\n       [1.        , 0.57125198],\n       [1.        , 1.4692166 ],\n       [1.        , 0.04789253],\n       [1.        , 1.16965562],\n       [1.        , 1.88294848],\n       [1.        , 0.34881853],\n       [1.        , 0.94329898],\n       [1.        , 0.18284398],\n       [1.        , 1.25136382],\n       [1.        , 1.10106336],\n       [1.        , 0.81473105],\n       [1.        , 1.04275404],\n       [1.        , 1.79314932],\n       [1.        , 0.3925886 ],\n       [1.        , 0.04512902],\n       [1.        , 1.72332977],\n       [1.        , 1.15423416],\n       [1.        , 1.78131691],\n       [1.        , 1.19389045],\n       [1.        , 1.62032218],\n       [1.        , 0.85934673],\n       [1.        , 1.49971986],\n       [1.        , 1.82608293],\n       [1.        , 1.14424593],\n       [1.        , 0.3615703 ],\n       [1.        , 0.53759523],\n       [1.        , 0.39728915],\n       [1.        , 0.49371406],\n       [1.        , 0.6128309 ],\n       [1.        , 1.11026757],\n       [1.        , 1.17598326],\n       [1.        , 0.85299949],\n       [1.        , 1.23084156],\n       [1.        , 0.16314985],\n       [1.        , 0.17557647],\n       [1.        , 0.34365892],\n       [1.        , 1.036155  ],\n       [1.        , 0.42798936],\n       [1.        , 0.56656881],\n       [1.        , 0.80062567],\n       [1.        , 1.62373225],\n       [1.        , 0.02772427],\n       [1.        , 1.29875764],\n       [1.        , 1.33775306],\n       [1.        , 1.59731156],\n       [1.        , 1.86550588],\n       [1.        , 0.0402757 ],\n       [1.        , 0.30756741],\n       [1.        , 1.77234259],\n       [1.        , 0.91703712],\n       [1.        , 1.12918128],\n       [1.        , 1.32605441],\n       [1.        , 1.35813321],\n       [1.        , 1.86348081],\n       [1.        , 1.99389883],\n       [1.        , 1.44031492],\n       [1.        , 0.57444242],\n       [1.        , 1.7595048 ],\n       [1.        , 0.09844183],\n       [1.        , 0.46216171],\n       [1.        , 1.79477143],\n       [1.        , 0.51238303],\n       [1.        , 0.44130212],\n       [1.        , 0.27625059]])"
     },
     "execution_count": 79,
     "metadata": {},
     "output_type": "execute_result"
    }
   ],
   "source": [
    "X_b"
   ],
   "metadata": {
    "collapsed": false,
    "pycharm": {
     "name": "#%%\n"
    }
   }
  },
  {
   "cell_type": "code",
   "execution_count": 80,
   "outputs": [
    {
     "data": {
      "text/plain": "array([[3.91439158],\n       [3.17649356]])"
     },
     "execution_count": 80,
     "metadata": {},
     "output_type": "execute_result"
    }
   ],
   "source": [
    "theta_best = np.linalg.inv(X_b.T.dot(X_b)).dot(X_b.T).dot(y)\n",
    "\n",
    "theta_best"
   ],
   "metadata": {
    "collapsed": false,
    "pycharm": {
     "name": "#%%\n"
    }
   }
  },
  {
   "cell_type": "code",
   "execution_count": 81,
   "metadata": {
    "pycharm": {
     "name": "#%%\n"
    }
   },
   "outputs": [],
   "source": [
    "f = lambda x: theta_best[0] + x * theta_best[1]\n",
    "X_new = np.arange(np.min(X),np.max(X),0.01)\n",
    "y_predict = f(X_new)"
   ]
  },
  {
   "cell_type": "code",
   "execution_count": 82,
   "metadata": {
    "pycharm": {
     "name": "#%%\n"
    }
   },
   "outputs": [
    {
     "data": {
      "text/plain": "<Figure size 432x288 with 1 Axes>",
      "image/png": "[encoded data removed]"
     },
     "metadata": {
      "needs_background": "light"
     },
     "output_type": "display_data"
    }
   ],
   "source": [
    "plt.plot(X_new, y_predict, \"r-\")\n",
    "plt.plot(X, y, \"b.\")\n",
    "plt.axis([0, 2, 0, 15])\n",
    "plt.show()"
   ]
  },
  {
   "cell_type": "markdown",
   "metadata": {
    "pycharm": {
     "name": "#%% md\n"
    }
   },
   "source": [
    "# Zad.\n",
    "Prównaj z wynikiem funkcji:\n",
    "```python\n",
    "LinearRegression()\n",
    "```"
   ]
  },
  {
   "cell_type": "code",
   "execution_count": 83,
   "metadata": {
    "pycharm": {
     "name": "#%%\n"
    }
   },
   "outputs": [
    {
     "data": {
      "text/plain": "array([[3.17649356]])"
     },
     "execution_count": 83,
     "metadata": {},
     "output_type": "execute_result"
    }
   ],
   "source": [
    "from sklearn.linear_model import LinearRegression\n",
    "reg = LinearRegression().fit(X,y)\n",
    "reg.coef_\n"
   ]
  },
  {
   "cell_type": "markdown",
   "metadata": {
    "pycharm": {
     "name": "#%% md\n"
    }
   },
   "source": [
    "# Zad.\n",
    "Wykonaj algorytm minimalizacji gradientowej (w prostej petli).\n",
    "Wykorzystaj pochodną.\n",
    "\n",
    "Funkcja kosztu regresji:\n",
    "$$\n",
    "MSE(X;\\theta) = \\frac{1}{m} \\sum ( \\theta^T x_i - y_i  )^2.\n",
    "$$\n",
    "\n",
    "Pochodna funkcja kosztu regresji:\n",
    "\n",
    "$$\n",
    "\\frac{\\partial}{\\partial \\theta_j}MSE(X;\\theta) = \\frac{2}{m} \\sum ( \\theta^T x_i - y_i  )^2 x_i^{j}.\n",
    "$$\n",
    "\n",
    "Czyli gradient wynosi:\n",
    "\n",
    "$$\n",
    "\\nabla_{\\theta}MSE(X;\\theta) = \n",
    "\\begin{bmatrix}\n",
    "    \\frac{\\partial}{\\partial \\theta_0}MSE\\\\\n",
    "    \\frac{\\partial}{\\partial \\theta_1}MSE\\\\\n",
    "    \\vdots \\\\\n",
    "    \\frac{\\partial}{\\partial \\theta_d}MSE\n",
    "\\end{bmatrix}\n",
    "=\n",
    "\\frac{2}{m} X^T(\\theta^TX - Y  ).\n",
    "$$\n",
    "\n",
    "Metoda gradientowa\n",
    "\n",
    "$$\n",
    "\\theta^{\\small \\mbox{Nex step}} = \\theta - \\eta \\nabla_{\\theta} MSE\n",
    "$$\n",
    "\n",
    "### Zapisz wszystkie $\\theta$ w liście "
   ]
  },
  {
   "cell_type": "code",
   "execution_count": 84,
   "metadata": {
    "pycharm": {
     "name": "#%%\n"
    }
   },
   "outputs": [],
   "source": [
    "eta = 0.1  # learning rate\n",
    "n_iterations = 1000\n",
    "m = 100\n",
    "theta_path_bgd = []\n",
    "\n",
    "theta_0 = np.random.randn(2,1)  # random initialization\n",
    "\n",
    "theta = theta_0\n"
   ]
  },
  {
   "cell_type": "code",
   "execution_count": 85,
   "metadata": {
    "pycharm": {
     "name": "#%%\n"
    }
   },
   "outputs": [
    {
     "data": {
      "text/plain": "array([[3.91439158],\n       [3.17649356]])"
     },
     "execution_count": 85,
     "metadata": {},
     "output_type": "execute_result"
    }
   ],
   "source": [
    "theta_path_bgd.append(np.copy(theta))\n",
    "for _ in range(n_iterations):\n",
    "    grad = 2 / m * X_b.T.dot(X_b.dot(theta) - y)\n",
    "    theta -= eta * grad\n",
    "    theta_path_bgd.append(np.copy(theta))\n",
    "theta"
   ]
  },
  {
   "cell_type": "markdown",
   "metadata": {
    "pycharm": {
     "name": "#%% md\n"
    }
   },
   "source": [
    "# Zad\n",
    "Zaimplemrntu Stochastic Gradient Descent.\n",
    "\n",
    "### Zapisz wszystkie $\\theta$ w liście "
   ]
  },
  {
   "cell_type": "code",
   "execution_count": 86,
   "metadata": {
    "pycharm": {
     "name": "#%%\n"
    }
   },
   "outputs": [],
   "source": [
    "theta_path_sgd = []\n",
    "m = len(X_b)\n",
    "np.random.seed(42)"
   ]
  },
  {
   "cell_type": "code",
   "execution_count": 87,
   "metadata": {
    "pycharm": {
     "name": "#%%\n"
    }
   },
   "outputs": [
    {
     "data": {
      "text/plain": "array([0.22469291])"
     },
     "execution_count": 87,
     "metadata": {},
     "output_type": "execute_result"
    }
   ],
   "source": [
    "eta = 0.1  # learning rate\n",
    "n_iterations = 1000\n",
    "m = 100\n",
    "\n",
    "theta = np.copy(theta_0)\n",
    "theta.T.dot(X_b[0])-y[0]"
   ]
  },
  {
   "cell_type": "code",
   "execution_count": 88,
   "metadata": {
    "pycharm": {
     "name": "#%%\n"
    }
   },
   "outputs": [
    {
     "data": {
      "text/plain": "array([[3.90098019],\n       [3.16308217]])"
     },
     "execution_count": 88,
     "metadata": {},
     "output_type": "execute_result"
    }
   ],
   "source": [
    "theta_path_sgd.append(np.copy(theta))\n",
    "for _ in range(n_iterations):\n",
    "    rand_index = np.random.randint(0,Xb_length-1)\n",
    "    grad = 2 / m * X_b[rand_index][0]*(theta.T.dot(X_b[rand_index]) - y[rand_index])\n",
    "    theta -= eta * grad\n",
    "    theta_path_sgd.append(np.copy(theta))\n",
    "theta"
   ]
  },
  {
   "cell_type": "markdown",
   "metadata": {
    "pycharm": {
     "name": "#%% md\n"
    }
   },
   "source": [
    "# Zad\n",
    "Zaimplemrntu Mini-batch gradient descent\n",
    "\n",
    "### Zapisz wszystkie $\\theta$ w liście "
   ]
  },
  {
   "cell_type": "code",
   "execution_count": 89,
   "metadata": {
    "pycharm": {
     "name": "#%%\n"
    }
   },
   "outputs": [],
   "source": [
    "theta_path_mgd = []\n",
    "\n",
    "n_iterations = 50\n",
    "minibatch_size = 20\n",
    "\n",
    "theta = np.copy(theta_0)"
   ]
  },
  {
   "cell_type": "code",
   "execution_count": 90,
   "metadata": {
    "pycharm": {
     "name": "#%%\n"
    }
   },
   "outputs": [
    {
     "data": {
      "text/plain": "array([[3.90463161],\n       [3.15813259]])"
     },
     "execution_count": 90,
     "metadata": {},
     "output_type": "execute_result"
    }
   ],
   "source": [
    "theta_path_mgd.append(np.copy(theta))\n",
    "number_of_rows = X_b.shape[0]\n",
    "for _ in range(n_iterations):\n",
    "    random_indices = np.random.choice(number_of_rows, size=minibatch_size, replace=False)\n",
    "    X_b_batch = X_b[random_indices,:]\n",
    "    grad = 2 / m * X_b_batch.T.dot(X_b_batch.dot(theta) - y[random_indices])\n",
    "    theta -= eta * grad\n",
    "    theta_path_mgd.append(np.copy(theta))\n",
    "        # grad = 2 / m * X_b.T.dot(X_b.dot(theta) - y)\n",
    "theta"
   ]
  },
  {
   "cell_type": "markdown",
   "metadata": {
    "pycharm": {
     "name": "#%% md\n"
    }
   },
   "source": [
    "# Zad\n",
    "Narysuj jak zmieniały parametr w różnych metodach."
   ]
  },
  {
   "cell_type": "code",
   "execution_count": 91,
   "metadata": {
    "pycharm": {
     "name": "#%%\n"
    }
   },
   "outputs": [],
   "source": [
    "theta_path_bgd = np.array(theta_path_bgd)\n",
    "theta_path_sgd = np.array(theta_path_sgd)\n",
    "theta_path_mgd = np.array(theta_path_mgd)"
   ]
  },
  {
   "cell_type": "code",
   "execution_count": 96,
   "metadata": {
    "pycharm": {
     "name": "#%%\n"
    }
   },
   "outputs": [
    {
     "data": {
      "text/plain": "<Figure size 432x288 with 1 Axes>",
      "image/png": "[encoded data removed]"
     },
     "metadata": {
      "needs_background": "light"
     },
     "output_type": "display_data"
    }
   ],
   "source": [
    "plt.xlim([3.8,4.0])\n",
    "plt.ylim([3,3.5])\n",
    "plt.plot(theta_path_bgd[:,0,0],theta_path_bgd[:,1,0],'b.',label='gradient')\n",
    "plt.plot(theta_path_sgd[:,0,0],theta_path_sgd[:,1,0],'g.',label='stochastic')\n",
    "plt.plot(theta_path_mgd[:,0,0],theta_path_mgd[:,1,0],'r.',label='minibatch')\n",
    "plt.legend()\n",
    "plt.show()"
   ]
  },
  {
   "cell_type": "code",
   "execution_count": 92,
   "metadata": {
    "pycharm": {
     "name": "#%%\n"
    }
   },
   "outputs": [],
   "source": []
  }
 ],
 "metadata": {
  "kernelspec": {
   "display_name": "Python 3",
   "language": "python",
   "name": "python3"
  },
  "language_info": {
   "codemirror_mode": {
    "name": "ipython",
    "version": 3
   },
   "file_extension": ".py",
   "mimetype": "text/x-python",
   "name": "python",
   "nbconvert_exporter": "python",
   "pygments_lexer": "ipython3",
   "version": "3.7.3"
  }
 },
 "nbformat": 4,
 "nbformat_minor": 4
}