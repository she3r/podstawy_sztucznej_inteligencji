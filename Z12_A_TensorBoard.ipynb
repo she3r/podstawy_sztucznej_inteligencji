{
 "cells": [
  {
   "cell_type": "code",
   "execution_count": 1,
   "metadata": {
    "pycharm": {
     "name": "#%%\n"
    }
   },
   "outputs": [
    {
     "name": "stdout",
     "output_type": "stream",
     "text": [
      "2.9.1\n",
      "2.9.0\n"
     ]
    }
   ],
   "source": [
    "import tensorflow as tf\n",
    "from tensorflow import keras\n",
    "print(tf.__version__)\n",
    "\n",
    "print(keras.__version__)"
   ]
  },
  {
   "cell_type": "code",
   "execution_count": 15,
   "metadata": {
    "pycharm": {
     "name": "#%%\n"
    }
   },
   "outputs": [],
   "source": [
    "import numpy as np\n",
    "import pandas as pd\n",
    "import matplotlib.pyplot as plt\n",
    "import os"
   ]
  },
  {
   "cell_type": "code",
   "execution_count": 16,
   "metadata": {
    "pycharm": {
     "name": "#%%\n"
    }
   },
   "outputs": [
    {
     "name": "stderr",
     "output_type": "stream",
     "text": [
      "C:\\Users\\sch03\\AppData\\Local\\Temp/ipykernel_14628/1283179213.py:6: ParserWarning: Falling back to the 'python' engine because the 'c' engine does not support regex separators (separators > 1 char and different from '\\s+' are interpreted as regex); you can avoid this warning by specifying engine='python'.\n",
      "  train_set = pd.read_csv('Dane/adult/adult.data', sep=\", \",header = None)\n",
      "C:\\Users\\sch03\\AppData\\Local\\Temp/ipykernel_14628/1283179213.py:7: ParserWarning: Falling back to the 'python' engine because the 'c' engine does not support regex separators (separators > 1 char and different from '\\s+' are interpreted as regex); you can avoid this warning by specifying engine='python'.\n",
      "  test_set = pd.read_csv('Dane/adult/adult.test', sep=\", \",skiprows = 1, header = None) # Make sure to skip a row for the test set\n"
     ]
    },
    {
     "data": {
      "text/plain": "   age         workclass  fnlwgt  education  education_num  \\\n0   39         State-gov   77516  Bachelors             13   \n1   50  Self-emp-not-inc   83311  Bachelors             13   \n2   38           Private  215646    HS-grad              9   \n3   53           Private  234721       11th              7   \n4   28           Private  338409  Bachelors             13   \n\n       marital_status         occupation   relationship   race     sex  \\\n0       Never-married       Adm-clerical  Not-in-family  White    Male   \n1  Married-civ-spouse    Exec-managerial        Husband  White    Male   \n2            Divorced  Handlers-cleaners  Not-in-family  White    Male   \n3  Married-civ-spouse  Handlers-cleaners        Husband  Black    Male   \n4  Married-civ-spouse     Prof-specialty           Wife  Black  Female   \n\n   capital_gain  capital_loss  hours_per_week native_country wage_class  \n0          2174             0              40  United-States      <=50K  \n1             0             0              13  United-States      <=50K  \n2             0             0              40  United-States      <=50K  \n3             0             0              40  United-States      <=50K  \n4             0             0              40           Cuba      <=50K  ",
      "text/html": "<div>\n<style scoped>\n    .dataframe tbody tr th:only-of-type {\n        vertical-align: middle;\n    }\n\n    .dataframe tbody tr th {\n        vertical-align: top;\n    }\n\n    .dataframe thead th {\n        text-align: right;\n    }\n</style>\n<table border=\"1\" class=\"dataframe\">\n  <thead>\n    <tr style=\"text-align: right;\">\n      <th></th>\n      <th>age</th>\n      <th>workclass</th>\n      <th>fnlwgt</th>\n      <th>education</th>\n      <th>education_num</th>\n      <th>marital_status</th>\n      <th>occupation</th>\n      <th>relationship</th>\n      <th>race</th>\n      <th>sex</th>\n      <th>capital_gain</th>\n      <th>capital_loss</th>\n      <th>hours_per_week</th>\n      <th>native_country</th>\n      <th>wage_class</th>\n    </tr>\n  </thead>\n  <tbody>\n    <tr>\n      <th>0</th>\n      <td>39</td>\n      <td>State-gov</td>\n      <td>77516</td>\n      <td>Bachelors</td>\n      <td>13</td>\n      <td>Never-married</td>\n      <td>Adm-clerical</td>\n      <td>Not-in-family</td>\n      <td>White</td>\n      <td>Male</td>\n      <td>2174</td>\n      <td>0</td>\n      <td>40</td>\n      <td>United-States</td>\n      <td>&lt;=50K</td>\n    </tr>\n    <tr>\n      <th>1</th>\n      <td>50</td>\n      <td>Self-emp-not-inc</td>\n      <td>83311</td>\n      <td>Bachelors</td>\n      <td>13</td>\n      <td>Married-civ-spouse</td>\n      <td>Exec-managerial</td>\n      <td>Husband</td>\n      <td>White</td>\n      <td>Male</td>\n      <td>0</td>\n      <td>0</td>\n      <td>13</td>\n      <td>United-States</td>\n      <td>&lt;=50K</td>\n    </tr>\n    <tr>\n      <th>2</th>\n      <td>38</td>\n      <td>Private</td>\n      <td>215646</td>\n      <td>HS-grad</td>\n      <td>9</td>\n      <td>Divorced</td>\n      <td>Handlers-cleaners</td>\n      <td>Not-in-family</td>\n      <td>White</td>\n      <td>Male</td>\n      <td>0</td>\n      <td>0</td>\n      <td>40</td>\n      <td>United-States</td>\n      <td>&lt;=50K</td>\n    </tr>\n    <tr>\n      <th>3</th>\n      <td>53</td>\n      <td>Private</td>\n      <td>234721</td>\n      <td>11th</td>\n      <td>7</td>\n      <td>Married-civ-spouse</td>\n      <td>Handlers-cleaners</td>\n      <td>Husband</td>\n      <td>Black</td>\n      <td>Male</td>\n      <td>0</td>\n      <td>0</td>\n      <td>40</td>\n      <td>United-States</td>\n      <td>&lt;=50K</td>\n    </tr>\n    <tr>\n      <th>4</th>\n      <td>28</td>\n      <td>Private</td>\n      <td>338409</td>\n      <td>Bachelors</td>\n      <td>13</td>\n      <td>Married-civ-spouse</td>\n      <td>Prof-specialty</td>\n      <td>Wife</td>\n      <td>Black</td>\n      <td>Female</td>\n      <td>0</td>\n      <td>0</td>\n      <td>40</td>\n      <td>Cuba</td>\n      <td>&lt;=50K</td>\n    </tr>\n  </tbody>\n</table>\n</div>"
     },
     "execution_count": 16,
     "metadata": {},
     "output_type": "execute_result"
    }
   ],
   "source": [
    "# Wczytaj dane treningowe i testowe\n",
    "import numpy as np\n",
    "import matplotlib.pyplot as plt\n",
    "import pandas as pd\n",
    "\n",
    "train_set = pd.read_csv('Dane/adult/adult.data', sep=\", \",header = None)\n",
    "test_set = pd.read_csv('Dane/adult/adult.test', sep=\", \",skiprows = 1, header = None) # Make sure to skip a row for the test set\n",
    "\n",
    "col_labels = ['age', 'workclass', 'fnlwgt', 'education', 'education_num', 'marital_status', 'occupation', \n",
    "              'relationship', 'race', 'sex', 'capital_gain', 'capital_loss', 'hours_per_week', 'native_country',\n",
    "             'wage_class']\n",
    "train_set.columns = col_labels\n",
    "test_set.columns = col_labels\n",
    "\n",
    "train = train_set.replace('?', np.nan).dropna()\n",
    "test = test_set.replace('?', np.nan).dropna()\n",
    "\n",
    "train_set.head()\n"
   ]
  },
  {
   "cell_type": "markdown",
   "metadata": {
    "pycharm": {
     "name": "#%% md\n"
    }
   },
   "source": [
    "# Zad.\n",
    "Zróbmy szybki preprocesing"
   ]
  },
  {
   "cell_type": "code",
   "execution_count": 17,
   "metadata": {
    "pycharm": {
     "name": "#%%\n"
    }
   },
   "outputs": [],
   "source": [
    "dataset = pd.concat([train,test])\n",
    "\n",
    "dataset['wage_class'] = dataset.wage_class.replace({'<=50K.': 0,'<=50K':0, '>50K.':1, '>50K':1})\n",
    "\n",
    "dataset.drop([\"fnlwgt\"],axis=1,inplace=True)\n",
    "\n",
    "dataset.drop([\"education\"],axis=1,inplace=True)\n",
    "\n",
    "x = dataset.groupby('native_country')[\"wage_class\"].mean()\n",
    "\n",
    "d = dict(pd.cut(x[x.index!=\" United-States\"],5,labels=range(5)))\n",
    "\n",
    "dataset['native_country'] = dataset['native_country'].replace(d)\n",
    "\n",
    "dataset = pd.get_dummies(dataset,drop_first=True)\n",
    "\n",
    "train = dataset.iloc[:train.shape[0]]\n",
    "test = dataset.iloc[train.shape[0]:]\n",
    "\n",
    "X_train = train.drop(\"wage_class\",axis=1)\n",
    "y_train = train.wage_class\n",
    "\n",
    "X_test = test.drop(\"wage_class\",axis=1)\n",
    "y_test = test.wage_class\n"
   ]
  },
  {
   "cell_type": "markdown",
   "metadata": {
    "pycharm": {
     "name": "#%% md\n"
    }
   },
   "source": [
    "# TensorBoard"
   ]
  },
  {
   "cell_type": "code",
   "execution_count": 18,
   "metadata": {
    "pycharm": {
     "name": "#%%\n"
    }
   },
   "outputs": [],
   "source": [
    "root_logdir = os.path.join(os.curdir, \"my_logs\")"
   ]
  },
  {
   "cell_type": "code",
   "execution_count": 19,
   "metadata": {
    "pycharm": {
     "name": "#%%\n"
    }
   },
   "outputs": [
    {
     "data": {
      "text/plain": "'.\\\\my_logs\\\\run_2022_05_24-19_14_00'"
     },
     "execution_count": 19,
     "metadata": {},
     "output_type": "execute_result"
    }
   ],
   "source": [
    "def get_run_logdir():\n",
    "    import time\n",
    "    run_id = time.strftime(\"run_%Y_%m_%d-%H_%M_%S\")\n",
    "    return os.path.join(root_logdir, run_id)\n",
    "\n",
    "run_logdir = get_run_logdir()\n",
    "run_logdir"
   ]
  },
  {
   "cell_type": "code",
   "execution_count": 20,
   "metadata": {
    "pycharm": {
     "name": "#%%\n"
    }
   },
   "outputs": [],
   "source": [
    "keras.backend.clear_session()\n",
    "np.random.seed(42)\n",
    "tf.random.set_seed(42)"
   ]
  },
  {
   "cell_type": "code",
   "execution_count": 21,
   "outputs": [],
   "source": [
    "keras.backend.clear_session()\n",
    "np.random.seed(42)\n",
    "tf.random.set_seed(42)"
   ],
   "metadata": {
    "collapsed": false,
    "pycharm": {
     "name": "#%%\n"
    }
   }
  },
  {
   "cell_type": "code",
   "execution_count": 22,
   "outputs": [
    {
     "name": "stdout",
     "output_type": "stream",
     "text": [
      "Model: \"sequential\"\n",
      "_________________________________________________________________\n",
      " Layer (type)                Output Shape              Param #   \n",
      "=================================================================\n",
      " dense (Dense)               (None, 100)               4200      \n",
      "                                                                 \n",
      " dense_1 (Dense)             (None, 50)                5050      \n",
      "                                                                 \n",
      " dense_2 (Dense)             (None, 10)                510       \n",
      "                                                                 \n",
      " dense_3 (Dense)             (None, 1)                 11        \n",
      "                                                                 \n",
      "=================================================================\n",
      "Total params: 9,771\n",
      "Trainable params: 9,771\n",
      "Non-trainable params: 0\n",
      "_________________________________________________________________\n"
     ]
    }
   ],
   "source": [
    "from keras.models import Sequential\n",
    "from keras.layers import Dense\n",
    "\n",
    "from keras.callbacks import History\n",
    "\n",
    "history = History()\n",
    "model = Sequential()\n",
    "model.add(Dense(100,activation=\"sigmoid\",input_shape=(X_train.shape[1],)))\n",
    "model.add(Dense(50,activation=\"sigmoid\"))\n",
    "model.add(Dense(10,activation=\"sigmoid\"))\n",
    "model.add(Dense(1,activation=\"sigmoid\"))\n",
    "model.summary()"
   ],
   "metadata": {
    "collapsed": false,
    "pycharm": {
     "name": "#%%\n"
    }
   }
  },
  {
   "cell_type": "code",
   "execution_count": 23,
   "outputs": [],
   "source": [
    "model.compile(loss=\"binary_crossentropy\",optimizer=\"Adam\", metrics=[\"accuracy\"])"
   ],
   "metadata": {
    "collapsed": false,
    "pycharm": {
     "name": "#%%\n"
    }
   }
  },
  {
   "cell_type": "code",
   "execution_count": 24,
   "outputs": [
    {
     "name": "stdout",
     "output_type": "stream",
     "text": [
      "The tensorboard extension is already loaded. To reload it, use:\n",
      "  %reload_ext tensorboard\n"
     ]
    },
    {
     "data": {
      "text/plain": "Launching TensorBoard..."
     },
     "metadata": {},
     "output_type": "display_data"
    },
    {
     "data": {
      "text/plain": "<IPython.core.display.HTML object>",
      "text/html": "\n      <iframe id=\"tensorboard-frame-c3be9fb16a04406d\" width=\"100%\" height=\"800\" frameborder=\"0\">\n      </iframe>\n      <script>\n        (function() {\n          const frame = document.getElementById(\"tensorboard-frame-c3be9fb16a04406d\");\n          const url = new URL(\"/\", window.location);\n          const port = 6006;\n          if (port) {\n            url.port = port;\n          }\n          frame.src = url;\n        })();\n      </script>\n    "
     },
     "metadata": {},
     "output_type": "display_data"
    },
    {
     "name": "stdout",
     "output_type": "stream",
     "text": [
      "Epoch 1/30\n",
      "943/943 [==============================] - 3s 3ms/step - loss: 0.4660 - accuracy: 0.7814 - val_loss: 0.4069 - val_accuracy: 0.8030\n",
      "Epoch 2/30\n",
      "943/943 [==============================] - 2s 3ms/step - loss: 0.3838 - accuracy: 0.8114 - val_loss: 0.3758 - val_accuracy: 0.8109\n",
      "Epoch 3/30\n",
      "943/943 [==============================] - 2s 2ms/step - loss: 0.3786 - accuracy: 0.8112 - val_loss: 0.3741 - val_accuracy: 0.8150\n",
      "Epoch 4/30\n",
      "943/943 [==============================] - 2s 3ms/step - loss: 0.3755 - accuracy: 0.8126 - val_loss: 0.4011 - val_accuracy: 0.8057\n",
      "Epoch 5/30\n",
      "943/943 [==============================] - 2s 2ms/step - loss: 0.3743 - accuracy: 0.8128 - val_loss: 0.3697 - val_accuracy: 0.8137\n",
      "Epoch 6/30\n",
      "943/943 [==============================] - 2s 2ms/step - loss: 0.3736 - accuracy: 0.8109 - val_loss: 0.3752 - val_accuracy: 0.8054\n",
      "Epoch 7/30\n",
      "943/943 [==============================] - 2s 2ms/step - loss: 0.3712 - accuracy: 0.8153 - val_loss: 0.3677 - val_accuracy: 0.8188\n",
      "Epoch 8/30\n",
      "943/943 [==============================] - 2s 2ms/step - loss: 0.3713 - accuracy: 0.8145 - val_loss: 0.3711 - val_accuracy: 0.8108\n",
      "Epoch 9/30\n",
      "943/943 [==============================] - 2s 2ms/step - loss: 0.3690 - accuracy: 0.8140 - val_loss: 0.3768 - val_accuracy: 0.8110\n",
      "Epoch 10/30\n",
      "943/943 [==============================] - 2s 2ms/step - loss: 0.3692 - accuracy: 0.8151 - val_loss: 0.3683 - val_accuracy: 0.8118\n",
      "Epoch 11/30\n",
      "943/943 [==============================] - 2s 3ms/step - loss: 0.3686 - accuracy: 0.8151 - val_loss: 0.3678 - val_accuracy: 0.8126\n",
      "Epoch 12/30\n",
      "943/943 [==============================] - 3s 3ms/step - loss: 0.3702 - accuracy: 0.8123 - val_loss: 0.3653 - val_accuracy: 0.8139\n",
      "Epoch 13/30\n",
      "943/943 [==============================] - 3s 3ms/step - loss: 0.3712 - accuracy: 0.8133 - val_loss: 0.3654 - val_accuracy: 0.8153\n",
      "Epoch 14/30\n",
      "943/943 [==============================] - 3s 3ms/step - loss: 0.3661 - accuracy: 0.8167 - val_loss: 0.3641 - val_accuracy: 0.8155\n",
      "Epoch 15/30\n",
      "943/943 [==============================] - 3s 3ms/step - loss: 0.3671 - accuracy: 0.8154 - val_loss: 0.3717 - val_accuracy: 0.8085\n",
      "Epoch 16/30\n",
      "943/943 [==============================] - 3s 3ms/step - loss: 0.3675 - accuracy: 0.8139 - val_loss: 0.3644 - val_accuracy: 0.8163\n",
      "Epoch 17/30\n",
      "943/943 [==============================] - 2s 3ms/step - loss: 0.3659 - accuracy: 0.8174 - val_loss: 0.3627 - val_accuracy: 0.8177\n",
      "Epoch 18/30\n",
      "943/943 [==============================] - 3s 3ms/step - loss: 0.3649 - accuracy: 0.8157 - val_loss: 0.3786 - val_accuracy: 0.8044\n",
      "Epoch 19/30\n",
      "943/943 [==============================] - 3s 3ms/step - loss: 0.3648 - accuracy: 0.8165 - val_loss: 0.3639 - val_accuracy: 0.8183\n",
      "Epoch 20/30\n",
      "943/943 [==============================] - 3s 3ms/step - loss: 0.3670 - accuracy: 0.8152 - val_loss: 0.3648 - val_accuracy: 0.8161\n",
      "Epoch 21/30\n",
      "943/943 [==============================] - 2s 3ms/step - loss: 0.3677 - accuracy: 0.8156 - val_loss: 0.3645 - val_accuracy: 0.8156\n",
      "Epoch 22/30\n",
      "943/943 [==============================] - 2s 3ms/step - loss: 0.3677 - accuracy: 0.8141 - val_loss: 0.3650 - val_accuracy: 0.8189\n",
      "Epoch 23/30\n",
      "943/943 [==============================] - 3s 3ms/step - loss: 0.3653 - accuracy: 0.8161 - val_loss: 0.3637 - val_accuracy: 0.8143\n",
      "Epoch 24/30\n",
      "943/943 [==============================] - 3s 3ms/step - loss: 0.3661 - accuracy: 0.8167 - val_loss: 0.3656 - val_accuracy: 0.8187\n",
      "Epoch 25/30\n",
      "943/943 [==============================] - 3s 3ms/step - loss: 0.3691 - accuracy: 0.8135 - val_loss: 0.3651 - val_accuracy: 0.8152\n",
      "Epoch 26/30\n",
      "943/943 [==============================] - 2s 3ms/step - loss: 0.3681 - accuracy: 0.8135 - val_loss: 0.3663 - val_accuracy: 0.8179\n",
      "Epoch 27/30\n",
      "943/943 [==============================] - 3s 3ms/step - loss: 0.3659 - accuracy: 0.8170 - val_loss: 0.3744 - val_accuracy: 0.8112\n",
      "Epoch 28/30\n",
      "943/943 [==============================] - 3s 3ms/step - loss: 0.3654 - accuracy: 0.8133 - val_loss: 0.3664 - val_accuracy: 0.8161\n",
      "Epoch 29/30\n",
      "943/943 [==============================] - 3s 3ms/step - loss: 0.3636 - accuracy: 0.8157 - val_loss: 0.3663 - val_accuracy: 0.8178\n",
      "Epoch 30/30\n",
      "943/943 [==============================] - 3s 3ms/step - loss: 0.3648 - accuracy: 0.8153 - val_loss: 0.3636 - val_accuracy: 0.8163\n"
     ]
    }
   ],
   "source": [
    "from keras.callbacks import TensorBoard \n",
    "%load_ext tensorboard\n",
    "%tensorboard --logdir=./my_logs --port=6006\n",
    "tensorboard_cb = TensorBoard(run_logdir)\n",
    "history = model.fit(X_train, y_train, epochs=30, validation_data=(X_test, y_test), callbacks=[tensorboard_cb])"
   ],
   "metadata": {
    "collapsed": false,
    "pycharm": {
     "name": "#%%\n"
    }
   }
  },
  {
   "cell_type": "markdown",
   "source": [
    "o start the TensorBoard server, one option is to open a terminal, if needed activate the virtualenv where you installed TensorBoard, go to this notebook's directory, then type:\n",
    "\n",
    "```python\n",
    "$ tensorboard --logdir=./my_logs --port=6006\n",
    "```\n",
    "\n",
    "You can then open your web browser to localhost:6006 and use TensorBoard. Once you are done, press Ctrl-C in the terminal window, this will shutdown the TensorBoard server.\n",
    "\n",
    "Alternatively, you can load TensorBoard's Jupyter extension and run it like this:\n",
    "\n",
    "```python\n",
    "%load_ext tensorboard\n",
    "%tensorboard --logdir=./my_logs --port=6006\n",
    "```"
   ],
   "metadata": {
    "collapsed": false,
    "pycharm": {
     "name": "#%% md\n"
    }
   }
  },
  {
   "cell_type": "markdown",
   "source": [
    "Gdyby nie działał tensorboard\n",
    "\n",
    "https://github.com/pytorch/pytorch/issues/22676\n",
    "```python\n",
    "pip uninstall tb-nightly tensorboardX tensorboard\n",
    "pip install tensorboard\n",
    "```"
   ],
   "metadata": {
    "collapsed": false,
    "pycharm": {
     "name": "#%% md\n"
    }
   }
  },
  {
   "cell_type": "markdown",
   "source": [
    "# Zad\n",
    "\n",
    "* Naucz dowolny model na zbiorze MNIST.\n",
    "* Wyświetl krzywe uczenia w tensorboard"
   ],
   "metadata": {
    "collapsed": false,
    "pycharm": {
     "name": "#%% md\n"
    }
   }
  },
  {
   "cell_type": "code",
   "execution_count": 25,
   "outputs": [
    {
     "name": "stdout",
     "output_type": "stream",
     "text": [
      "[[0. 0. 0. ... 1. 0. 0.]\n",
      " [0. 0. 0. ... 0. 0. 0.]\n",
      " [0. 0. 0. ... 0. 0. 0.]\n",
      " ...\n",
      " [0. 0. 0. ... 0. 0. 0.]\n",
      " [0. 0. 0. ... 0. 0. 0.]\n",
      " [0. 0. 0. ... 0. 1. 0.]]\n"
     ]
    }
   ],
   "source": [
    "(X_train_full, y_train_full), (X_test, y_test) = keras.datasets.mnist.load_data()\n",
    "\n",
    "X_valid, X_train = X_train_full[:5000] / 255., X_train_full[5000:] / 255.\n",
    "y_valid, y_train = y_train_full[:5000], y_train_full[5000:]\n",
    "X_test = X_test / 255.\n",
    "\n",
    "\n",
    "from keras.utils import np_utils\n",
    "# one hot encode outputs\n",
    "y_train = np_utils.to_categorical(y_train)\n",
    "y_test = np_utils.to_categorical(y_test)\n",
    "\n",
    "y_valid = np_utils.to_categorical(y_valid)\n",
    "\n",
    "print(y_train)"
   ],
   "metadata": {
    "collapsed": false,
    "pycharm": {
     "name": "#%%\n"
    }
   }
  },
  {
   "cell_type": "code",
   "execution_count": 26,
   "outputs": [
    {
     "name": "stdout",
     "output_type": "stream",
     "text": [
      "Model: \"sequential\"\n",
      "_________________________________________________________________\n",
      " Layer (type)                Output Shape              Param #   \n",
      "=================================================================\n",
      " flatten (Flatten)           (None, 784)               0         \n",
      "                                                                 \n",
      " dense (Dense)               (None, 300)               235500    \n",
      "                                                                 \n",
      " dense_1 (Dense)             (None, 100)               30100     \n",
      "                                                                 \n",
      " dense_2 (Dense)             (None, 10)                1010      \n",
      "                                                                 \n",
      "=================================================================\n",
      "Total params: 266,610\n",
      "Trainable params: 266,610\n",
      "Non-trainable params: 0\n",
      "_________________________________________________________________\n",
      "Epoch 1/100\n",
      "612/612 [==============================] - 3s 4ms/step - loss: 2.2759 - accuracy: 0.2070 - val_loss: 2.2227 - val_accuracy: 0.2779\n",
      "Epoch 2/100\n",
      "612/612 [==============================] - 2s 4ms/step - loss: 2.1698 - accuracy: 0.4292 - val_loss: 2.1030 - val_accuracy: 0.4397\n",
      "Epoch 3/100\n",
      "612/612 [==============================] - 2s 4ms/step - loss: 2.0204 - accuracy: 0.5556 - val_loss: 1.9108 - val_accuracy: 0.5961\n",
      "Epoch 4/100\n",
      "612/612 [==============================] - 2s 4ms/step - loss: 1.7891 - accuracy: 0.6299 - val_loss: 1.6358 - val_accuracy: 0.6532\n",
      "Epoch 5/100\n",
      "612/612 [==============================] - 2s 4ms/step - loss: 1.5059 - accuracy: 0.6819 - val_loss: 1.3529 - val_accuracy: 0.7227\n",
      "Epoch 6/100\n",
      "612/612 [==============================] - 2s 4ms/step - loss: 1.2511 - accuracy: 0.7273 - val_loss: 1.1290 - val_accuracy: 0.7463\n",
      "Epoch 7/100\n",
      "612/612 [==============================] - 2s 4ms/step - loss: 1.0616 - accuracy: 0.7581 - val_loss: 0.9697 - val_accuracy: 0.7797\n",
      "Epoch 8/100\n",
      "612/612 [==============================] - 2s 4ms/step - loss: 0.9255 - accuracy: 0.7853 - val_loss: 0.8554 - val_accuracy: 0.7978\n",
      "Epoch 9/100\n",
      "612/612 [==============================] - 3s 4ms/step - loss: 0.8242 - accuracy: 0.8042 - val_loss: 0.7669 - val_accuracy: 0.8203\n",
      "Epoch 10/100\n",
      "612/612 [==============================] - 2s 3ms/step - loss: 0.7456 - accuracy: 0.8213 - val_loss: 0.6961 - val_accuracy: 0.8343\n",
      "Epoch 11/100\n",
      "612/612 [==============================] - 2s 4ms/step - loss: 0.6830 - accuracy: 0.8334 - val_loss: 0.6400 - val_accuracy: 0.8439\n",
      "Epoch 12/100\n",
      "612/612 [==============================] - 2s 4ms/step - loss: 0.6326 - accuracy: 0.8431 - val_loss: 0.5935 - val_accuracy: 0.8543\n",
      "Epoch 13/100\n",
      "612/612 [==============================] - 2s 4ms/step - loss: 0.5914 - accuracy: 0.8512 - val_loss: 0.5560 - val_accuracy: 0.8607\n",
      "Epoch 14/100\n",
      "612/612 [==============================] - 2s 4ms/step - loss: 0.5573 - accuracy: 0.8585 - val_loss: 0.5264 - val_accuracy: 0.8683\n",
      "Epoch 15/100\n",
      "612/612 [==============================] - 3s 5ms/step - loss: 0.5289 - accuracy: 0.8644 - val_loss: 0.4997 - val_accuracy: 0.8703\n",
      "Epoch 16/100\n",
      "612/612 [==============================] - 2s 4ms/step - loss: 0.5049 - accuracy: 0.8694 - val_loss: 0.4775 - val_accuracy: 0.8749\n",
      "Epoch 17/100\n",
      "612/612 [==============================] - 2s 3ms/step - loss: 0.4847 - accuracy: 0.8736 - val_loss: 0.4575 - val_accuracy: 0.8794\n",
      "Epoch 18/100\n",
      "612/612 [==============================] - 2s 4ms/step - loss: 0.4672 - accuracy: 0.8764 - val_loss: 0.4419 - val_accuracy: 0.8816\n",
      "Epoch 19/100\n",
      "612/612 [==============================] - 2s 4ms/step - loss: 0.4520 - accuracy: 0.8802 - val_loss: 0.4272 - val_accuracy: 0.8852\n",
      "Epoch 20/100\n",
      "612/612 [==============================] - 2s 3ms/step - loss: 0.4387 - accuracy: 0.8828 - val_loss: 0.4155 - val_accuracy: 0.8879\n",
      "Epoch 21/100\n",
      "612/612 [==============================] - 2s 3ms/step - loss: 0.4271 - accuracy: 0.8848 - val_loss: 0.4052 - val_accuracy: 0.8915\n",
      "Epoch 22/100\n",
      "612/612 [==============================] - 2s 4ms/step - loss: 0.4169 - accuracy: 0.8868 - val_loss: 0.3954 - val_accuracy: 0.8916\n",
      "Epoch 23/100\n",
      "612/612 [==============================] - 2s 4ms/step - loss: 0.4077 - accuracy: 0.8889 - val_loss: 0.3863 - val_accuracy: 0.8936\n",
      "Epoch 24/100\n",
      "612/612 [==============================] - 2s 4ms/step - loss: 0.3995 - accuracy: 0.8902 - val_loss: 0.3784 - val_accuracy: 0.8948\n",
      "Epoch 25/100\n",
      "612/612 [==============================] - 2s 3ms/step - loss: 0.3921 - accuracy: 0.8916 - val_loss: 0.3720 - val_accuracy: 0.8962\n",
      "Epoch 26/100\n",
      "612/612 [==============================] - 2s 3ms/step - loss: 0.3854 - accuracy: 0.8927 - val_loss: 0.3656 - val_accuracy: 0.8974\n",
      "Epoch 27/100\n",
      "612/612 [==============================] - 2s 3ms/step - loss: 0.3793 - accuracy: 0.8940 - val_loss: 0.3603 - val_accuracy: 0.8992\n",
      "Epoch 28/100\n",
      "612/612 [==============================] - 2s 3ms/step - loss: 0.3737 - accuracy: 0.8949 - val_loss: 0.3549 - val_accuracy: 0.8991\n",
      "Epoch 29/100\n",
      "612/612 [==============================] - 2s 3ms/step - loss: 0.3686 - accuracy: 0.8959 - val_loss: 0.3500 - val_accuracy: 0.9005\n",
      "Epoch 30/100\n",
      "612/612 [==============================] - 2s 3ms/step - loss: 0.3639 - accuracy: 0.8972 - val_loss: 0.3459 - val_accuracy: 0.9013\n",
      "Epoch 31/100\n",
      "612/612 [==============================] - 2s 3ms/step - loss: 0.3594 - accuracy: 0.8981 - val_loss: 0.3421 - val_accuracy: 0.9026\n",
      "Epoch 32/100\n",
      "612/612 [==============================] - 2s 4ms/step - loss: 0.3553 - accuracy: 0.8989 - val_loss: 0.3384 - val_accuracy: 0.9034\n",
      "Epoch 33/100\n",
      "612/612 [==============================] - 2s 4ms/step - loss: 0.3515 - accuracy: 0.8994 - val_loss: 0.3345 - val_accuracy: 0.9046\n",
      "Epoch 34/100\n",
      "612/612 [==============================] - 2s 3ms/step - loss: 0.3479 - accuracy: 0.9007 - val_loss: 0.3309 - val_accuracy: 0.9050\n",
      "Epoch 35/100\n",
      "612/612 [==============================] - 2s 3ms/step - loss: 0.3443 - accuracy: 0.9015 - val_loss: 0.3288 - val_accuracy: 0.9055\n",
      "Epoch 36/100\n",
      "612/612 [==============================] - 2s 4ms/step - loss: 0.3413 - accuracy: 0.9026 - val_loss: 0.3248 - val_accuracy: 0.9070\n",
      "Epoch 37/100\n",
      "612/612 [==============================] - 2s 4ms/step - loss: 0.3382 - accuracy: 0.9031 - val_loss: 0.3226 - val_accuracy: 0.9080\n",
      "Epoch 38/100\n",
      "612/612 [==============================] - 2s 4ms/step - loss: 0.3353 - accuracy: 0.9037 - val_loss: 0.3197 - val_accuracy: 0.9078\n",
      "Epoch 39/100\n",
      "612/612 [==============================] - 2s 4ms/step - loss: 0.3325 - accuracy: 0.9044 - val_loss: 0.3173 - val_accuracy: 0.9087\n",
      "Epoch 40/100\n",
      "612/612 [==============================] - 2s 4ms/step - loss: 0.3299 - accuracy: 0.9050 - val_loss: 0.3153 - val_accuracy: 0.9096\n",
      "Epoch 41/100\n",
      "612/612 [==============================] - 2s 4ms/step - loss: 0.3274 - accuracy: 0.9052 - val_loss: 0.3123 - val_accuracy: 0.9104\n",
      "Epoch 42/100\n",
      "612/612 [==============================] - 2s 3ms/step - loss: 0.3250 - accuracy: 0.9063 - val_loss: 0.3104 - val_accuracy: 0.9119\n",
      "Epoch 43/100\n",
      "612/612 [==============================] - 2s 4ms/step - loss: 0.3225 - accuracy: 0.9074 - val_loss: 0.3081 - val_accuracy: 0.9116\n",
      "Epoch 44/100\n",
      "612/612 [==============================] - 2s 4ms/step - loss: 0.3204 - accuracy: 0.9076 - val_loss: 0.3068 - val_accuracy: 0.9117\n",
      "Epoch 45/100\n",
      "612/612 [==============================] - 2s 4ms/step - loss: 0.3182 - accuracy: 0.9082 - val_loss: 0.3050 - val_accuracy: 0.9138\n",
      "Epoch 46/100\n",
      "612/612 [==============================] - 2s 4ms/step - loss: 0.3162 - accuracy: 0.9087 - val_loss: 0.3022 - val_accuracy: 0.9133\n",
      "Epoch 47/100\n",
      "612/612 [==============================] - 2s 3ms/step - loss: 0.3141 - accuracy: 0.9094 - val_loss: 0.3010 - val_accuracy: 0.9127\n",
      "Epoch 48/100\n",
      "612/612 [==============================] - 2s 4ms/step - loss: 0.3122 - accuracy: 0.9106 - val_loss: 0.2991 - val_accuracy: 0.9145\n",
      "Epoch 49/100\n",
      "612/612 [==============================] - 2s 4ms/step - loss: 0.3103 - accuracy: 0.9104 - val_loss: 0.2976 - val_accuracy: 0.9157\n",
      "Epoch 50/100\n",
      "612/612 [==============================] - 2s 4ms/step - loss: 0.3084 - accuracy: 0.9108 - val_loss: 0.2963 - val_accuracy: 0.9153\n",
      "Epoch 51/100\n",
      "612/612 [==============================] - 2s 3ms/step - loss: 0.3066 - accuracy: 0.9114 - val_loss: 0.2940 - val_accuracy: 0.9162\n",
      "Epoch 52/100\n",
      "612/612 [==============================] - 2s 4ms/step - loss: 0.3049 - accuracy: 0.9120 - val_loss: 0.2924 - val_accuracy: 0.9165\n",
      "Epoch 53/100\n",
      "612/612 [==============================] - 3s 4ms/step - loss: 0.3032 - accuracy: 0.9130 - val_loss: 0.2909 - val_accuracy: 0.9165\n",
      "Epoch 54/100\n",
      "612/612 [==============================] - 2s 4ms/step - loss: 0.3015 - accuracy: 0.9127 - val_loss: 0.2892 - val_accuracy: 0.9169\n",
      "Epoch 55/100\n",
      "612/612 [==============================] - 2s 3ms/step - loss: 0.2999 - accuracy: 0.9136 - val_loss: 0.2876 - val_accuracy: 0.9180\n",
      "Epoch 56/100\n",
      "612/612 [==============================] - 2s 4ms/step - loss: 0.2983 - accuracy: 0.9137 - val_loss: 0.2865 - val_accuracy: 0.9171\n",
      "Epoch 57/100\n",
      "612/612 [==============================] - 2s 4ms/step - loss: 0.2968 - accuracy: 0.9142 - val_loss: 0.2852 - val_accuracy: 0.9188\n",
      "Epoch 58/100\n",
      "612/612 [==============================] - 2s 3ms/step - loss: 0.2953 - accuracy: 0.9146 - val_loss: 0.2841 - val_accuracy: 0.9183\n",
      "Epoch 59/100\n",
      "612/612 [==============================] - 2s 3ms/step - loss: 0.2938 - accuracy: 0.9147 - val_loss: 0.2827 - val_accuracy: 0.9182\n",
      "Epoch 60/100\n",
      "612/612 [==============================] - 2s 4ms/step - loss: 0.2924 - accuracy: 0.9153 - val_loss: 0.2817 - val_accuracy: 0.9191\n",
      "Epoch 61/100\n",
      "612/612 [==============================] - 2s 3ms/step - loss: 0.2908 - accuracy: 0.9158 - val_loss: 0.2803 - val_accuracy: 0.9191\n",
      "Epoch 62/100\n",
      "612/612 [==============================] - 2s 3ms/step - loss: 0.2895 - accuracy: 0.9164 - val_loss: 0.2791 - val_accuracy: 0.9189\n",
      "Epoch 63/100\n",
      "612/612 [==============================] - 2s 3ms/step - loss: 0.2881 - accuracy: 0.9168 - val_loss: 0.2778 - val_accuracy: 0.9201\n",
      "Epoch 64/100\n",
      "612/612 [==============================] - 2s 4ms/step - loss: 0.2867 - accuracy: 0.9171 - val_loss: 0.2770 - val_accuracy: 0.9203\n",
      "Epoch 65/100\n",
      "612/612 [==============================] - 2s 3ms/step - loss: 0.2854 - accuracy: 0.9176 - val_loss: 0.2752 - val_accuracy: 0.9201\n",
      "Epoch 66/100\n",
      "612/612 [==============================] - 2s 3ms/step - loss: 0.2841 - accuracy: 0.9176 - val_loss: 0.2739 - val_accuracy: 0.9211\n",
      "Epoch 67/100\n",
      "612/612 [==============================] - 2s 3ms/step - loss: 0.2826 - accuracy: 0.9182 - val_loss: 0.2730 - val_accuracy: 0.9206\n",
      "Epoch 68/100\n",
      "612/612 [==============================] - 2s 3ms/step - loss: 0.2815 - accuracy: 0.9183 - val_loss: 0.2730 - val_accuracy: 0.9208\n",
      "Epoch 69/100\n",
      "612/612 [==============================] - 2s 3ms/step - loss: 0.2803 - accuracy: 0.9187 - val_loss: 0.2708 - val_accuracy: 0.9221\n",
      "Epoch 70/100\n",
      "612/612 [==============================] - 2s 4ms/step - loss: 0.2790 - accuracy: 0.9190 - val_loss: 0.2699 - val_accuracy: 0.9216\n",
      "Epoch 71/100\n",
      "612/612 [==============================] - 2s 3ms/step - loss: 0.2778 - accuracy: 0.9191 - val_loss: 0.2689 - val_accuracy: 0.9220\n",
      "Epoch 72/100\n",
      "612/612 [==============================] - 2s 3ms/step - loss: 0.2765 - accuracy: 0.9196 - val_loss: 0.2677 - val_accuracy: 0.9230\n",
      "Epoch 73/100\n",
      "612/612 [==============================] - 2s 3ms/step - loss: 0.2754 - accuracy: 0.9199 - val_loss: 0.2663 - val_accuracy: 0.9223\n",
      "Epoch 74/100\n",
      "612/612 [==============================] - 2s 4ms/step - loss: 0.2742 - accuracy: 0.9204 - val_loss: 0.2657 - val_accuracy: 0.9221\n",
      "Epoch 75/100\n",
      "612/612 [==============================] - 2s 3ms/step - loss: 0.2730 - accuracy: 0.9204 - val_loss: 0.2650 - val_accuracy: 0.9235\n",
      "Epoch 76/100\n",
      "612/612 [==============================] - 2s 3ms/step - loss: 0.2719 - accuracy: 0.9209 - val_loss: 0.2641 - val_accuracy: 0.9239\n",
      "Epoch 77/100\n",
      "612/612 [==============================] - 2s 3ms/step - loss: 0.2707 - accuracy: 0.9209 - val_loss: 0.2629 - val_accuracy: 0.9240\n",
      "Epoch 78/100\n",
      "612/612 [==============================] - 2s 3ms/step - loss: 0.2695 - accuracy: 0.9214 - val_loss: 0.2613 - val_accuracy: 0.9239\n",
      "Epoch 79/100\n",
      "612/612 [==============================] - 2s 4ms/step - loss: 0.2684 - accuracy: 0.9219 - val_loss: 0.2607 - val_accuracy: 0.9246\n",
      "Epoch 80/100\n",
      "612/612 [==============================] - 2s 3ms/step - loss: 0.2672 - accuracy: 0.9224 - val_loss: 0.2600 - val_accuracy: 0.9250\n",
      "Epoch 81/100\n",
      "612/612 [==============================] - 2s 3ms/step - loss: 0.2661 - accuracy: 0.9226 - val_loss: 0.2595 - val_accuracy: 0.9253\n",
      "Epoch 82/100\n",
      "612/612 [==============================] - 2s 3ms/step - loss: 0.2651 - accuracy: 0.9225 - val_loss: 0.2571 - val_accuracy: 0.9252\n",
      "Epoch 83/100\n",
      "612/612 [==============================] - 2s 3ms/step - loss: 0.2640 - accuracy: 0.9229 - val_loss: 0.2565 - val_accuracy: 0.9260\n",
      "Epoch 84/100\n",
      "612/612 [==============================] - 2s 4ms/step - loss: 0.2629 - accuracy: 0.9235 - val_loss: 0.2559 - val_accuracy: 0.9263\n",
      "Epoch 85/100\n",
      "612/612 [==============================] - 2s 3ms/step - loss: 0.2617 - accuracy: 0.9236 - val_loss: 0.2551 - val_accuracy: 0.9262\n",
      "Epoch 86/100\n",
      "612/612 [==============================] - 2s 3ms/step - loss: 0.2608 - accuracy: 0.9239 - val_loss: 0.2541 - val_accuracy: 0.9268\n",
      "Epoch 87/100\n",
      "612/612 [==============================] - 2s 4ms/step - loss: 0.2597 - accuracy: 0.9243 - val_loss: 0.2534 - val_accuracy: 0.9274\n",
      "Epoch 88/100\n",
      "612/612 [==============================] - 2s 3ms/step - loss: 0.2586 - accuracy: 0.9248 - val_loss: 0.2521 - val_accuracy: 0.9276\n",
      "Epoch 89/100\n",
      "612/612 [==============================] - 2s 4ms/step - loss: 0.2575 - accuracy: 0.9254 - val_loss: 0.2511 - val_accuracy: 0.9269\n",
      "Epoch 90/100\n",
      "612/612 [==============================] - 2s 3ms/step - loss: 0.2565 - accuracy: 0.9252 - val_loss: 0.2512 - val_accuracy: 0.9279\n",
      "Epoch 91/100\n",
      "612/612 [==============================] - 2s 3ms/step - loss: 0.2556 - accuracy: 0.9256 - val_loss: 0.2491 - val_accuracy: 0.9285\n",
      "Epoch 92/100\n",
      "612/612 [==============================] - 2s 4ms/step - loss: 0.2544 - accuracy: 0.9257 - val_loss: 0.2491 - val_accuracy: 0.9283\n",
      "Epoch 93/100\n",
      "612/612 [==============================] - 2s 3ms/step - loss: 0.2535 - accuracy: 0.9263 - val_loss: 0.2476 - val_accuracy: 0.9297\n",
      "Epoch 94/100\n",
      "612/612 [==============================] - 2s 3ms/step - loss: 0.2525 - accuracy: 0.9263 - val_loss: 0.2477 - val_accuracy: 0.9281\n",
      "Epoch 95/100\n",
      "612/612 [==============================] - 2s 3ms/step - loss: 0.2515 - accuracy: 0.9270 - val_loss: 0.2462 - val_accuracy: 0.9287\n",
      "Epoch 96/100\n",
      "612/612 [==============================] - 2s 3ms/step - loss: 0.2505 - accuracy: 0.9269 - val_loss: 0.2446 - val_accuracy: 0.9298\n",
      "Epoch 97/100\n",
      "612/612 [==============================] - 2s 4ms/step - loss: 0.2494 - accuracy: 0.9275 - val_loss: 0.2439 - val_accuracy: 0.9300\n",
      "Epoch 98/100\n",
      "612/612 [==============================] - 2s 3ms/step - loss: 0.2484 - accuracy: 0.9277 - val_loss: 0.2433 - val_accuracy: 0.9296\n",
      "Epoch 99/100\n",
      "612/612 [==============================] - 2s 3ms/step - loss: 0.2474 - accuracy: 0.9280 - val_loss: 0.2420 - val_accuracy: 0.9308\n",
      "Epoch 100/100\n",
      "612/612 [==============================] - 2s 3ms/step - loss: 0.2465 - accuracy: 0.9282 - val_loss: 0.2416 - val_accuracy: 0.9308\n"
     ]
    }
   ],
   "source": [
    "from keras.models import Sequential\n",
    "from keras.layers import Dense\n",
    "from keras.layers import Flatten\n",
    "from keras.layers import InputLayer\n",
    "\n",
    "from keras.callbacks import History\n",
    "\n",
    "keras.backend.clear_session()\n",
    "np.random.seed(42)\n",
    "tf.random.set_seed(42)\n",
    "\n",
    "history = History()\n",
    "model = Sequential()\n",
    "model.add(Flatten(input_shape=(28,28)))\n",
    "model.add(Dense(300,activation=\"sigmoid\"))\n",
    "model.add(Dense(100,activation=\"sigmoid\"))\n",
    "model.add(Dense(10,activation=\"softmax\"))\n",
    "model.summary()\n",
    "\n",
    "model.compile(loss=\"categorical_crossentropy\",\n",
    "              optimizer=\"sgd\",\n",
    "              metrics=[\"accuracy\"])\n",
    "\n",
    "\n",
    "run_logdir = get_run_logdir()\n",
    "\n",
    "tensorboard_cb = TensorBoard(run_logdir)\n",
    "history = model.fit(X_train, y_train, epochs=100, batch_size=90, validation_data=(X_test, y_test), callbacks=[tensorboard_cb])"
   ],
   "metadata": {
    "collapsed": false,
    "pycharm": {
     "name": "#%%\n"
    }
   }
  },
  {
   "cell_type": "code",
   "execution_count": 27,
   "metadata": {
    "pycharm": {
     "name": "#%%\n"
    }
   },
   "outputs": [
    {
     "name": "stdout",
     "output_type": "stream",
     "text": [
      "Model: \"sequential\"\n",
      "_________________________________________________________________\n",
      " Layer (type)                Output Shape              Param #   \n",
      "=================================================================\n",
      " flatten (Flatten)           (None, 784)               0         \n",
      "                                                                 \n",
      " dense (Dense)               (None, 300)               235500    \n",
      "                                                                 \n",
      " dense_1 (Dense)             (None, 100)               30100     \n",
      "                                                                 \n",
      " dense_2 (Dense)             (None, 10)                1010      \n",
      "                                                                 \n",
      "=================================================================\n",
      "Total params: 266,610\n",
      "Trainable params: 266,610\n",
      "Non-trainable params: 0\n",
      "_________________________________________________________________\n",
      "Epoch 1/100\n",
      "612/612 [==============================] - 2s 4ms/step - loss: 2.2759 - accuracy: 0.2070 - val_loss: 2.2227 - val_accuracy: 0.2779\n",
      "Epoch 2/100\n",
      "612/612 [==============================] - 2s 3ms/step - loss: 2.1698 - accuracy: 0.4292 - val_loss: 2.1030 - val_accuracy: 0.4397\n",
      "Epoch 3/100\n",
      "612/612 [==============================] - 2s 3ms/step - loss: 2.0204 - accuracy: 0.5556 - val_loss: 1.9108 - val_accuracy: 0.5961\n",
      "Epoch 4/100\n",
      "612/612 [==============================] - 2s 4ms/step - loss: 1.7891 - accuracy: 0.6299 - val_loss: 1.6358 - val_accuracy: 0.6532\n",
      "Epoch 5/100\n",
      "612/612 [==============================] - 2s 3ms/step - loss: 1.5059 - accuracy: 0.6819 - val_loss: 1.3529 - val_accuracy: 0.7227\n",
      "Epoch 6/100\n",
      "612/612 [==============================] - 2s 4ms/step - loss: 1.2511 - accuracy: 0.7273 - val_loss: 1.1290 - val_accuracy: 0.7463\n",
      "Epoch 7/100\n",
      "612/612 [==============================] - 2s 3ms/step - loss: 1.0616 - accuracy: 0.7581 - val_loss: 0.9697 - val_accuracy: 0.7797\n",
      "Epoch 8/100\n",
      "612/612 [==============================] - 2s 3ms/step - loss: 0.9255 - accuracy: 0.7853 - val_loss: 0.8554 - val_accuracy: 0.7978\n",
      "Epoch 9/100\n",
      "612/612 [==============================] - 2s 3ms/step - loss: 0.8242 - accuracy: 0.8042 - val_loss: 0.7669 - val_accuracy: 0.8203\n",
      "Epoch 10/100\n",
      "612/612 [==============================] - 2s 3ms/step - loss: 0.7456 - accuracy: 0.8213 - val_loss: 0.6961 - val_accuracy: 0.8343\n",
      "Epoch 11/100\n",
      "612/612 [==============================] - 2s 3ms/step - loss: 0.6830 - accuracy: 0.8334 - val_loss: 0.6400 - val_accuracy: 0.8439\n",
      "Epoch 12/100\n",
      "612/612 [==============================] - 2s 4ms/step - loss: 0.6326 - accuracy: 0.8431 - val_loss: 0.5935 - val_accuracy: 0.8543\n",
      "Epoch 13/100\n",
      "612/612 [==============================] - 2s 3ms/step - loss: 0.5914 - accuracy: 0.8512 - val_loss: 0.5560 - val_accuracy: 0.8607\n",
      "Epoch 14/100\n",
      "612/612 [==============================] - 2s 4ms/step - loss: 0.5573 - accuracy: 0.8585 - val_loss: 0.5264 - val_accuracy: 0.8683\n",
      "Epoch 15/100\n",
      "612/612 [==============================] - 2s 3ms/step - loss: 0.5289 - accuracy: 0.8644 - val_loss: 0.4997 - val_accuracy: 0.8703\n",
      "Epoch 16/100\n",
      "612/612 [==============================] - 2s 3ms/step - loss: 0.5049 - accuracy: 0.8694 - val_loss: 0.4775 - val_accuracy: 0.8749\n",
      "Epoch 17/100\n",
      "612/612 [==============================] - 2s 3ms/step - loss: 0.4847 - accuracy: 0.8736 - val_loss: 0.4575 - val_accuracy: 0.8794\n",
      "Epoch 18/100\n",
      "612/612 [==============================] - 2s 3ms/step - loss: 0.4672 - accuracy: 0.8764 - val_loss: 0.4419 - val_accuracy: 0.8816\n",
      "Epoch 19/100\n",
      "612/612 [==============================] - 2s 3ms/step - loss: 0.4520 - accuracy: 0.8802 - val_loss: 0.4272 - val_accuracy: 0.8852\n",
      "Epoch 20/100\n",
      "612/612 [==============================] - 2s 3ms/step - loss: 0.4387 - accuracy: 0.8828 - val_loss: 0.4155 - val_accuracy: 0.8879\n",
      "Epoch 21/100\n",
      "612/612 [==============================] - 2s 3ms/step - loss: 0.4271 - accuracy: 0.8848 - val_loss: 0.4052 - val_accuracy: 0.8915\n",
      "Epoch 22/100\n",
      "612/612 [==============================] - 2s 4ms/step - loss: 0.4169 - accuracy: 0.8868 - val_loss: 0.3954 - val_accuracy: 0.8916\n",
      "Epoch 23/100\n",
      "612/612 [==============================] - 2s 3ms/step - loss: 0.4077 - accuracy: 0.8889 - val_loss: 0.3863 - val_accuracy: 0.8936\n",
      "Epoch 24/100\n",
      "612/612 [==============================] - 2s 3ms/step - loss: 0.3995 - accuracy: 0.8902 - val_loss: 0.3784 - val_accuracy: 0.8948\n",
      "Epoch 25/100\n",
      "612/612 [==============================] - 2s 4ms/step - loss: 0.3921 - accuracy: 0.8916 - val_loss: 0.3720 - val_accuracy: 0.8962\n",
      "Epoch 26/100\n",
      "612/612 [==============================] - 2s 4ms/step - loss: 0.3854 - accuracy: 0.8927 - val_loss: 0.3656 - val_accuracy: 0.8974\n",
      "Epoch 27/100\n",
      "612/612 [==============================] - 2s 3ms/step - loss: 0.3793 - accuracy: 0.8940 - val_loss: 0.3603 - val_accuracy: 0.8992\n",
      "Epoch 28/100\n",
      "612/612 [==============================] - 2s 3ms/step - loss: 0.3737 - accuracy: 0.8949 - val_loss: 0.3549 - val_accuracy: 0.8991\n",
      "Epoch 29/100\n",
      "612/612 [==============================] - 2s 3ms/step - loss: 0.3686 - accuracy: 0.8959 - val_loss: 0.3500 - val_accuracy: 0.9005\n",
      "Epoch 30/100\n",
      "612/612 [==============================] - 2s 3ms/step - loss: 0.3639 - accuracy: 0.8972 - val_loss: 0.3459 - val_accuracy: 0.9013\n",
      "Epoch 31/100\n",
      "612/612 [==============================] - 2s 3ms/step - loss: 0.3594 - accuracy: 0.8981 - val_loss: 0.3421 - val_accuracy: 0.9026\n",
      "Epoch 32/100\n",
      "612/612 [==============================] - 2s 3ms/step - loss: 0.3553 - accuracy: 0.8989 - val_loss: 0.3384 - val_accuracy: 0.9034\n",
      "Epoch 33/100\n",
      "612/612 [==============================] - 2s 3ms/step - loss: 0.3515 - accuracy: 0.8994 - val_loss: 0.3345 - val_accuracy: 0.9046\n",
      "Epoch 34/100\n",
      "612/612 [==============================] - 2s 3ms/step - loss: 0.3479 - accuracy: 0.9007 - val_loss: 0.3309 - val_accuracy: 0.9050\n",
      "Epoch 35/100\n",
      "612/612 [==============================] - 2s 3ms/step - loss: 0.3443 - accuracy: 0.9015 - val_loss: 0.3288 - val_accuracy: 0.9055\n",
      "Epoch 36/100\n",
      "612/612 [==============================] - 2s 4ms/step - loss: 0.3413 - accuracy: 0.9026 - val_loss: 0.3248 - val_accuracy: 0.9070\n",
      "Epoch 37/100\n",
      "612/612 [==============================] - 2s 3ms/step - loss: 0.3382 - accuracy: 0.9031 - val_loss: 0.3226 - val_accuracy: 0.9080\n",
      "Epoch 38/100\n",
      "612/612 [==============================] - 2s 4ms/step - loss: 0.3353 - accuracy: 0.9037 - val_loss: 0.3197 - val_accuracy: 0.9078\n",
      "Epoch 39/100\n",
      "612/612 [==============================] - 2s 4ms/step - loss: 0.3325 - accuracy: 0.9044 - val_loss: 0.3173 - val_accuracy: 0.9087\n",
      "Epoch 40/100\n",
      "612/612 [==============================] - 2s 3ms/step - loss: 0.3299 - accuracy: 0.9050 - val_loss: 0.3153 - val_accuracy: 0.9096\n",
      "Epoch 41/100\n",
      "612/612 [==============================] - 2s 3ms/step - loss: 0.3274 - accuracy: 0.9052 - val_loss: 0.3123 - val_accuracy: 0.9104\n",
      "Epoch 42/100\n",
      "612/612 [==============================] - 2s 3ms/step - loss: 0.3250 - accuracy: 0.9063 - val_loss: 0.3104 - val_accuracy: 0.9119\n",
      "Epoch 43/100\n",
      "612/612 [==============================] - 2s 3ms/step - loss: 0.3225 - accuracy: 0.9074 - val_loss: 0.3081 - val_accuracy: 0.9116\n",
      "Epoch 44/100\n",
      "612/612 [==============================] - 2s 3ms/step - loss: 0.3204 - accuracy: 0.9076 - val_loss: 0.3068 - val_accuracy: 0.9117\n",
      "Epoch 45/100\n",
      "612/612 [==============================] - 2s 3ms/step - loss: 0.3182 - accuracy: 0.9082 - val_loss: 0.3050 - val_accuracy: 0.9138\n",
      "Epoch 46/100\n",
      "612/612 [==============================] - 2s 3ms/step - loss: 0.3162 - accuracy: 0.9087 - val_loss: 0.3022 - val_accuracy: 0.9133\n",
      "Epoch 47/100\n",
      "612/612 [==============================] - 2s 3ms/step - loss: 0.3141 - accuracy: 0.9094 - val_loss: 0.3010 - val_accuracy: 0.9127\n",
      "Epoch 48/100\n",
      "612/612 [==============================] - 2s 4ms/step - loss: 0.3122 - accuracy: 0.9106 - val_loss: 0.2991 - val_accuracy: 0.9145\n",
      "Epoch 49/100\n",
      "612/612 [==============================] - 2s 3ms/step - loss: 0.3103 - accuracy: 0.9104 - val_loss: 0.2976 - val_accuracy: 0.9157\n",
      "Epoch 50/100\n",
      "612/612 [==============================] - 2s 3ms/step - loss: 0.3084 - accuracy: 0.9108 - val_loss: 0.2963 - val_accuracy: 0.9153\n",
      "Epoch 51/100\n",
      "612/612 [==============================] - 2s 3ms/step - loss: 0.3066 - accuracy: 0.9114 - val_loss: 0.2940 - val_accuracy: 0.9162\n",
      "Epoch 52/100\n",
      "612/612 [==============================] - 2s 3ms/step - loss: 0.3049 - accuracy: 0.9120 - val_loss: 0.2924 - val_accuracy: 0.9165\n",
      "Epoch 53/100\n",
      "612/612 [==============================] - 2s 3ms/step - loss: 0.3032 - accuracy: 0.9130 - val_loss: 0.2909 - val_accuracy: 0.9165\n",
      "Epoch 54/100\n",
      "612/612 [==============================] - 2s 3ms/step - loss: 0.3015 - accuracy: 0.9127 - val_loss: 0.2892 - val_accuracy: 0.9169\n",
      "Epoch 55/100\n",
      "612/612 [==============================] - 2s 3ms/step - loss: 0.2999 - accuracy: 0.9136 - val_loss: 0.2876 - val_accuracy: 0.9180\n",
      "Epoch 56/100\n",
      "612/612 [==============================] - 2s 3ms/step - loss: 0.2983 - accuracy: 0.9137 - val_loss: 0.2865 - val_accuracy: 0.9171\n",
      "Epoch 57/100\n",
      "612/612 [==============================] - 2s 4ms/step - loss: 0.2968 - accuracy: 0.9142 - val_loss: 0.2852 - val_accuracy: 0.9188\n",
      "Epoch 58/100\n",
      "612/612 [==============================] - 2s 4ms/step - loss: 0.2953 - accuracy: 0.9146 - val_loss: 0.2841 - val_accuracy: 0.9183\n",
      "Epoch 59/100\n",
      "612/612 [==============================] - 2s 4ms/step - loss: 0.2938 - accuracy: 0.9147 - val_loss: 0.2827 - val_accuracy: 0.9182\n",
      "Epoch 60/100\n",
      "612/612 [==============================] - 2s 4ms/step - loss: 0.2924 - accuracy: 0.9153 - val_loss: 0.2817 - val_accuracy: 0.9191\n",
      "Epoch 61/100\n",
      "612/612 [==============================] - 2s 3ms/step - loss: 0.2908 - accuracy: 0.9158 - val_loss: 0.2803 - val_accuracy: 0.9191\n",
      "Epoch 62/100\n",
      "612/612 [==============================] - 2s 3ms/step - loss: 0.2895 - accuracy: 0.9164 - val_loss: 0.2791 - val_accuracy: 0.9189\n",
      "Epoch 63/100\n",
      "612/612 [==============================] - 2s 3ms/step - loss: 0.2881 - accuracy: 0.9168 - val_loss: 0.2778 - val_accuracy: 0.9201\n",
      "Epoch 64/100\n",
      "612/612 [==============================] - 2s 3ms/step - loss: 0.2867 - accuracy: 0.9171 - val_loss: 0.2770 - val_accuracy: 0.9203\n",
      "Epoch 65/100\n",
      "612/612 [==============================] - 2s 3ms/step - loss: 0.2854 - accuracy: 0.9176 - val_loss: 0.2752 - val_accuracy: 0.9201\n",
      "Epoch 66/100\n",
      "612/612 [==============================] - 2s 3ms/step - loss: 0.2841 - accuracy: 0.9176 - val_loss: 0.2739 - val_accuracy: 0.9211\n",
      "Epoch 67/100\n",
      "612/612 [==============================] - 2s 3ms/step - loss: 0.2826 - accuracy: 0.9182 - val_loss: 0.2730 - val_accuracy: 0.9206\n",
      "Epoch 68/100\n",
      "612/612 [==============================] - 2s 3ms/step - loss: 0.2815 - accuracy: 0.9183 - val_loss: 0.2730 - val_accuracy: 0.9208\n",
      "Epoch 69/100\n",
      "612/612 [==============================] - 2s 3ms/step - loss: 0.2803 - accuracy: 0.9187 - val_loss: 0.2708 - val_accuracy: 0.9221\n",
      "Epoch 70/100\n",
      "612/612 [==============================] - 2s 3ms/step - loss: 0.2790 - accuracy: 0.9190 - val_loss: 0.2699 - val_accuracy: 0.9216\n",
      "Epoch 71/100\n",
      "612/612 [==============================] - 2s 3ms/step - loss: 0.2778 - accuracy: 0.9191 - val_loss: 0.2689 - val_accuracy: 0.9220\n",
      "Epoch 72/100\n",
      "612/612 [==============================] - 2s 4ms/step - loss: 0.2765 - accuracy: 0.9196 - val_loss: 0.2677 - val_accuracy: 0.9230\n",
      "Epoch 73/100\n",
      "612/612 [==============================] - 2s 3ms/step - loss: 0.2754 - accuracy: 0.9199 - val_loss: 0.2663 - val_accuracy: 0.9223\n",
      "Epoch 74/100\n",
      "612/612 [==============================] - 2s 3ms/step - loss: 0.2742 - accuracy: 0.9204 - val_loss: 0.2657 - val_accuracy: 0.9221\n",
      "Epoch 75/100\n",
      "612/612 [==============================] - 2s 3ms/step - loss: 0.2730 - accuracy: 0.9204 - val_loss: 0.2650 - val_accuracy: 0.9235\n",
      "Epoch 76/100\n",
      "612/612 [==============================] - 2s 4ms/step - loss: 0.2719 - accuracy: 0.9209 - val_loss: 0.2641 - val_accuracy: 0.9239\n",
      "Epoch 77/100\n",
      "612/612 [==============================] - 2s 3ms/step - loss: 0.2707 - accuracy: 0.9209 - val_loss: 0.2629 - val_accuracy: 0.9240\n",
      "Epoch 78/100\n",
      "612/612 [==============================] - 2s 4ms/step - loss: 0.2695 - accuracy: 0.9214 - val_loss: 0.2613 - val_accuracy: 0.9239\n",
      "Epoch 79/100\n",
      "612/612 [==============================] - 2s 3ms/step - loss: 0.2684 - accuracy: 0.9219 - val_loss: 0.2607 - val_accuracy: 0.9246\n",
      "Epoch 80/100\n",
      "612/612 [==============================] - 2s 3ms/step - loss: 0.2672 - accuracy: 0.9224 - val_loss: 0.2600 - val_accuracy: 0.9250\n",
      "Epoch 81/100\n",
      "612/612 [==============================] - 2s 4ms/step - loss: 0.2661 - accuracy: 0.9226 - val_loss: 0.2595 - val_accuracy: 0.9253\n",
      "Epoch 82/100\n",
      "612/612 [==============================] - 2s 4ms/step - loss: 0.2651 - accuracy: 0.9225 - val_loss: 0.2571 - val_accuracy: 0.9252\n",
      "Epoch 83/100\n",
      "612/612 [==============================] - 2s 4ms/step - loss: 0.2640 - accuracy: 0.9229 - val_loss: 0.2565 - val_accuracy: 0.9260\n",
      "Epoch 84/100\n",
      "612/612 [==============================] - 2s 4ms/step - loss: 0.2629 - accuracy: 0.9235 - val_loss: 0.2559 - val_accuracy: 0.9263\n",
      "Epoch 85/100\n",
      "612/612 [==============================] - 2s 4ms/step - loss: 0.2617 - accuracy: 0.9236 - val_loss: 0.2551 - val_accuracy: 0.9262\n",
      "Epoch 86/100\n",
      "612/612 [==============================] - 2s 4ms/step - loss: 0.2608 - accuracy: 0.9239 - val_loss: 0.2541 - val_accuracy: 0.9268\n",
      "Epoch 87/100\n",
      "612/612 [==============================] - 2s 3ms/step - loss: 0.2597 - accuracy: 0.9243 - val_loss: 0.2534 - val_accuracy: 0.9274\n",
      "Epoch 88/100\n",
      "612/612 [==============================] - 2s 4ms/step - loss: 0.2586 - accuracy: 0.9248 - val_loss: 0.2521 - val_accuracy: 0.9276\n",
      "Epoch 89/100\n",
      "612/612 [==============================] - 2s 3ms/step - loss: 0.2575 - accuracy: 0.9254 - val_loss: 0.2511 - val_accuracy: 0.9269\n",
      "Epoch 90/100\n",
      "612/612 [==============================] - 2s 4ms/step - loss: 0.2565 - accuracy: 0.9252 - val_loss: 0.2512 - val_accuracy: 0.9279\n",
      "Epoch 91/100\n",
      "612/612 [==============================] - 2s 4ms/step - loss: 0.2556 - accuracy: 0.9256 - val_loss: 0.2491 - val_accuracy: 0.9285\n",
      "Epoch 92/100\n",
      "612/612 [==============================] - 2s 3ms/step - loss: 0.2544 - accuracy: 0.9257 - val_loss: 0.2491 - val_accuracy: 0.9283\n",
      "Epoch 93/100\n",
      "612/612 [==============================] - 2s 4ms/step - loss: 0.2535 - accuracy: 0.9263 - val_loss: 0.2476 - val_accuracy: 0.9297\n",
      "Epoch 94/100\n",
      "612/612 [==============================] - 2s 4ms/step - loss: 0.2525 - accuracy: 0.9263 - val_loss: 0.2477 - val_accuracy: 0.9281\n",
      "Epoch 95/100\n",
      "612/612 [==============================] - 2s 4ms/step - loss: 0.2515 - accuracy: 0.9270 - val_loss: 0.2462 - val_accuracy: 0.9287\n",
      "Epoch 96/100\n",
      "612/612 [==============================] - 2s 4ms/step - loss: 0.2505 - accuracy: 0.9269 - val_loss: 0.2446 - val_accuracy: 0.9298\n",
      "Epoch 97/100\n",
      "612/612 [==============================] - 2s 4ms/step - loss: 0.2494 - accuracy: 0.9275 - val_loss: 0.2439 - val_accuracy: 0.9300\n",
      "Epoch 98/100\n",
      "612/612 [==============================] - 2s 4ms/step - loss: 0.2484 - accuracy: 0.9277 - val_loss: 0.2433 - val_accuracy: 0.9296\n",
      "Epoch 99/100\n",
      "612/612 [==============================] - 2s 3ms/step - loss: 0.2474 - accuracy: 0.9280 - val_loss: 0.2420 - val_accuracy: 0.9308\n",
      "Epoch 100/100\n",
      "612/612 [==============================] - 2s 4ms/step - loss: 0.2465 - accuracy: 0.9282 - val_loss: 0.2416 - val_accuracy: 0.9308\n"
     ]
    }
   ],
   "source": [
    "from keras.models import Sequential\n",
    "from keras.layers import Dense\n",
    "from keras.layers import Flatten\n",
    "from keras.layers import InputLayer\n",
    "\n",
    "from keras.callbacks import History\n",
    "\n",
    "keras.backend.clear_session()\n",
    "np.random.seed(42)\n",
    "tf.random.set_seed(42)\n",
    "\n",
    "history = History()\n",
    "model = Sequential()\n",
    "model.add(Flatten(input_shape=(28,28)))\n",
    "model.add(Dense(300,activation=\"sigmoid\"))\n",
    "model.add(Dense(100,activation=\"sigmoid\"))\n",
    "model.add(Dense(10,activation=\"softmax\"))\n",
    "model.summary()\n",
    "\n",
    "model.compile(loss=\"categorical_crossentropy\",\n",
    "              optimizer=\"sgd\",\n",
    "              metrics=[\"accuracy\"])\n",
    "\n",
    "\n",
    "run_logdir = get_run_logdir()\n",
    "\n",
    "tensorboard_cb = TensorBoard(run_logdir)\n",
    "history = model.fit(X_train, y_train, epochs=100, batch_size=90, validation_data=(X_test, y_test), callbacks=[tensorboard_cb])"
   ]
  },
  {
   "cell_type": "code",
   "execution_count": 27,
   "metadata": {
    "pycharm": {
     "name": "#%%\n"
    }
   },
   "outputs": [],
   "source": []
  }
 ],
 "metadata": {
  "kernelspec": {
   "display_name": "Python 3",
   "language": "python",
   "name": "python3"
  },
  "language_info": {
   "codemirror_mode": {
    "name": "ipython",
    "version": 3
   },
   "file_extension": ".py",
   "mimetype": "text/x-python",
   "name": "python",
   "nbconvert_exporter": "python",
   "pygments_lexer": "ipython3",
   "version": "3.8.9"
  }
 },
 "nbformat": 4,
 "nbformat_minor": 4
}